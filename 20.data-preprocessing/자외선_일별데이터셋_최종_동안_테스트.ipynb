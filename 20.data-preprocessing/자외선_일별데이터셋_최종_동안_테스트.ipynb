{
 "cells": [
  {
   "cell_type": "code",
   "execution_count": 12,
   "id": "52414779",
   "metadata": {},
   "outputs": [],
   "source": [
    "import pandas as pd\n",
    "from sqlalchemy import create_engine\n",
    "import json\n",
    "\n",
    "# DB 접속 정보 로드\n",
    "with open('db-config.json') as f:\n",
    "    config = json.load(f)\n",
    "\n",
    "user = config['user']\n",
    "password = config['password']\n",
    "host = config['host']\n",
    "port = config['port']\n",
    "database = config['database']\n",
    "\n",
    "# SQLAlchemy 엔진 생성\n",
    "engine = create_engine(f\"mysql+pymysql://{user}:{password}@{host}:{port}/{database}?charset=utf8mb4\")\n",
    "\n"
   ]
  },
  {
   "cell_type": "code",
   "execution_count": 13,
   "id": "8c012550",
   "metadata": {},
   "outputs": [],
   "source": [
    "uv_dataset = pd.read_sql(\"SELECT * FROM uv_dataset\", con=engine)"
   ]
  },
  {
   "cell_type": "code",
   "execution_count": 4,
   "id": "8a6c58d9",
   "metadata": {},
   "outputs": [
    {
     "name": "stdout",
     "output_type": "stream",
     "text": [
      "    datetime region    no2   co    so2     o3  pm10  pm25  temperature  \\\n",
      "0 2015-01-01    서울시  0.026  0.8  0.008  0.032   168    42         -3.8   \n",
      "1 2015-01-02    서울시  0.048  1.0  0.009  0.034    57    27         -0.9   \n",
      "2 2015-01-03    서울시  0.079  1.6  0.012  0.020    76    50          3.0   \n",
      "3 2015-01-04    서울시  0.104  2.7  0.011  0.027    97    53          8.2   \n",
      "4 2015-01-05    서울시  0.106  2.6  0.018  0.028   133    77          9.9   \n",
      "\n",
      "   wind_direction  wind_speed  precipitation  humidity  uv_max  \n",
      "0           358.9         8.3            0.0      71.0     4.7  \n",
      "1           359.6         7.0            0.0      82.0     4.7  \n",
      "2           359.8         3.7            0.0      91.0     4.7  \n",
      "3           359.3         4.2            0.0     100.0     4.7  \n",
      "4           359.3         5.0            0.0     100.0     4.7  \n"
     ]
    }
   ],
   "source": [
    "# 날짜만 추출해 그룹화 기준으로 사용\n",
    "uv_dataset['date'] = pd.to_datetime(uv_dataset['datetime']).dt.date\n",
    "\n",
    "# 하루 기준으로 최대값만 사용 (수치형 변수 기준)\n",
    "daily = uv_dataset.groupby('date').max().reset_index()\n",
    "\n",
    "# datetime 컬럼 재구성 (00:00:00으로 고정)\n",
    "daily['datetime'] = pd.to_datetime(daily['date'].astype(str))  # → '2025-06-27 00:00:00'\n",
    "\n",
    "# region 통일 ('서울시'로)\n",
    "daily['region'] = '서울시'\n",
    "\n",
    "# 불필요한 date 컬럼 제거\n",
    "daily = daily.drop(columns=['date'])\n",
    "\n",
    "# 정렬\n",
    "daily = daily.sort_values(by='datetime').reset_index(drop=True)\n",
    "\n",
    "# 확인\n",
    "print(daily.head())"
   ]
  },
  {
   "cell_type": "code",
   "execution_count": 5,
   "id": "c08b20a5",
   "metadata": {},
   "outputs": [
    {
     "name": "stdout",
     "output_type": "stream",
     "text": [
      "datetime64[ns]\n",
      "0   2015-01-01\n",
      "1   2015-01-02\n",
      "2   2015-01-03\n",
      "3   2015-01-04\n",
      "4   2015-01-05\n",
      "Name: datetime, dtype: datetime64[ns]\n"
     ]
    }
   ],
   "source": [
    "print(daily['datetime'].dtype)\n",
    "print(daily['datetime'].head())"
   ]
  },
  {
   "cell_type": "code",
   "execution_count": 6,
   "id": "6a4dcdca",
   "metadata": {},
   "outputs": [
    {
     "name": "stdout",
     "output_type": "stream",
     "text": [
      "[datetime.time(0, 0)]\n"
     ]
    }
   ],
   "source": [
    "print(daily['datetime'].dt.time.unique())"
   ]
  },
  {
   "cell_type": "code",
   "execution_count": 7,
   "id": "2b8d172a",
   "metadata": {},
   "outputs": [
    {
     "data": {
      "text/plain": [
       "0    2015-01-01 00:00:00\n",
       "1    2015-01-02 00:00:00\n",
       "2    2015-01-03 00:00:00\n",
       "3    2015-01-04 00:00:00\n",
       "4    2015-01-05 00:00:00\n",
       "Name: datetime, dtype: object"
      ]
     },
     "execution_count": 7,
     "metadata": {},
     "output_type": "execute_result"
    }
   ],
   "source": [
    "daily['datetime'].apply(lambda x: x.strftime('%Y-%m-%d %H:%M:%S')).head()"
   ]
  },
  {
   "cell_type": "code",
   "execution_count": 8,
   "id": "37e56cc8",
   "metadata": {},
   "outputs": [
    {
     "data": {
      "text/html": [
       "<div>\n",
       "<style scoped>\n",
       "    .dataframe tbody tr th:only-of-type {\n",
       "        vertical-align: middle;\n",
       "    }\n",
       "\n",
       "    .dataframe tbody tr th {\n",
       "        vertical-align: top;\n",
       "    }\n",
       "\n",
       "    .dataframe thead th {\n",
       "        text-align: right;\n",
       "    }\n",
       "</style>\n",
       "<table border=\"1\" class=\"dataframe\">\n",
       "  <thead>\n",
       "    <tr style=\"text-align: right;\">\n",
       "      <th></th>\n",
       "      <th>datetime</th>\n",
       "      <th>region</th>\n",
       "      <th>no2</th>\n",
       "      <th>co</th>\n",
       "      <th>so2</th>\n",
       "      <th>o3</th>\n",
       "      <th>pm10</th>\n",
       "      <th>pm25</th>\n",
       "      <th>temperature</th>\n",
       "      <th>wind_direction</th>\n",
       "      <th>wind_speed</th>\n",
       "      <th>precipitation</th>\n",
       "      <th>humidity</th>\n",
       "      <th>uv_max</th>\n",
       "    </tr>\n",
       "  </thead>\n",
       "  <tbody>\n",
       "    <tr>\n",
       "      <th>0</th>\n",
       "      <td>2015-01-01</td>\n",
       "      <td>서울시</td>\n",
       "      <td>0.026</td>\n",
       "      <td>0.8</td>\n",
       "      <td>0.008</td>\n",
       "      <td>0.032</td>\n",
       "      <td>168</td>\n",
       "      <td>42</td>\n",
       "      <td>-3.8</td>\n",
       "      <td>358.9</td>\n",
       "      <td>8.3</td>\n",
       "      <td>0.0</td>\n",
       "      <td>71.0</td>\n",
       "      <td>4.7</td>\n",
       "    </tr>\n",
       "    <tr>\n",
       "      <th>1</th>\n",
       "      <td>2015-01-02</td>\n",
       "      <td>서울시</td>\n",
       "      <td>0.048</td>\n",
       "      <td>1.0</td>\n",
       "      <td>0.009</td>\n",
       "      <td>0.034</td>\n",
       "      <td>57</td>\n",
       "      <td>27</td>\n",
       "      <td>-0.9</td>\n",
       "      <td>359.6</td>\n",
       "      <td>7.0</td>\n",
       "      <td>0.0</td>\n",
       "      <td>82.0</td>\n",
       "      <td>4.7</td>\n",
       "    </tr>\n",
       "    <tr>\n",
       "      <th>2</th>\n",
       "      <td>2015-01-03</td>\n",
       "      <td>서울시</td>\n",
       "      <td>0.079</td>\n",
       "      <td>1.6</td>\n",
       "      <td>0.012</td>\n",
       "      <td>0.020</td>\n",
       "      <td>76</td>\n",
       "      <td>50</td>\n",
       "      <td>3.0</td>\n",
       "      <td>359.8</td>\n",
       "      <td>3.7</td>\n",
       "      <td>0.0</td>\n",
       "      <td>91.0</td>\n",
       "      <td>4.7</td>\n",
       "    </tr>\n",
       "    <tr>\n",
       "      <th>3</th>\n",
       "      <td>2015-01-04</td>\n",
       "      <td>서울시</td>\n",
       "      <td>0.104</td>\n",
       "      <td>2.7</td>\n",
       "      <td>0.011</td>\n",
       "      <td>0.027</td>\n",
       "      <td>97</td>\n",
       "      <td>53</td>\n",
       "      <td>8.2</td>\n",
       "      <td>359.3</td>\n",
       "      <td>4.2</td>\n",
       "      <td>0.0</td>\n",
       "      <td>100.0</td>\n",
       "      <td>4.7</td>\n",
       "    </tr>\n",
       "    <tr>\n",
       "      <th>4</th>\n",
       "      <td>2015-01-05</td>\n",
       "      <td>서울시</td>\n",
       "      <td>0.106</td>\n",
       "      <td>2.6</td>\n",
       "      <td>0.018</td>\n",
       "      <td>0.028</td>\n",
       "      <td>133</td>\n",
       "      <td>77</td>\n",
       "      <td>9.9</td>\n",
       "      <td>359.3</td>\n",
       "      <td>5.0</td>\n",
       "      <td>0.0</td>\n",
       "      <td>100.0</td>\n",
       "      <td>4.7</td>\n",
       "    </tr>\n",
       "    <tr>\n",
       "      <th>...</th>\n",
       "      <td>...</td>\n",
       "      <td>...</td>\n",
       "      <td>...</td>\n",
       "      <td>...</td>\n",
       "      <td>...</td>\n",
       "      <td>...</td>\n",
       "      <td>...</td>\n",
       "      <td>...</td>\n",
       "      <td>...</td>\n",
       "      <td>...</td>\n",
       "      <td>...</td>\n",
       "      <td>...</td>\n",
       "      <td>...</td>\n",
       "      <td>...</td>\n",
       "    </tr>\n",
       "    <tr>\n",
       "      <th>3588</th>\n",
       "      <td>2024-12-27</td>\n",
       "      <td>서울시</td>\n",
       "      <td>0.046</td>\n",
       "      <td>0.8</td>\n",
       "      <td>0.007</td>\n",
       "      <td>0.043</td>\n",
       "      <td>45</td>\n",
       "      <td>24</td>\n",
       "      <td>2.7</td>\n",
       "      <td>357.4</td>\n",
       "      <td>7.0</td>\n",
       "      <td>0.0</td>\n",
       "      <td>80.0</td>\n",
       "      <td>3.3</td>\n",
       "    </tr>\n",
       "    <tr>\n",
       "      <th>3589</th>\n",
       "      <td>2024-12-28</td>\n",
       "      <td>서울시</td>\n",
       "      <td>0.037</td>\n",
       "      <td>0.8</td>\n",
       "      <td>0.008</td>\n",
       "      <td>0.041</td>\n",
       "      <td>47</td>\n",
       "      <td>23</td>\n",
       "      <td>1.2</td>\n",
       "      <td>358.6</td>\n",
       "      <td>6.7</td>\n",
       "      <td>0.0</td>\n",
       "      <td>72.0</td>\n",
       "      <td>3.5</td>\n",
       "    </tr>\n",
       "    <tr>\n",
       "      <th>3590</th>\n",
       "      <td>2024-12-29</td>\n",
       "      <td>서울시</td>\n",
       "      <td>0.054</td>\n",
       "      <td>1.1</td>\n",
       "      <td>0.009</td>\n",
       "      <td>0.037</td>\n",
       "      <td>41</td>\n",
       "      <td>30</td>\n",
       "      <td>6.6</td>\n",
       "      <td>359.7</td>\n",
       "      <td>3.4</td>\n",
       "      <td>0.0</td>\n",
       "      <td>87.0</td>\n",
       "      <td>3.5</td>\n",
       "    </tr>\n",
       "    <tr>\n",
       "      <th>3591</th>\n",
       "      <td>2024-12-30</td>\n",
       "      <td>서울시</td>\n",
       "      <td>0.058</td>\n",
       "      <td>1.3</td>\n",
       "      <td>0.008</td>\n",
       "      <td>0.052</td>\n",
       "      <td>95</td>\n",
       "      <td>59</td>\n",
       "      <td>10.3</td>\n",
       "      <td>359.5</td>\n",
       "      <td>6.5</td>\n",
       "      <td>0.0</td>\n",
       "      <td>91.0</td>\n",
       "      <td>3.0</td>\n",
       "    </tr>\n",
       "    <tr>\n",
       "      <th>3592</th>\n",
       "      <td>2024-12-31</td>\n",
       "      <td>서울시</td>\n",
       "      <td>0.040</td>\n",
       "      <td>0.8</td>\n",
       "      <td>0.004</td>\n",
       "      <td>0.037</td>\n",
       "      <td>106</td>\n",
       "      <td>60</td>\n",
       "      <td>5.9</td>\n",
       "      <td>344.0</td>\n",
       "      <td>4.5</td>\n",
       "      <td>0.0</td>\n",
       "      <td>88.0</td>\n",
       "      <td>3.5</td>\n",
       "    </tr>\n",
       "  </tbody>\n",
       "</table>\n",
       "<p>3593 rows × 14 columns</p>\n",
       "</div>"
      ],
      "text/plain": [
       "       datetime region    no2   co    so2     o3  pm10  pm25  temperature  \\\n",
       "0    2015-01-01    서울시  0.026  0.8  0.008  0.032   168    42         -3.8   \n",
       "1    2015-01-02    서울시  0.048  1.0  0.009  0.034    57    27         -0.9   \n",
       "2    2015-01-03    서울시  0.079  1.6  0.012  0.020    76    50          3.0   \n",
       "3    2015-01-04    서울시  0.104  2.7  0.011  0.027    97    53          8.2   \n",
       "4    2015-01-05    서울시  0.106  2.6  0.018  0.028   133    77          9.9   \n",
       "...         ...    ...    ...  ...    ...    ...   ...   ...          ...   \n",
       "3588 2024-12-27    서울시  0.046  0.8  0.007  0.043    45    24          2.7   \n",
       "3589 2024-12-28    서울시  0.037  0.8  0.008  0.041    47    23          1.2   \n",
       "3590 2024-12-29    서울시  0.054  1.1  0.009  0.037    41    30          6.6   \n",
       "3591 2024-12-30    서울시  0.058  1.3  0.008  0.052    95    59         10.3   \n",
       "3592 2024-12-31    서울시  0.040  0.8  0.004  0.037   106    60          5.9   \n",
       "\n",
       "      wind_direction  wind_speed  precipitation  humidity  uv_max  \n",
       "0              358.9         8.3            0.0      71.0     4.7  \n",
       "1              359.6         7.0            0.0      82.0     4.7  \n",
       "2              359.8         3.7            0.0      91.0     4.7  \n",
       "3              359.3         4.2            0.0     100.0     4.7  \n",
       "4              359.3         5.0            0.0     100.0     4.7  \n",
       "...              ...         ...            ...       ...     ...  \n",
       "3588           357.4         7.0            0.0      80.0     3.3  \n",
       "3589           358.6         6.7            0.0      72.0     3.5  \n",
       "3590           359.7         3.4            0.0      87.0     3.5  \n",
       "3591           359.5         6.5            0.0      91.0     3.0  \n",
       "3592           344.0         4.5            0.0      88.0     3.5  \n",
       "\n",
       "[3593 rows x 14 columns]"
      ]
     },
     "execution_count": 8,
     "metadata": {},
     "output_type": "execute_result"
    }
   ],
   "source": [
    "daily"
   ]
  },
  {
   "cell_type": "code",
   "execution_count": 9,
   "id": "2d50faed",
   "metadata": {},
   "outputs": [
    {
     "name": "stdout",
     "output_type": "stream",
     "text": [
      "최종 병합 데이터 크기: (3593, 14)\n"
     ]
    }
   ],
   "source": [
    "print(\"최종 병합 데이터 크기:\", daily.shape)"
   ]
  },
  {
   "cell_type": "code",
   "execution_count": 10,
   "id": "3008f322",
   "metadata": {},
   "outputs": [
    {
     "name": "stdout",
     "output_type": "stream",
     "text": [
      "일별 최고치 기준으로 재구성 완료 & DB 저장\n"
     ]
    }
   ],
   "source": [
    "# 테이블 덮어쓰기 저장 (기존 uv_dataset 삭제 후 재생성됨)\n",
    "daily.to_sql(\n",
    "    name='uv_dataset',    # 같은 테이블에 덮어쓰기\n",
    "    con=engine,\n",
    "    if_exists='replace',  # 삭제 후 생성\n",
    "    index=False\n",
    ")\n",
    "\n",
    "print(\"일별 최고치 기준으로 재구성 완료 & DB 저장\")"
   ]
  },
  {
   "cell_type": "code",
   "execution_count": 11,
   "id": "9996ddf7",
   "metadata": {},
   "outputs": [],
   "source": [
    "daily.to_csv('자외선_일별최고치_데이터셋.csv', index=False, date_format='%Y-%m-%d %H:%M:%S')"
   ]
  },
  {
   "cell_type": "code",
   "execution_count": null,
   "id": "50daabdc",
   "metadata": {},
   "outputs": [],
   "source": []
  }
 ],
 "metadata": {
  "kernelspec": {
   "display_name": "dlp",
   "language": "python",
   "name": "python3"
  },
  "language_info": {
   "codemirror_mode": {
    "name": "ipython",
    "version": 3
   },
   "file_extension": ".py",
   "mimetype": "text/x-python",
   "name": "python",
   "nbconvert_exporter": "python",
   "pygments_lexer": "ipython3",
   "version": "3.11.13"
  }
 },
 "nbformat": 4,
 "nbformat_minor": 5
}
