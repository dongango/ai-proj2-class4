{
 "cells": [
  {
   "cell_type": "code",
   "execution_count": null,
   "id": "d67f004e",
   "metadata": {},
   "outputs": [],
   "source": [
    "import pandas as pd\n",
    "from sqlalchemy import create_engine\n",
    "import json\n",
    "\n",
    "# DB 접속 정보 로드\n",
    "with open('db-config.json') as f:\n",
    "    config = json.load(f)\n",
    "\n",
    "user = config['user']\n",
    "password = config['password']\n",
    "host = config['host']\n",
    "port = config['port']\n",
    "database = config['database']\n",
    "\n",
    "# SQLAlchemy 엔진 생성\n",
    "engine = create_engine(f\"mysql+pymysql://{user}:{password}@{host}:{port}/{database}?charset=utf8mb4\")\n",
    "\n",
    "# 원본 데이터 불러오기\n",
    "air_pollution = pd.read_sql(\"SELECT * FROM air_pollution\", con=engine)\n",
    "air_quality = pd.read_sql(\"SELECT * FROM air_quality\", con=engine)\n",
    "weather = pd.read_sql(\"SELECT * FROM weather\", con=engine)\n",
    "uv_ray_day = pd.read_sql(\"SELECT * FROM uv_ray_day\", con=engine)"
   ]
  },
  {
   "cell_type": "code",
   "execution_count": 2,
   "id": "a8a4dd96",
   "metadata": {},
   "outputs": [],
   "source": [
    "merged = pd.read_csv(\"C:/Users/user/ai-proj2-class4/10.data-collecting/자외선_데이터셋.csv\")"
   ]
  },
  {
   "cell_type": "code",
   "execution_count": null,
   "id": "d2c02f1c",
   "metadata": {},
   "outputs": [],
   "source": [
    "#소수점 자리수 계산 함수 정의\n",
    "def get_decimal_places(df):\n",
    "    result = {}\n",
    "    for col in df.select_dtypes(include='float'):\n",
    "        # 소수점 자리수 길이 계산 (mode를 사용해 대표값)\n",
    "        decimal_lengths = df[col].dropna().apply(lambda x: len(str(x).split('.')[-1]))\n",
    "        if not decimal_lengths.empty:\n",
    "            result[col] = decimal_lengths.mode()[0]\n",
    "    return result"
   ]
  },
  {
   "cell_type": "code",
   "execution_count": null,
   "id": "b62e12b6",
   "metadata": {},
   "outputs": [],
   "source": [
    "#원본 데이터 기준 소수점 자리수 파악\n",
    "dp_air = get_decimal_places(air_pollution)\n",
    "dp_quality = get_decimal_places(air_quality)\n",
    "dp_weather = get_decimal_places(weather)\n",
    "dp_uv = get_decimal_places(uv_ray_day)"
   ]
  },
  {
   "cell_type": "code",
   "execution_count": 5,
   "id": "c843250d",
   "metadata": {},
   "outputs": [],
   "source": [
    "# 통합된 자리수 맵\n",
    "decimal_places_map = {}\n",
    "for d in [dp_air, dp_quality, dp_weather, dp_uv]:\n",
    "    for key, val in d.items():\n",
    "        decimal_places_map[key] = val"
   ]
  },
  {
   "cell_type": "code",
   "execution_count": 6,
   "id": "c990d792",
   "metadata": {},
   "outputs": [],
   "source": [
    "#병합 데이터에 소수점 자리수 적용\n",
    "for col, dp in decimal_places_map.items():\n",
    "    if col in merged.columns:\n",
    "        merged[col] = merged[col].round(dp)"
   ]
  },
  {
   "cell_type": "code",
   "execution_count": 7,
   "id": "6fda2394",
   "metadata": {},
   "outputs": [],
   "source": [
    "merged.to_csv(\"자외선_데이터셋_소수점정리.csv\", index=False)"
   ]
  },
  {
   "cell_type": "code",
   "execution_count": 8,
   "id": "aba8c8b7",
   "metadata": {},
   "outputs": [
    {
     "name": "stdout",
     "output_type": "stream",
     "text": [
      "최종 병합 데이터 크기: (2027707, 14)\n"
     ]
    }
   ],
   "source": [
    "print(\"최종 병합 데이터 크기:\", merged.shape)"
   ]
  },
  {
   "cell_type": "code",
   "execution_count": 9,
   "id": "51e4aec8",
   "metadata": {},
   "outputs": [],
   "source": [
    "# 결측치가 없는 경우 바로 int로 변환\n",
    "merged['pm10'] = merged['pm10'].astype('int')\n",
    "merged['pm25'] = merged['pm25'].astype('int')"
   ]
  },
  {
   "cell_type": "code",
   "execution_count": 10,
   "id": "244aca12",
   "metadata": {},
   "outputs": [],
   "source": [
    "# datetime이 문자열일 수도 있으니 안전하게 변환\n",
    "merged['datetime'] = pd.to_datetime(merged['datetime'])\n",
    "\n",
    "# datetime 기준 정렬\n",
    "merged = merged.sort_values(by='datetime').reset_index(drop=True)"
   ]
  },
  {
   "cell_type": "code",
   "execution_count": 11,
   "id": "d49e2919",
   "metadata": {},
   "outputs": [],
   "source": [
    "merged.to_csv(\"자외선_데이터셋_최종.csv\", index=False)"
   ]
  },
  {
   "cell_type": "code",
   "execution_count": 12,
   "id": "3932418a",
   "metadata": {},
   "outputs": [
    {
     "name": "stdout",
     "output_type": "stream",
     "text": [
      "최종 병합 데이터 크기: (2027707, 14)\n"
     ]
    }
   ],
   "source": [
    "print(\"최종 병합 데이터 크기:\", merged.shape)"
   ]
  },
  {
   "cell_type": "code",
   "execution_count": 13,
   "id": "826c47d8",
   "metadata": {},
   "outputs": [
    {
     "name": "stdout",
     "output_type": "stream",
     "text": [
      "최종 데이터 DB에 업로드 완료\n"
     ]
    }
   ],
   "source": [
    "from sqlalchemy import create_engine\n",
    "import json\n",
    "\n",
    "# 1) DB 접속 정보\n",
    "with open('db-config.json') as f:\n",
    "    config = json.load(f)\n",
    "\n",
    "user = config['user']\n",
    "password = config['password']\n",
    "host = config['host']\n",
    "port = config['port']\n",
    "database = config['database']\n",
    "\n",
    "# 2) SQLAlchemy 엔진 생성\n",
    "engine = create_engine(f\"mysql+pymysql://{user}:{password}@{host}:{port}/{database}?charset=utf8mb4\")\n",
    "\n",
    "# 3) DataFrame을 테이블에 INSERT\n",
    "merged.to_sql(\n",
    "    name='uv_dataset',     # 업로드할 테이블명\n",
    "    con=engine,\n",
    "    if_exists='append',    # 기존 테이블에 이어서 넣음 (덮어쓰기: 'replace')\n",
    "    index=False            # 인덱스는 안 넣음\n",
    ")\n",
    "\n",
    "print(\"최종 데이터 DB에 업로드 완료\")"
   ]
  },
  {
   "cell_type": "code",
   "execution_count": 14,
   "id": "5b2d88bf",
   "metadata": {},
   "outputs": [],
   "source": [
    "decimal_places_map = {\n",
    "    'no2': 4,\n",
    "    'co': 2,\n",
    "    'so2': 4,\n",
    "    'o3': 4,\n",
    "    'pm10': 0,\n",
    "    'pm25': 0,\n",
    "    'temperature': 1,\n",
    "    'wind_direction': 1,\n",
    "    'wind_speed': 1,\n",
    "    'precipitation': 0,\n",
    "    'humidity': 0,\n",
    "    'uv_max': 1\n",
    "}\n",
    "\n",
    "# 병합 데이터에 적용\n",
    "for col, dp in decimal_places_map.items():\n",
    "    if col in merged.columns:\n",
    "        merged[col] = merged[col].round(dp)\n",
    "\n",
    "# datetime 정렬\n",
    "merged['datetime'] = pd.to_datetime(merged['datetime'])\n",
    "merged = merged.sort_values(by='datetime').reset_index(drop=True)"
   ]
  },
  {
   "cell_type": "code",
   "execution_count": 15,
   "id": "0359f13e",
   "metadata": {},
   "outputs": [],
   "source": [
    "merged.to_csv(\"자외선_데이터셋_최종.csv\", index=False)"
   ]
  },
  {
   "cell_type": "code",
   "execution_count": 16,
   "id": "ae7bee9e",
   "metadata": {},
   "outputs": [
    {
     "name": "stdout",
     "output_type": "stream",
     "text": [
      "최종 병합 데이터 크기: (2027707, 14)\n"
     ]
    }
   ],
   "source": [
    "print(\"최종 병합 데이터 크기:\", merged.shape)"
   ]
  },
  {
   "cell_type": "code",
   "execution_count": 17,
   "id": "80addc5e",
   "metadata": {},
   "outputs": [
    {
     "data": {
      "text/plain": [
       "2027707"
      ]
     },
     "execution_count": 17,
     "metadata": {},
     "output_type": "execute_result"
    }
   ],
   "source": [
    "merged.to_sql(\n",
    "    name='uv_dataset',\n",
    "    con=engine,\n",
    "    if_exists='replace',  # 기존 테이블을 완전히 삭제하고 새로 생성\n",
    "    index=False\n",
    ")"
   ]
  },
  {
   "cell_type": "code",
   "execution_count": null,
   "id": "c14b291e",
   "metadata": {},
   "outputs": [],
   "source": []
  }
 ],
 "metadata": {
  "kernelspec": {
   "display_name": "base",
   "language": "python",
   "name": "python3"
  },
  "language_info": {
   "codemirror_mode": {
    "name": "ipython",
    "version": 3
   },
   "file_extension": ".py",
   "mimetype": "text/x-python",
   "name": "python",
   "nbconvert_exporter": "python",
   "pygments_lexer": "ipython3",
   "version": "3.12.7"
  }
 },
 "nbformat": 4,
 "nbformat_minor": 5
}
