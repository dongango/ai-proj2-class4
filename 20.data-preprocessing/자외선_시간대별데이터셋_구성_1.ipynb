{
 "cells": [
  {
   "cell_type": "code",
   "execution_count": 2,
   "id": "ba573a38",
   "metadata": {},
   "outputs": [
    {
     "data": {
      "application/vnd.microsoft.datawrangler.viewer.v0+json": {
       "columns": [
        {
         "name": "index",
         "rawType": "int64",
         "type": "integer"
        },
        {
         "name": "id",
         "rawType": "int64",
         "type": "integer"
        },
        {
         "name": "datetime",
         "rawType": "datetime64[ns]",
         "type": "datetime"
        },
        {
         "name": "region",
         "rawType": "object",
         "type": "string"
        },
        {
         "name": "no2",
         "rawType": "float64",
         "type": "float"
        },
        {
         "name": "co",
         "rawType": "float64",
         "type": "float"
        },
        {
         "name": "so2",
         "rawType": "float64",
         "type": "float"
        },
        {
         "name": "o3",
         "rawType": "float64",
         "type": "float"
        }
       ],
       "ref": "a26baf61-64f3-4fbb-9024-2c604a8e914b",
       "rows": [
        [
         "0",
         "14907",
         "2015-01-01 01:00:00",
         "평균",
         "0.0099",
         "0.36",
         "0.0054",
         "0.021"
        ],
        [
         "1",
         "14908",
         "2015-01-01 02:00:00",
         "평균",
         "0.0096",
         "0.37",
         "0.0055",
         "0.0201"
        ],
        [
         "2",
         "14909",
         "2015-01-01 03:00:00",
         "평균",
         "0.009",
         "0.38",
         "0.0054",
         "0.0197"
        ],
        [
         "3",
         "14910",
         "2015-01-01 04:00:00",
         "평균",
         "0.0074",
         "0.35",
         "0.0053",
         "0.0203"
        ],
        [
         "4",
         "14911",
         "2015-01-01 05:00:00",
         "평균",
         "0.0074",
         "0.34",
         "0.0052",
         "0.0195"
        ]
       ],
       "shape": {
        "columns": 7,
        "rows": 5
       }
      },
      "text/html": [
       "<div>\n",
       "<style scoped>\n",
       "    .dataframe tbody tr th:only-of-type {\n",
       "        vertical-align: middle;\n",
       "    }\n",
       "\n",
       "    .dataframe tbody tr th {\n",
       "        vertical-align: top;\n",
       "    }\n",
       "\n",
       "    .dataframe thead th {\n",
       "        text-align: right;\n",
       "    }\n",
       "</style>\n",
       "<table border=\"1\" class=\"dataframe\">\n",
       "  <thead>\n",
       "    <tr style=\"text-align: right;\">\n",
       "      <th></th>\n",
       "      <th>id</th>\n",
       "      <th>datetime</th>\n",
       "      <th>region</th>\n",
       "      <th>no2</th>\n",
       "      <th>co</th>\n",
       "      <th>so2</th>\n",
       "      <th>o3</th>\n",
       "    </tr>\n",
       "  </thead>\n",
       "  <tbody>\n",
       "    <tr>\n",
       "      <th>0</th>\n",
       "      <td>14907</td>\n",
       "      <td>2015-01-01 01:00:00</td>\n",
       "      <td>평균</td>\n",
       "      <td>0.0099</td>\n",
       "      <td>0.36</td>\n",
       "      <td>0.0054</td>\n",
       "      <td>0.0210</td>\n",
       "    </tr>\n",
       "    <tr>\n",
       "      <th>1</th>\n",
       "      <td>14908</td>\n",
       "      <td>2015-01-01 02:00:00</td>\n",
       "      <td>평균</td>\n",
       "      <td>0.0096</td>\n",
       "      <td>0.37</td>\n",
       "      <td>0.0055</td>\n",
       "      <td>0.0201</td>\n",
       "    </tr>\n",
       "    <tr>\n",
       "      <th>2</th>\n",
       "      <td>14909</td>\n",
       "      <td>2015-01-01 03:00:00</td>\n",
       "      <td>평균</td>\n",
       "      <td>0.0090</td>\n",
       "      <td>0.38</td>\n",
       "      <td>0.0054</td>\n",
       "      <td>0.0197</td>\n",
       "    </tr>\n",
       "    <tr>\n",
       "      <th>3</th>\n",
       "      <td>14910</td>\n",
       "      <td>2015-01-01 04:00:00</td>\n",
       "      <td>평균</td>\n",
       "      <td>0.0074</td>\n",
       "      <td>0.35</td>\n",
       "      <td>0.0053</td>\n",
       "      <td>0.0203</td>\n",
       "    </tr>\n",
       "    <tr>\n",
       "      <th>4</th>\n",
       "      <td>14911</td>\n",
       "      <td>2015-01-01 05:00:00</td>\n",
       "      <td>평균</td>\n",
       "      <td>0.0074</td>\n",
       "      <td>0.34</td>\n",
       "      <td>0.0052</td>\n",
       "      <td>0.0195</td>\n",
       "    </tr>\n",
       "  </tbody>\n",
       "</table>\n",
       "</div>"
      ],
      "text/plain": [
       "      id            datetime region     no2    co     so2      o3\n",
       "0  14907 2015-01-01 01:00:00     평균  0.0099  0.36  0.0054  0.0210\n",
       "1  14908 2015-01-01 02:00:00     평균  0.0096  0.37  0.0055  0.0201\n",
       "2  14909 2015-01-01 03:00:00     평균  0.0090  0.38  0.0054  0.0197\n",
       "3  14910 2015-01-01 04:00:00     평균  0.0074  0.35  0.0053  0.0203\n",
       "4  14911 2015-01-01 05:00:00     평균  0.0074  0.34  0.0052  0.0195"
      ]
     },
     "execution_count": 2,
     "metadata": {},
     "output_type": "execute_result"
    }
   ],
   "source": [
    "import pandas as pd\n",
    "from sqlalchemy import create_engine\n",
    "import json\n",
    "\n",
    "# 접속 정보 로딩 (옵션: db-config.json 파일이 있을 경우)\n",
    "with open('db-config.json') as f:\n",
    "    config = json.load(f)\n",
    "\n",
    "user = config['user']\n",
    "password = config['password']\n",
    "host = config['host']\n",
    "port = config['port']\n",
    "database = config['database']\n",
    "\n",
    "# SQLAlchemy 엔진 생성\n",
    "engine = create_engine(f\"mysql+pymysql://{user}:{password}@{host}:{port}/{database}?charset=utf8mb4\")\n",
    "\n",
    "# air_quality 테이블 데이터 읽어오기\n",
    "query = \"SELECT * FROM air_pollution\"\n",
    "air_pollution = pd.read_sql(query, con=engine)\n",
    "\n",
    "# ▶ 결과 확인\n",
    "air_pollution.head()"
   ]
  },
  {
   "cell_type": "code",
   "execution_count": 4,
   "id": "ae25351e",
   "metadata": {},
   "outputs": [
    {
     "name": "stdout",
     "output_type": "stream",
     "text": [
      "[air_pollution] 소수점 자리수 확인:\n",
      " - no2: 최대 7자리\n",
      " - co: 최대 6자리\n",
      " - so2: 최대 8자리\n",
      " - o3: 최대 7자리\n",
      "\n"
     ]
    }
   ],
   "source": [
    "def decimal_places(df, name):\n",
    "    print(f\"[{name}] 소수점 자리수 확인:\")\n",
    "    for col in df.select_dtypes(include='float'):\n",
    "        # 소수점 아래 자리수를 모두 문자열로 변환해 길이 계산\n",
    "        decimals = df[col].dropna().apply(lambda x: len(str(x).split('.')[-1]))\n",
    "        print(f\" - {col}: 최대 {decimals.max()}자리\")\n",
    "    print()\n",
    "\n",
    "# 각 원본 데이터에 대해 적용\n",
    "decimal_places(air_pollution, 'air_pollution')"
   ]
  },
  {
   "cell_type": "code",
   "execution_count": 1,
   "id": "4b89e5d1",
   "metadata": {},
   "outputs": [
    {
     "ename": "NameError",
     "evalue": "name 'air_pollution' is not defined",
     "output_type": "error",
     "traceback": [
      "\u001b[1;31m---------------------------------------------------------------------------\u001b[0m",
      "\u001b[1;31mNameError\u001b[0m                                 Traceback (most recent call last)",
      "Cell \u001b[1;32mIn[1], line 9\u001b[0m\n\u001b[0;32m      6\u001b[0m             \u001b[38;5;28mprint\u001b[39m(\u001b[38;5;124mf\u001b[39m\u001b[38;5;124m\"\u001b[39m\u001b[38;5;124m - \u001b[39m\u001b[38;5;132;01m{\u001b[39;00mcol\u001b[38;5;132;01m}\u001b[39;00m\u001b[38;5;124m: 최소 \u001b[39m\u001b[38;5;132;01m{\u001b[39;00mdecimals\u001b[38;5;241m.\u001b[39mmin()\u001b[38;5;132;01m}\u001b[39;00m\u001b[38;5;124m자리 / 최대 \u001b[39m\u001b[38;5;132;01m{\u001b[39;00mdecimals\u001b[38;5;241m.\u001b[39mmax()\u001b[38;5;132;01m}\u001b[39;00m\u001b[38;5;124m자리\u001b[39m\u001b[38;5;124m\"\u001b[39m)\n\u001b[0;32m      7\u001b[0m     \u001b[38;5;28mprint\u001b[39m()\n\u001b[1;32m----> 9\u001b[0m decimal_places(air_pollution, \u001b[38;5;124m'\u001b[39m\u001b[38;5;124mair_pollution\u001b[39m\u001b[38;5;124m'\u001b[39m)\n",
      "\u001b[1;31mNameError\u001b[0m: name 'air_pollution' is not defined"
     ]
    }
   ],
   "source": [
    "def decimal_places(df, name):\n",
    "    print(f\" [{name}] 소수점 자리수 확인:\")\n",
    "    for col in df.select_dtypes(include='float'):\n",
    "        decimals = df[col].dropna().apply(lambda x: len(str(x).split('.')[-1]))\n",
    "        if not decimals.empty:\n",
    "            print(f\" - {col}: 최소 {decimals.min()}자리 / 최대 {decimals.max()}자리\")\n",
    "    print()\n",
    "    \n",
    "decimal_places(air_pollution, 'air_pollution')"
   ]
  },
  {
   "cell_type": "code",
   "execution_count": 2,
   "id": "b263f65d",
   "metadata": {},
   "outputs": [
    {
     "data": {
      "application/vnd.microsoft.datawrangler.viewer.v0+json": {
       "columns": [
        {
         "name": "index",
         "rawType": "object",
         "type": "string"
        },
        {
         "name": "0",
         "rawType": "int64",
         "type": "integer"
        }
       ],
       "ref": "1201b9f8-9d6d-42fc-b0d5-39d48daa2dda",
       "rows": [
        [
         "id",
         "0"
        ],
        [
         "datetime",
         "0"
        ],
        [
         "region",
         "0"
        ],
        [
         "no2",
         "0"
        ],
        [
         "co",
         "0"
        ],
        [
         "so2",
         "0"
        ],
        [
         "o3",
         "0"
        ]
       ],
       "shape": {
        "columns": 1,
        "rows": 7
       }
      },
      "text/plain": [
       "id          0\n",
       "datetime    0\n",
       "region      0\n",
       "no2         0\n",
       "co          0\n",
       "so2         0\n",
       "o3          0\n",
       "dtype: int64"
      ]
     },
     "execution_count": 2,
     "metadata": {},
     "output_type": "execute_result"
    }
   ],
   "source": [
    "air_pollution.isnull().sum()"
   ]
  },
  {
   "cell_type": "code",
   "execution_count": 3,
   "id": "ee99cca6",
   "metadata": {},
   "outputs": [
    {
     "data": {
      "text/plain": [
       "array(['평균', '강남구', '강동구', '강북구', '강서구', '관악구', '광진구', '구로구', '금천구',\n",
       "       '노원구', '도봉구', '동대문구', '동작구', '마포구', '서대문구', '서초구', '성동구', '성북구',\n",
       "       '송파구', '양천구', '영등포구', '용산구', '은평구', '종로구', '중구', '중랑구'],\n",
       "      dtype=object)"
      ]
     },
     "execution_count": 3,
     "metadata": {},
     "output_type": "execute_result"
    }
   ],
   "source": [
    "air_pollution['region'].unique()"
   ]
  },
  {
   "cell_type": "code",
   "execution_count": 4,
   "id": "2c90b089",
   "metadata": {},
   "outputs": [],
   "source": [
    "air_pollution['region'] = air_pollution['region'].replace('평균', '서울시')"
   ]
  },
  {
   "cell_type": "code",
   "execution_count": 5,
   "id": "e67c690c",
   "metadata": {},
   "outputs": [
    {
     "data": {
      "text/plain": [
       "array(['서울시', '강남구', '강동구', '강북구', '강서구', '관악구', '광진구', '구로구', '금천구',\n",
       "       '노원구', '도봉구', '동대문구', '동작구', '마포구', '서대문구', '서초구', '성동구', '성북구',\n",
       "       '송파구', '양천구', '영등포구', '용산구', '은평구', '종로구', '중구', '중랑구'],\n",
       "      dtype=object)"
      ]
     },
     "execution_count": 5,
     "metadata": {},
     "output_type": "execute_result"
    }
   ],
   "source": [
    "air_pollution['region'].unique()"
   ]
  },
  {
   "cell_type": "code",
   "execution_count": 6,
   "id": "d1b9f43f",
   "metadata": {},
   "outputs": [],
   "source": [
    "air_pollution.drop(['id'], axis=1, inplace=True)"
   ]
  },
  {
   "cell_type": "code",
   "execution_count": 7,
   "id": "01cd5dd9",
   "metadata": {},
   "outputs": [
    {
     "data": {
      "application/vnd.microsoft.datawrangler.viewer.v0+json": {
       "columns": [
        {
         "name": "index",
         "rawType": "int64",
         "type": "integer"
        },
        {
         "name": "datetime",
         "rawType": "datetime64[ns]",
         "type": "datetime"
        },
        {
         "name": "region",
         "rawType": "object",
         "type": "string"
        },
        {
         "name": "no2",
         "rawType": "float64",
         "type": "float"
        },
        {
         "name": "co",
         "rawType": "float64",
         "type": "float"
        },
        {
         "name": "so2",
         "rawType": "float64",
         "type": "float"
        },
        {
         "name": "o3",
         "rawType": "float64",
         "type": "float"
        }
       ],
       "ref": "1d699c44-ab76-4656-87c3-1aafaa70183b",
       "rows": [
        [
         "0",
         "2015-01-01 01:00:00",
         "서울시",
         "0.0099",
         "0.36",
         "0.0054",
         "0.021"
        ],
        [
         "1",
         "2015-01-01 02:00:00",
         "서울시",
         "0.0096",
         "0.37",
         "0.0055",
         "0.0201"
        ],
        [
         "2",
         "2015-01-01 03:00:00",
         "서울시",
         "0.009",
         "0.38",
         "0.0054",
         "0.0197"
        ],
        [
         "3",
         "2015-01-01 04:00:00",
         "서울시",
         "0.0074",
         "0.35",
         "0.0053",
         "0.0203"
        ],
        [
         "4",
         "2015-01-01 05:00:00",
         "서울시",
         "0.0074",
         "0.34",
         "0.0052",
         "0.0195"
        ],
        [
         "5",
         "2015-01-01 06:00:00",
         "서울시",
         "0.0086",
         "0.35",
         "0.0049",
         "0.0183"
        ],
        [
         "6",
         "2015-01-01 07:00:00",
         "서울시",
         "0.0098",
         "0.36",
         "0.0051",
         "0.0169"
        ],
        [
         "7",
         "2015-01-01 08:00:00",
         "서울시",
         "0.011",
         "0.38",
         "0.0052",
         "0.0158"
        ],
        [
         "8",
         "2015-01-01 09:00:00",
         "서울시",
         "0.0114",
         "0.4",
         "0.0052",
         "0.0155"
        ],
        [
         "9",
         "2015-01-01 10:00:00",
         "서울시",
         "0.0103",
         "0.37",
         "0.0055",
         "0.0172"
        ],
        [
         "10",
         "2015-01-01 11:00:00",
         "서울시",
         "0.0087",
         "0.38",
         "0.0053",
         "0.0192"
        ],
        [
         "11",
         "2015-01-01 12:00:00",
         "서울시",
         "0.0086",
         "0.37",
         "0.0052",
         "0.0209"
        ],
        [
         "12",
         "2015-01-01 13:00:00",
         "서울시",
         "0.0086",
         "0.36",
         "0.0049",
         "0.023"
        ],
        [
         "13",
         "2015-01-01 14:00:00",
         "서울시",
         "0.0085",
         "0.35",
         "0.0049",
         "0.0244"
        ],
        [
         "14",
         "2015-01-01 15:00:00",
         "서울시",
         "0.009",
         "0.35",
         "0.0053",
         "0.0246"
        ],
        [
         "15",
         "2015-01-01 16:00:00",
         "서울시",
         "0.01",
         "0.36",
         "0.0053",
         "0.024"
        ],
        [
         "16",
         "2015-01-01 17:00:00",
         "서울시",
         "0.0128",
         "0.4",
         "0.005",
         "0.0222"
        ],
        [
         "17",
         "2015-01-01 18:00:00",
         "서울시",
         "0.0161",
         "0.4",
         "0.0052",
         "0.0191"
        ],
        [
         "18",
         "2015-01-01 19:00:00",
         "서울시",
         "0.0183",
         "0.42",
         "0.0048",
         "0.0166"
        ],
        [
         "19",
         "2015-01-01 20:00:00",
         "서울시",
         "0.017",
         "0.41",
         "0.005",
         "0.0171"
        ],
        [
         "20",
         "2015-01-01 21:00:00",
         "서울시",
         "0.0171",
         "0.42",
         "0.0051",
         "0.0168"
        ],
        [
         "21",
         "2015-01-01 22:00:00",
         "서울시",
         "0.0176",
         "0.43",
         "0.005",
         "0.0164"
        ],
        [
         "22",
         "2015-01-01 23:00:00",
         "서울시",
         "0.0178",
         "0.4",
         "0.0047",
         "0.0166"
        ],
        [
         "23",
         "2015-01-02 00:00:00",
         "서울시",
         "0.0168",
         "0.4",
         "0.0049",
         "0.0172"
        ],
        [
         "24",
         "2015-01-02 01:00:00",
         "서울시",
         "0.0155",
         "0.4",
         "0.0049",
         "0.0181"
        ],
        [
         "25",
         "2015-01-02 02:00:00",
         "서울시",
         "0.0141",
         "0.41",
         "0.0048",
         "0.0185"
        ],
        [
         "26",
         "2015-01-02 03:00:00",
         "서울시",
         "0.0139",
         "0.42",
         "0.005",
         "0.0181"
        ],
        [
         "27",
         "2015-01-02 04:00:00",
         "서울시",
         "0.0159",
         "0.45",
         "0.005",
         "0.0162"
        ],
        [
         "28",
         "2015-01-02 05:00:00",
         "서울시",
         "0.0181",
         "0.46",
         "0.0049",
         "0.014"
        ],
        [
         "29",
         "2015-01-02 06:00:00",
         "서울시",
         "0.0216",
         "0.47",
         "0.005",
         "0.0118"
        ],
        [
         "30",
         "2015-01-02 07:00:00",
         "서울시",
         "0.0268",
         "0.5",
         "0.0053",
         "0.0079"
        ],
        [
         "31",
         "2015-01-02 08:00:00",
         "서울시",
         "0.032",
         "0.58",
         "0.0052",
         "0.005"
        ],
        [
         "32",
         "2015-01-02 09:00:00",
         "서울시",
         "0.0346",
         "0.65",
         "0.0055",
         "0.0043"
        ],
        [
         "33",
         "2015-01-02 10:00:00",
         "서울시",
         "0.0315",
         "0.62",
         "0.006",
         "0.0073"
        ],
        [
         "34",
         "2015-01-02 11:00:00",
         "서울시",
         "0.0229",
         "0.49",
         "0.0062",
         "0.0137"
        ],
        [
         "35",
         "2015-01-02 12:00:00",
         "서울시",
         "0.0202",
         "0.46",
         "0.0064",
         "0.0171"
        ],
        [
         "36",
         "2015-01-02 13:00:00",
         "서울시",
         "0.0147",
         "0.42",
         "0.0065",
         "0.0224"
        ],
        [
         "37",
         "2015-01-02 14:00:00",
         "서울시",
         "0.0122",
         "0.41",
         "0.006",
         "0.0256"
        ],
        [
         "38",
         "2015-01-02 15:00:00",
         "서울시",
         "0.013",
         "0.38",
         "0.006",
         "0.0257"
        ],
        [
         "39",
         "2015-01-02 16:00:00",
         "서울시",
         "0.0144",
         "0.39",
         "0.0062",
         "0.0251"
        ],
        [
         "40",
         "2015-01-02 17:00:00",
         "서울시",
         "0.017",
         "0.42",
         "0.0063",
         "0.0228"
        ],
        [
         "41",
         "2015-01-02 18:00:00",
         "서울시",
         "0.0204",
         "0.46",
         "0.006",
         "0.0198"
        ],
        [
         "42",
         "2015-01-02 19:00:00",
         "서울시",
         "0.0236",
         "0.47",
         "0.0061",
         "0.0168"
        ],
        [
         "43",
         "2015-01-02 20:00:00",
         "서울시",
         "0.0252",
         "0.49",
         "0.006",
         "0.0149"
        ],
        [
         "44",
         "2015-01-02 21:00:00",
         "서울시",
         "0.0254",
         "0.5",
         "0.0062",
         "0.0138"
        ],
        [
         "45",
         "2015-01-02 22:00:00",
         "서울시",
         "0.0259",
         "0.53",
         "0.0064",
         "0.0123"
        ],
        [
         "46",
         "2015-01-02 23:00:00",
         "서울시",
         "0.0254",
         "0.56",
         "0.0065",
         "0.0119"
        ],
        [
         "47",
         "2015-01-03 00:00:00",
         "서울시",
         "0.028",
         "0.59",
         "0.0065",
         "0.0098"
        ],
        [
         "48",
         "2015-01-03 01:00:00",
         "서울시",
         "0.0296",
         "0.58",
         "0.0064",
         "0.0082"
        ],
        [
         "49",
         "2015-01-03 02:00:00",
         "서울시",
         "0.0304",
         "0.62",
         "0.0065",
         "0.0077"
        ]
       ],
       "shape": {
        "columns": 6,
        "rows": 2350998
       }
      },
      "text/html": [
       "<div>\n",
       "<style scoped>\n",
       "    .dataframe tbody tr th:only-of-type {\n",
       "        vertical-align: middle;\n",
       "    }\n",
       "\n",
       "    .dataframe tbody tr th {\n",
       "        vertical-align: top;\n",
       "    }\n",
       "\n",
       "    .dataframe thead th {\n",
       "        text-align: right;\n",
       "    }\n",
       "</style>\n",
       "<table border=\"1\" class=\"dataframe\">\n",
       "  <thead>\n",
       "    <tr style=\"text-align: right;\">\n",
       "      <th></th>\n",
       "      <th>datetime</th>\n",
       "      <th>region</th>\n",
       "      <th>no2</th>\n",
       "      <th>co</th>\n",
       "      <th>so2</th>\n",
       "      <th>o3</th>\n",
       "    </tr>\n",
       "  </thead>\n",
       "  <tbody>\n",
       "    <tr>\n",
       "      <th>0</th>\n",
       "      <td>2015-01-01 01:00:00</td>\n",
       "      <td>서울시</td>\n",
       "      <td>0.0099</td>\n",
       "      <td>0.36</td>\n",
       "      <td>0.0054</td>\n",
       "      <td>0.0210</td>\n",
       "    </tr>\n",
       "    <tr>\n",
       "      <th>1</th>\n",
       "      <td>2015-01-01 02:00:00</td>\n",
       "      <td>서울시</td>\n",
       "      <td>0.0096</td>\n",
       "      <td>0.37</td>\n",
       "      <td>0.0055</td>\n",
       "      <td>0.0201</td>\n",
       "    </tr>\n",
       "    <tr>\n",
       "      <th>2</th>\n",
       "      <td>2015-01-01 03:00:00</td>\n",
       "      <td>서울시</td>\n",
       "      <td>0.0090</td>\n",
       "      <td>0.38</td>\n",
       "      <td>0.0054</td>\n",
       "      <td>0.0197</td>\n",
       "    </tr>\n",
       "    <tr>\n",
       "      <th>3</th>\n",
       "      <td>2015-01-01 04:00:00</td>\n",
       "      <td>서울시</td>\n",
       "      <td>0.0074</td>\n",
       "      <td>0.35</td>\n",
       "      <td>0.0053</td>\n",
       "      <td>0.0203</td>\n",
       "    </tr>\n",
       "    <tr>\n",
       "      <th>4</th>\n",
       "      <td>2015-01-01 05:00:00</td>\n",
       "      <td>서울시</td>\n",
       "      <td>0.0074</td>\n",
       "      <td>0.34</td>\n",
       "      <td>0.0052</td>\n",
       "      <td>0.0195</td>\n",
       "    </tr>\n",
       "    <tr>\n",
       "      <th>...</th>\n",
       "      <td>...</td>\n",
       "      <td>...</td>\n",
       "      <td>...</td>\n",
       "      <td>...</td>\n",
       "      <td>...</td>\n",
       "      <td>...</td>\n",
       "    </tr>\n",
       "    <tr>\n",
       "      <th>2350993</th>\n",
       "      <td>2025-06-25 13:00:00</td>\n",
       "      <td>중랑구</td>\n",
       "      <td>0.0097</td>\n",
       "      <td>0.24</td>\n",
       "      <td>0.0024</td>\n",
       "      <td>0.0271</td>\n",
       "    </tr>\n",
       "    <tr>\n",
       "      <th>2350994</th>\n",
       "      <td>2025-06-25 14:00:00</td>\n",
       "      <td>중랑구</td>\n",
       "      <td>0.0081</td>\n",
       "      <td>0.24</td>\n",
       "      <td>0.0023</td>\n",
       "      <td>0.0290</td>\n",
       "    </tr>\n",
       "    <tr>\n",
       "      <th>2350995</th>\n",
       "      <td>2025-06-25 15:00:00</td>\n",
       "      <td>중랑구</td>\n",
       "      <td>0.0108</td>\n",
       "      <td>0.26</td>\n",
       "      <td>0.0029</td>\n",
       "      <td>0.0255</td>\n",
       "    </tr>\n",
       "    <tr>\n",
       "      <th>2350996</th>\n",
       "      <td>2025-06-25 16:00:00</td>\n",
       "      <td>중랑구</td>\n",
       "      <td>0.0099</td>\n",
       "      <td>0.26</td>\n",
       "      <td>0.0022</td>\n",
       "      <td>0.0237</td>\n",
       "    </tr>\n",
       "    <tr>\n",
       "      <th>2350997</th>\n",
       "      <td>2025-06-25 17:00:00</td>\n",
       "      <td>중랑구</td>\n",
       "      <td>0.0125</td>\n",
       "      <td>0.26</td>\n",
       "      <td>0.0025</td>\n",
       "      <td>0.0233</td>\n",
       "    </tr>\n",
       "  </tbody>\n",
       "</table>\n",
       "<p>2350998 rows × 6 columns</p>\n",
       "</div>"
      ],
      "text/plain": [
       "                   datetime region     no2    co     so2      o3\n",
       "0       2015-01-01 01:00:00    서울시  0.0099  0.36  0.0054  0.0210\n",
       "1       2015-01-01 02:00:00    서울시  0.0096  0.37  0.0055  0.0201\n",
       "2       2015-01-01 03:00:00    서울시  0.0090  0.38  0.0054  0.0197\n",
       "3       2015-01-01 04:00:00    서울시  0.0074  0.35  0.0053  0.0203\n",
       "4       2015-01-01 05:00:00    서울시  0.0074  0.34  0.0052  0.0195\n",
       "...                     ...    ...     ...   ...     ...     ...\n",
       "2350993 2025-06-25 13:00:00    중랑구  0.0097  0.24  0.0024  0.0271\n",
       "2350994 2025-06-25 14:00:00    중랑구  0.0081  0.24  0.0023  0.0290\n",
       "2350995 2025-06-25 15:00:00    중랑구  0.0108  0.26  0.0029  0.0255\n",
       "2350996 2025-06-25 16:00:00    중랑구  0.0099  0.26  0.0022  0.0237\n",
       "2350997 2025-06-25 17:00:00    중랑구  0.0125  0.26  0.0025  0.0233\n",
       "\n",
       "[2350998 rows x 6 columns]"
      ]
     },
     "execution_count": 7,
     "metadata": {},
     "output_type": "execute_result"
    }
   ],
   "source": [
    "#air_pollution_최종\n",
    "air_pollution"
   ]
  },
  {
   "cell_type": "code",
   "execution_count": 5,
   "id": "6b714503",
   "metadata": {},
   "outputs": [
    {
     "data": {
      "application/vnd.microsoft.datawrangler.viewer.v0+json": {
       "columns": [
        {
         "name": "index",
         "rawType": "int64",
         "type": "integer"
        },
        {
         "name": "id",
         "rawType": "int64",
         "type": "integer"
        },
        {
         "name": "datetime",
         "rawType": "datetime64[ns]",
         "type": "datetime"
        },
        {
         "name": "region",
         "rawType": "object",
         "type": "string"
        },
        {
         "name": "pm10",
         "rawType": "float64",
         "type": "float"
        },
        {
         "name": "pm25",
         "rawType": "float64",
         "type": "float"
        }
       ],
       "ref": "d1750594-9e0f-4b06-a0fd-8e3f6ff046fb",
       "rows": [
        [
         "0",
         "1",
         "2015-12-31 23:00:00",
         "평균",
         "93.0",
         "62.0"
        ],
        [
         "1",
         "2",
         "2015-12-31 23:00:00",
         "강남구",
         "107.0",
         "70.0"
        ],
        [
         "2",
         "3",
         "2015-12-31 23:00:00",
         "강동구",
         "91.0",
         "51.0"
        ],
        [
         "3",
         "4",
         "2015-12-31 23:00:00",
         "강북구",
         "92.0",
         "64.0"
        ],
        [
         "4",
         "5",
         "2015-12-31 23:00:00",
         "강서구",
         "96.0",
         "51.0"
        ]
       ],
       "shape": {
        "columns": 5,
        "rows": 5
       }
      },
      "text/html": [
       "<div>\n",
       "<style scoped>\n",
       "    .dataframe tbody tr th:only-of-type {\n",
       "        vertical-align: middle;\n",
       "    }\n",
       "\n",
       "    .dataframe tbody tr th {\n",
       "        vertical-align: top;\n",
       "    }\n",
       "\n",
       "    .dataframe thead th {\n",
       "        text-align: right;\n",
       "    }\n",
       "</style>\n",
       "<table border=\"1\" class=\"dataframe\">\n",
       "  <thead>\n",
       "    <tr style=\"text-align: right;\">\n",
       "      <th></th>\n",
       "      <th>id</th>\n",
       "      <th>datetime</th>\n",
       "      <th>region</th>\n",
       "      <th>pm10</th>\n",
       "      <th>pm25</th>\n",
       "    </tr>\n",
       "  </thead>\n",
       "  <tbody>\n",
       "    <tr>\n",
       "      <th>0</th>\n",
       "      <td>1</td>\n",
       "      <td>2015-12-31 23:00:00</td>\n",
       "      <td>평균</td>\n",
       "      <td>93.0</td>\n",
       "      <td>62.0</td>\n",
       "    </tr>\n",
       "    <tr>\n",
       "      <th>1</th>\n",
       "      <td>2</td>\n",
       "      <td>2015-12-31 23:00:00</td>\n",
       "      <td>강남구</td>\n",
       "      <td>107.0</td>\n",
       "      <td>70.0</td>\n",
       "    </tr>\n",
       "    <tr>\n",
       "      <th>2</th>\n",
       "      <td>3</td>\n",
       "      <td>2015-12-31 23:00:00</td>\n",
       "      <td>강동구</td>\n",
       "      <td>91.0</td>\n",
       "      <td>51.0</td>\n",
       "    </tr>\n",
       "    <tr>\n",
       "      <th>3</th>\n",
       "      <td>4</td>\n",
       "      <td>2015-12-31 23:00:00</td>\n",
       "      <td>강북구</td>\n",
       "      <td>92.0</td>\n",
       "      <td>64.0</td>\n",
       "    </tr>\n",
       "    <tr>\n",
       "      <th>4</th>\n",
       "      <td>5</td>\n",
       "      <td>2015-12-31 23:00:00</td>\n",
       "      <td>강서구</td>\n",
       "      <td>96.0</td>\n",
       "      <td>51.0</td>\n",
       "    </tr>\n",
       "  </tbody>\n",
       "</table>\n",
       "</div>"
      ],
      "text/plain": [
       "   id            datetime region   pm10  pm25\n",
       "0   1 2015-12-31 23:00:00     평균   93.0  62.0\n",
       "1   2 2015-12-31 23:00:00    강남구  107.0  70.0\n",
       "2   3 2015-12-31 23:00:00    강동구   91.0  51.0\n",
       "3   4 2015-12-31 23:00:00    강북구   92.0  64.0\n",
       "4   5 2015-12-31 23:00:00    강서구   96.0  51.0"
      ]
     },
     "execution_count": 5,
     "metadata": {},
     "output_type": "execute_result"
    }
   ],
   "source": [
    "query_2 =\"SELECT * FROM air_quality\"\n",
    "air_quality = pd.read_sql(query_2, con=engine)\n",
    "\n",
    "air_quality.head()"
   ]
  },
  {
   "cell_type": "code",
   "execution_count": null,
   "id": "deb1ded4",
   "metadata": {},
   "outputs": [
    {
     "name": "stdout",
     "output_type": "stream",
     "text": [
      "[air_pollution] 소수점 자리수 확인:\n",
      " - pm10: 최대 1자리\n",
      " - pm25: 최대 1자리\n",
      "\n"
     ]
    }
   ],
   "source": [
    "def decimal_places(df, name):\n",
    "    print(f\"[{name}] 소수점 자리수 확인:\")\n",
    "    for col in df.select_dtypes(include='float'):\n",
    "        # 소수점 아래 자리수를 모두 문자열로 변환해 길이 계산\n",
    "        decimals = df[col].dropna().apply(lambda x: len(str(x).split('.')[-1]))\n",
    "        print(f\" - {col}: 최대 {decimals.max()}자리\")\n",
    "    print()\n",
    "\n",
    "# 각 원본 데이터에 대해 적용\n",
    "decimal_places(air_quality, 'air_quality')"
   ]
  },
  {
   "cell_type": "code",
   "execution_count": 9,
   "id": "9b7ae338",
   "metadata": {},
   "outputs": [
    {
     "data": {
      "application/vnd.microsoft.datawrangler.viewer.v0+json": {
       "columns": [
        {
         "name": "index",
         "rawType": "object",
         "type": "string"
        },
        {
         "name": "0",
         "rawType": "int64",
         "type": "integer"
        }
       ],
       "ref": "f8fe2b20-9d61-42dd-88cb-69dbf1d85386",
       "rows": [
        [
         "id",
         "0"
        ],
        [
         "datetime",
         "0"
        ],
        [
         "region",
         "0"
        ],
        [
         "pm10",
         "73631"
        ],
        [
         "pm25",
         "70223"
        ]
       ],
       "shape": {
        "columns": 1,
        "rows": 5
       }
      },
      "text/plain": [
       "id              0\n",
       "datetime        0\n",
       "region          0\n",
       "pm10        73631\n",
       "pm25        70223\n",
       "dtype: int64"
      ]
     },
     "execution_count": 9,
     "metadata": {},
     "output_type": "execute_result"
    }
   ],
   "source": [
    "air_quality.isnull().sum()"
   ]
  },
  {
   "cell_type": "code",
   "execution_count": 10,
   "id": "082e2415",
   "metadata": {},
   "outputs": [],
   "source": [
    "#월별 지역별 결측치 대체\n",
    "\n",
    "air_quality['datetime'] = pd.to_datetime(air_quality['datetime'])\n",
    "\n",
    "air_quality['year_month'] = air_quality['datetime'].dt.to_period('M')\n",
    "\n",
    "cols_to_fill = ['pm10', 'pm25']\n",
    "\n",
    "for col in cols_to_fill:\n",
    "    air_quality[col] = air_quality.groupby(['year_month', 'region'])[col].transform(\n",
    "        lambda x: x.fillna(x.mean())\n",
    "    )"
   ]
  },
  {
   "cell_type": "code",
   "execution_count": 11,
   "id": "dbfb030e",
   "metadata": {},
   "outputs": [
    {
     "data": {
      "application/vnd.microsoft.datawrangler.viewer.v0+json": {
       "columns": [
        {
         "name": "index",
         "rawType": "object",
         "type": "string"
        },
        {
         "name": "0",
         "rawType": "int64",
         "type": "integer"
        }
       ],
       "ref": "7e7d596b-fce1-4dc2-a8b0-f52787e8e3b0",
       "rows": [
        [
         "id",
         "0"
        ],
        [
         "datetime",
         "0"
        ],
        [
         "region",
         "0"
        ],
        [
         "pm10",
         "720"
        ],
        [
         "pm25",
         "720"
        ],
        [
         "year_month",
         "0"
        ]
       ],
       "shape": {
        "columns": 1,
        "rows": 6
       }
      },
      "text/plain": [
       "id              0\n",
       "datetime        0\n",
       "region          0\n",
       "pm10          720\n",
       "pm25          720\n",
       "year_month      0\n",
       "dtype: int64"
      ]
     },
     "execution_count": 11,
     "metadata": {},
     "output_type": "execute_result"
    }
   ],
   "source": [
    "air_quality.isnull().sum()"
   ]
  },
  {
   "cell_type": "code",
   "execution_count": 12,
   "id": "64404e15",
   "metadata": {},
   "outputs": [
    {
     "data": {
      "application/vnd.microsoft.datawrangler.viewer.v0+json": {
       "columns": [
        {
         "name": "index",
         "rawType": "object",
         "type": "string"
        },
        {
         "name": "0",
         "rawType": "int64",
         "type": "integer"
        }
       ],
       "ref": "521b979d-ac5e-440d-bd92-a3def21e22b0",
       "rows": [
        [
         "id",
         "0"
        ],
        [
         "datetime",
         "0"
        ],
        [
         "region",
         "0"
        ],
        [
         "pm10",
         "0"
        ],
        [
         "pm25",
         "0"
        ],
        [
         "year_month",
         "0"
        ]
       ],
       "shape": {
        "columns": 1,
        "rows": 6
       }
      },
      "text/plain": [
       "id            0\n",
       "datetime      0\n",
       "region        0\n",
       "pm10          0\n",
       "pm25          0\n",
       "year_month    0\n",
       "dtype: int64"
      ]
     },
     "execution_count": 12,
     "metadata": {},
     "output_type": "execute_result"
    }
   ],
   "source": [
    "# 연월 평균으로 결측치 보완\n",
    "\n",
    "for col in ['pm10', 'pm25']:\n",
    "    air_quality[col] = air_quality.groupby('year_month')[col].transform(\n",
    "        lambda x: x.fillna(x.mean())\n",
    "    )\n",
    "\n",
    "air_quality.isnull().sum()"
   ]
  },
  {
   "cell_type": "code",
   "execution_count": 13,
   "id": "62510b57",
   "metadata": {},
   "outputs": [],
   "source": [
    "air_quality.drop(columns='id', inplace=True)\n",
    "air_quality.drop(columns='year_month', inplace=True)"
   ]
  },
  {
   "cell_type": "code",
   "execution_count": 14,
   "id": "62734b5d",
   "metadata": {},
   "outputs": [],
   "source": [
    "air_quality['region'] = air_quality['region'].replace('평균', '서울시')"
   ]
  },
  {
   "cell_type": "code",
   "execution_count": 15,
   "id": "b7b1fecb",
   "metadata": {},
   "outputs": [
    {
     "data": {
      "application/vnd.microsoft.datawrangler.viewer.v0+json": {
       "columns": [
        {
         "name": "index",
         "rawType": "int64",
         "type": "integer"
        },
        {
         "name": "datetime",
         "rawType": "datetime64[ns]",
         "type": "datetime"
        },
        {
         "name": "region",
         "rawType": "object",
         "type": "string"
        },
        {
         "name": "pm10",
         "rawType": "float64",
         "type": "float"
        },
        {
         "name": "pm25",
         "rawType": "float64",
         "type": "float"
        }
       ],
       "ref": "6002ba68-861e-4ea6-8452-b60c2755ecc7",
       "rows": [
        [
         "0",
         "2015-12-31 23:00:00",
         "서울시",
         "93.0",
         "62.0"
        ],
        [
         "1",
         "2015-12-31 23:00:00",
         "강남구",
         "107.0",
         "70.0"
        ],
        [
         "2",
         "2015-12-31 23:00:00",
         "강동구",
         "91.0",
         "51.0"
        ],
        [
         "3",
         "2015-12-31 23:00:00",
         "강북구",
         "92.0",
         "64.0"
        ],
        [
         "4",
         "2015-12-31 23:00:00",
         "강서구",
         "96.0",
         "51.0"
        ],
        [
         "5",
         "2015-12-31 23:00:00",
         "관악구",
         "98.0",
         "68.0"
        ],
        [
         "6",
         "2015-12-31 23:00:00",
         "광진구",
         "101.0",
         "74.0"
        ],
        [
         "7",
         "2015-12-31 23:00:00",
         "구로구",
         "102.0",
         "78.0"
        ],
        [
         "8",
         "2015-12-31 23:00:00",
         "금천구",
         "97.0",
         "73.0"
        ],
        [
         "9",
         "2015-12-31 23:00:00",
         "노원구",
         "80.0",
         "57.0"
        ],
        [
         "10",
         "2015-12-31 23:00:00",
         "도봉구",
         "91.0",
         "58.0"
        ],
        [
         "11",
         "2015-12-31 23:00:00",
         "동대문구",
         "84.0",
         "64.0"
        ],
        [
         "12",
         "2015-12-31 23:00:00",
         "동작구",
         "70.0",
         "58.0"
        ],
        [
         "13",
         "2015-12-31 23:00:00",
         "마포구",
         "83.0",
         "69.0"
        ],
        [
         "14",
         "2015-12-31 23:00:00",
         "서대문구",
         "108.0",
         "56.0"
        ],
        [
         "15",
         "2015-12-31 23:00:00",
         "서초구",
         "114.0",
         "51.0"
        ],
        [
         "16",
         "2015-12-31 23:00:00",
         "성동구",
         "114.0",
         "59.0"
        ],
        [
         "17",
         "2015-12-31 23:00:00",
         "성북구",
         "69.0",
         "58.0"
        ],
        [
         "18",
         "2015-12-31 23:00:00",
         "송파구",
         "93.0",
         "51.0"
        ],
        [
         "19",
         "2015-12-31 23:00:00",
         "양천구",
         "113.0",
         "89.0"
        ],
        [
         "20",
         "2015-12-31 23:00:00",
         "영등포구",
         "118.0",
         "64.0"
        ],
        [
         "21",
         "2015-12-31 23:00:00",
         "용산구",
         "74.0",
         "63.0"
        ],
        [
         "22",
         "2015-12-31 23:00:00",
         "은평구",
         "71.0",
         "41.0"
        ],
        [
         "23",
         "2015-12-31 23:00:00",
         "종로구",
         "89.0",
         "70.0"
        ],
        [
         "24",
         "2015-12-31 23:00:00",
         "중구",
         "93.0",
         "48.0"
        ],
        [
         "25",
         "2015-12-31 23:00:00",
         "중랑구",
         "87.0",
         "59.0"
        ],
        [
         "26",
         "2015-12-31 22:00:00",
         "서울시",
         "97.0",
         "63.0"
        ],
        [
         "27",
         "2015-12-31 22:00:00",
         "강남구",
         "112.0",
         "69.0"
        ],
        [
         "28",
         "2015-12-31 22:00:00",
         "강동구",
         "100.0",
         "55.0"
        ],
        [
         "29",
         "2015-12-31 22:00:00",
         "강북구",
         "94.0",
         "64.0"
        ],
        [
         "30",
         "2015-12-31 22:00:00",
         "강서구",
         "100.0",
         "60.0"
        ],
        [
         "31",
         "2015-12-31 22:00:00",
         "관악구",
         "95.0",
         "63.0"
        ],
        [
         "32",
         "2015-12-31 22:00:00",
         "광진구",
         "103.0",
         "76.0"
        ],
        [
         "33",
         "2015-12-31 22:00:00",
         "구로구",
         "94.0",
         "56.0"
        ],
        [
         "34",
         "2015-12-31 22:00:00",
         "금천구",
         "98.0",
         "75.0"
        ],
        [
         "35",
         "2015-12-31 22:00:00",
         "노원구",
         "81.0",
         "62.0"
        ],
        [
         "36",
         "2015-12-31 22:00:00",
         "도봉구",
         "91.0",
         "59.0"
        ],
        [
         "37",
         "2015-12-31 22:00:00",
         "동대문구",
         "83.0",
         "68.0"
        ],
        [
         "38",
         "2015-12-31 22:00:00",
         "동작구",
         "103.0",
         "56.0"
        ],
        [
         "39",
         "2015-12-31 22:00:00",
         "마포구",
         "82.0",
         "69.0"
        ],
        [
         "40",
         "2015-12-31 22:00:00",
         "서대문구",
         "119.0",
         "66.0"
        ],
        [
         "41",
         "2015-12-31 22:00:00",
         "서초구",
         "111.0",
         "55.0"
        ],
        [
         "42",
         "2015-12-31 22:00:00",
         "성동구",
         "113.0",
         "53.0"
        ],
        [
         "43",
         "2015-12-31 22:00:00",
         "성북구",
         "81.0",
         "57.0"
        ],
        [
         "44",
         "2015-12-31 22:00:00",
         "송파구",
         "97.0",
         "54.0"
        ],
        [
         "45",
         "2015-12-31 22:00:00",
         "양천구",
         "109.0",
         "85.0"
        ],
        [
         "46",
         "2015-12-31 22:00:00",
         "영등포구",
         "131.0",
         "68.0"
        ],
        [
         "47",
         "2015-12-31 22:00:00",
         "용산구",
         "69.0",
         "61.0"
        ],
        [
         "48",
         "2015-12-31 22:00:00",
         "은평구",
         "82.0",
         "48.0"
        ],
        [
         "49",
         "2015-12-31 22:00:00",
         "종로구",
         "92.0",
         "73.0"
        ]
       ],
       "shape": {
        "columns": 4,
        "rows": 2958926
       }
      },
      "text/html": [
       "<div>\n",
       "<style scoped>\n",
       "    .dataframe tbody tr th:only-of-type {\n",
       "        vertical-align: middle;\n",
       "    }\n",
       "\n",
       "    .dataframe tbody tr th {\n",
       "        vertical-align: top;\n",
       "    }\n",
       "\n",
       "    .dataframe thead th {\n",
       "        text-align: right;\n",
       "    }\n",
       "</style>\n",
       "<table border=\"1\" class=\"dataframe\">\n",
       "  <thead>\n",
       "    <tr style=\"text-align: right;\">\n",
       "      <th></th>\n",
       "      <th>datetime</th>\n",
       "      <th>region</th>\n",
       "      <th>pm10</th>\n",
       "      <th>pm25</th>\n",
       "    </tr>\n",
       "  </thead>\n",
       "  <tbody>\n",
       "    <tr>\n",
       "      <th>0</th>\n",
       "      <td>2015-12-31 23:00:00</td>\n",
       "      <td>서울시</td>\n",
       "      <td>93.0</td>\n",
       "      <td>62.0</td>\n",
       "    </tr>\n",
       "    <tr>\n",
       "      <th>1</th>\n",
       "      <td>2015-12-31 23:00:00</td>\n",
       "      <td>강남구</td>\n",
       "      <td>107.0</td>\n",
       "      <td>70.0</td>\n",
       "    </tr>\n",
       "    <tr>\n",
       "      <th>2</th>\n",
       "      <td>2015-12-31 23:00:00</td>\n",
       "      <td>강동구</td>\n",
       "      <td>91.0</td>\n",
       "      <td>51.0</td>\n",
       "    </tr>\n",
       "    <tr>\n",
       "      <th>3</th>\n",
       "      <td>2015-12-31 23:00:00</td>\n",
       "      <td>강북구</td>\n",
       "      <td>92.0</td>\n",
       "      <td>64.0</td>\n",
       "    </tr>\n",
       "    <tr>\n",
       "      <th>4</th>\n",
       "      <td>2015-12-31 23:00:00</td>\n",
       "      <td>강서구</td>\n",
       "      <td>96.0</td>\n",
       "      <td>51.0</td>\n",
       "    </tr>\n",
       "    <tr>\n",
       "      <th>...</th>\n",
       "      <td>...</td>\n",
       "      <td>...</td>\n",
       "      <td>...</td>\n",
       "      <td>...</td>\n",
       "    </tr>\n",
       "    <tr>\n",
       "      <th>2958921</th>\n",
       "      <td>2024-01-01 00:00:00</td>\n",
       "      <td>용산구</td>\n",
       "      <td>35.0</td>\n",
       "      <td>25.0</td>\n",
       "    </tr>\n",
       "    <tr>\n",
       "      <th>2958922</th>\n",
       "      <td>2024-01-01 00:00:00</td>\n",
       "      <td>은평구</td>\n",
       "      <td>21.0</td>\n",
       "      <td>15.0</td>\n",
       "    </tr>\n",
       "    <tr>\n",
       "      <th>2958923</th>\n",
       "      <td>2024-01-01 00:00:00</td>\n",
       "      <td>종로구</td>\n",
       "      <td>28.0</td>\n",
       "      <td>26.0</td>\n",
       "    </tr>\n",
       "    <tr>\n",
       "      <th>2958924</th>\n",
       "      <td>2024-01-01 00:00:00</td>\n",
       "      <td>중구</td>\n",
       "      <td>26.0</td>\n",
       "      <td>26.0</td>\n",
       "    </tr>\n",
       "    <tr>\n",
       "      <th>2958925</th>\n",
       "      <td>2024-01-01 00:00:00</td>\n",
       "      <td>중랑구</td>\n",
       "      <td>28.0</td>\n",
       "      <td>23.0</td>\n",
       "    </tr>\n",
       "  </tbody>\n",
       "</table>\n",
       "<p>2958926 rows × 4 columns</p>\n",
       "</div>"
      ],
      "text/plain": [
       "                   datetime region   pm10  pm25\n",
       "0       2015-12-31 23:00:00    서울시   93.0  62.0\n",
       "1       2015-12-31 23:00:00    강남구  107.0  70.0\n",
       "2       2015-12-31 23:00:00    강동구   91.0  51.0\n",
       "3       2015-12-31 23:00:00    강북구   92.0  64.0\n",
       "4       2015-12-31 23:00:00    강서구   96.0  51.0\n",
       "...                     ...    ...    ...   ...\n",
       "2958921 2024-01-01 00:00:00    용산구   35.0  25.0\n",
       "2958922 2024-01-01 00:00:00    은평구   21.0  15.0\n",
       "2958923 2024-01-01 00:00:00    종로구   28.0  26.0\n",
       "2958924 2024-01-01 00:00:00     중구   26.0  26.0\n",
       "2958925 2024-01-01 00:00:00    중랑구   28.0  23.0\n",
       "\n",
       "[2958926 rows x 4 columns]"
      ]
     },
     "execution_count": 15,
     "metadata": {},
     "output_type": "execute_result"
    }
   ],
   "source": [
    "#air_quality_최종\n",
    "air_quality"
   ]
  },
  {
   "cell_type": "code",
   "execution_count": 16,
   "id": "da159c1c",
   "metadata": {},
   "outputs": [
    {
     "data": {
      "application/vnd.microsoft.datawrangler.viewer.v0+json": {
       "columns": [
        {
         "name": "index",
         "rawType": "int64",
         "type": "integer"
        },
        {
         "name": "id",
         "rawType": "int64",
         "type": "integer"
        },
        {
         "name": "station_id",
         "rawType": "int64",
         "type": "integer"
        },
        {
         "name": "station_name",
         "rawType": "object",
         "type": "string"
        },
        {
         "name": "datetime",
         "rawType": "datetime64[ns]",
         "type": "datetime"
        },
        {
         "name": "temperature",
         "rawType": "float64",
         "type": "float"
        },
        {
         "name": "wind_direction",
         "rawType": "float64",
         "type": "float"
        },
        {
         "name": "wind_speed",
         "rawType": "float64",
         "type": "float"
        },
        {
         "name": "precipitation",
         "rawType": "float64",
         "type": "float"
        },
        {
         "name": "humidity",
         "rawType": "float64",
         "type": "float"
        }
       ],
       "ref": "3c2aa125-dd9b-457c-99ce-07fbcffc38bd",
       "rows": [
        [
         "0",
         "1587340",
         "400",
         "강남",
         "2015-01-01 01:00:00",
         "-6.3",
         "314.7",
         "2.7",
         "0.0",
         "30.0"
        ],
        [
         "1",
         "1587341",
         "417",
         "금천",
         "2015-01-01 01:00:00",
         "-6.7",
         "313.5",
         "2.3",
         "0.0",
         "63.5432"
        ],
        [
         "2",
         "1587342",
         "424",
         "강북*",
         "2015-01-01 01:00:00",
         "-6.8",
         "308.6",
         "5.2",
         "0.0",
         "36.0"
        ],
        [
         "3",
         "1587343",
         "421",
         "성동",
         "2015-01-01 01:00:00",
         "-5.8",
         "319.9",
         "4.1",
         "0.0",
         "36.0"
        ],
        [
         "4",
         "1587344",
         "416",
         "은평",
         "2015-01-01 01:00:00",
         "-7.5",
         "356.7",
         "1.0",
         "0.0",
         "63.5432"
        ]
       ],
       "shape": {
        "columns": 9,
        "rows": 5
       }
      },
      "text/html": [
       "<div>\n",
       "<style scoped>\n",
       "    .dataframe tbody tr th:only-of-type {\n",
       "        vertical-align: middle;\n",
       "    }\n",
       "\n",
       "    .dataframe tbody tr th {\n",
       "        vertical-align: top;\n",
       "    }\n",
       "\n",
       "    .dataframe thead th {\n",
       "        text-align: right;\n",
       "    }\n",
       "</style>\n",
       "<table border=\"1\" class=\"dataframe\">\n",
       "  <thead>\n",
       "    <tr style=\"text-align: right;\">\n",
       "      <th></th>\n",
       "      <th>id</th>\n",
       "      <th>station_id</th>\n",
       "      <th>station_name</th>\n",
       "      <th>datetime</th>\n",
       "      <th>temperature</th>\n",
       "      <th>wind_direction</th>\n",
       "      <th>wind_speed</th>\n",
       "      <th>precipitation</th>\n",
       "      <th>humidity</th>\n",
       "    </tr>\n",
       "  </thead>\n",
       "  <tbody>\n",
       "    <tr>\n",
       "      <th>0</th>\n",
       "      <td>1587340</td>\n",
       "      <td>400</td>\n",
       "      <td>강남</td>\n",
       "      <td>2015-01-01 01:00:00</td>\n",
       "      <td>-6.3</td>\n",
       "      <td>314.7</td>\n",
       "      <td>2.7</td>\n",
       "      <td>0.0</td>\n",
       "      <td>30.0000</td>\n",
       "    </tr>\n",
       "    <tr>\n",
       "      <th>1</th>\n",
       "      <td>1587341</td>\n",
       "      <td>417</td>\n",
       "      <td>금천</td>\n",
       "      <td>2015-01-01 01:00:00</td>\n",
       "      <td>-6.7</td>\n",
       "      <td>313.5</td>\n",
       "      <td>2.3</td>\n",
       "      <td>0.0</td>\n",
       "      <td>63.5432</td>\n",
       "    </tr>\n",
       "    <tr>\n",
       "      <th>2</th>\n",
       "      <td>1587342</td>\n",
       "      <td>424</td>\n",
       "      <td>강북*</td>\n",
       "      <td>2015-01-01 01:00:00</td>\n",
       "      <td>-6.8</td>\n",
       "      <td>308.6</td>\n",
       "      <td>5.2</td>\n",
       "      <td>0.0</td>\n",
       "      <td>36.0000</td>\n",
       "    </tr>\n",
       "    <tr>\n",
       "      <th>3</th>\n",
       "      <td>1587343</td>\n",
       "      <td>421</td>\n",
       "      <td>성동</td>\n",
       "      <td>2015-01-01 01:00:00</td>\n",
       "      <td>-5.8</td>\n",
       "      <td>319.9</td>\n",
       "      <td>4.1</td>\n",
       "      <td>0.0</td>\n",
       "      <td>36.0000</td>\n",
       "    </tr>\n",
       "    <tr>\n",
       "      <th>4</th>\n",
       "      <td>1587344</td>\n",
       "      <td>416</td>\n",
       "      <td>은평</td>\n",
       "      <td>2015-01-01 01:00:00</td>\n",
       "      <td>-7.5</td>\n",
       "      <td>356.7</td>\n",
       "      <td>1.0</td>\n",
       "      <td>0.0</td>\n",
       "      <td>63.5432</td>\n",
       "    </tr>\n",
       "  </tbody>\n",
       "</table>\n",
       "</div>"
      ],
      "text/plain": [
       "        id  station_id station_name            datetime  temperature  \\\n",
       "0  1587340         400           강남 2015-01-01 01:00:00         -6.3   \n",
       "1  1587341         417           금천 2015-01-01 01:00:00         -6.7   \n",
       "2  1587342         424          강북* 2015-01-01 01:00:00         -6.8   \n",
       "3  1587343         421           성동 2015-01-01 01:00:00         -5.8   \n",
       "4  1587344         416           은평 2015-01-01 01:00:00         -7.5   \n",
       "\n",
       "   wind_direction  wind_speed  precipitation  humidity  \n",
       "0           314.7         2.7            0.0   30.0000  \n",
       "1           313.5         2.3            0.0   63.5432  \n",
       "2           308.6         5.2            0.0   36.0000  \n",
       "3           319.9         4.1            0.0   36.0000  \n",
       "4           356.7         1.0            0.0   63.5432  "
      ]
     },
     "execution_count": 16,
     "metadata": {},
     "output_type": "execute_result"
    }
   ],
   "source": [
    "# weather 테이블 데이터 읽어오기\n",
    "query_3 = \"SELECT * FROM weather\"\n",
    "weather = pd.read_sql(query_3, con=engine)\n",
    "\n",
    "# ▶ 결과 확인\n",
    "weather.head()"
   ]
  },
  {
   "cell_type": "code",
   "execution_count": 17,
   "id": "ea6faf33",
   "metadata": {},
   "outputs": [
    {
     "data": {
      "application/vnd.microsoft.datawrangler.viewer.v0+json": {
       "columns": [
        {
         "name": "index",
         "rawType": "object",
         "type": "string"
        },
        {
         "name": "0",
         "rawType": "int64",
         "type": "integer"
        }
       ],
       "ref": "3d7fa289-272b-431b-8456-d541c6473985",
       "rows": [
        [
         "id",
         "0"
        ],
        [
         "station_id",
         "0"
        ],
        [
         "station_name",
         "0"
        ],
        [
         "datetime",
         "0"
        ],
        [
         "temperature",
         "0"
        ],
        [
         "wind_direction",
         "0"
        ],
        [
         "wind_speed",
         "0"
        ],
        [
         "precipitation",
         "0"
        ],
        [
         "humidity",
         "0"
        ]
       ],
       "shape": {
        "columns": 1,
        "rows": 9
       }
      },
      "text/plain": [
       "id                0\n",
       "station_id        0\n",
       "station_name      0\n",
       "datetime          0\n",
       "temperature       0\n",
       "wind_direction    0\n",
       "wind_speed        0\n",
       "precipitation     0\n",
       "humidity          0\n",
       "dtype: int64"
      ]
     },
     "execution_count": 17,
     "metadata": {},
     "output_type": "execute_result"
    }
   ],
   "source": [
    "weather.isnull().sum()"
   ]
  },
  {
   "cell_type": "code",
   "execution_count": 18,
   "id": "298a1e34",
   "metadata": {},
   "outputs": [
    {
     "data": {
      "text/plain": [
       "array(['강남', '금천', '강북*', '성동', '은평', '양천', '한강', '서초', '관악', '영등포', '강서',\n",
       "       '중구', '성북', '도봉', '용산', '동대문', '광진', '중랑', '강동', '기상청', '노원', '마포',\n",
       "       '구로', '송파', '서대문', '남현', '현충원', '북악산'], dtype=object)"
      ]
     },
     "execution_count": 18,
     "metadata": {},
     "output_type": "execute_result"
    }
   ],
   "source": [
    "weather.drop(['station_id'], axis=1, inplace=True)\n",
    "weather.drop(['id'], axis=1, inplace=True)\n",
    "weather.rename(columns={\"station_name\": \"region\"}, inplace=True)\n",
    "weather['region'].unique()"
   ]
  },
  {
   "cell_type": "code",
   "execution_count": 19,
   "id": "604b665f",
   "metadata": {},
   "outputs": [
    {
     "data": {
      "application/vnd.microsoft.datawrangler.viewer.v0+json": {
       "columns": [
        {
         "name": "index",
         "rawType": "object",
         "type": "string"
        },
        {
         "name": "0",
         "rawType": "int64",
         "type": "integer"
        }
       ],
       "ref": "e71d4be6-a533-4fb7-aa2a-817d53d1bb27",
       "rows": [
        [
         "region",
         "0"
        ],
        [
         "datetime",
         "0"
        ],
        [
         "temperature",
         "0"
        ],
        [
         "wind_direction",
         "0"
        ],
        [
         "wind_speed",
         "0"
        ],
        [
         "precipitation",
         "0"
        ],
        [
         "humidity",
         "0"
        ]
       ],
       "shape": {
        "columns": 1,
        "rows": 7
       }
      },
      "text/plain": [
       "region            0\n",
       "datetime          0\n",
       "temperature       0\n",
       "wind_direction    0\n",
       "wind_speed        0\n",
       "precipitation     0\n",
       "humidity          0\n",
       "dtype: int64"
      ]
     },
     "execution_count": 19,
     "metadata": {},
     "output_type": "execute_result"
    }
   ],
   "source": [
    "weather.isnull().sum()"
   ]
  },
  {
   "cell_type": "code",
   "execution_count": 20,
   "id": "a2d20dd8",
   "metadata": {},
   "outputs": [],
   "source": [
    "station_to_gu = {\n",
    "    '강남': '강남구',\n",
    "    '서초': '서초구',\n",
    "    '강동': '강동구',\n",
    "    '송파': '송파구',\n",
    "    '강서': '강서구',\n",
    "    '양천': '양천구',\n",
    "    '도봉': '도봉구',\n",
    "    '노원': '노원구',\n",
    "    '동대문': '동대문구',\n",
    "    '중랑': '중랑구',\n",
    "    '기상청': '동작구',\n",
    "    '마포': '마포구',\n",
    "    '서대문': '서대문구',\n",
    "    '광진': '광진구',\n",
    "    '성북': '성북구',\n",
    "    '용산': '용산구',\n",
    "    '은평': '은평구',\n",
    "    '금천': '금천구',\n",
    "    '한강': '영등포구',\n",
    "    '중구': '중구',\n",
    "    '성동': '성동구',\n",
    "    '북악산': '종로구',\n",
    "    '구로': '구로구',\n",
    "    '강북*': '강북구',\n",
    "    '남현': '관악구',\n",
    "    '관악': '관악구',\n",
    "    '영등포': '영등포구',\n",
    "    '현충원': '동작구'\n",
    "}\n",
    "\n",
    "weather['region'] = weather['region'].map(station_to_gu)"
   ]
  },
  {
   "cell_type": "code",
   "execution_count": 21,
   "id": "7b997098",
   "metadata": {},
   "outputs": [
    {
     "data": {
      "application/vnd.microsoft.datawrangler.viewer.v0+json": {
       "columns": [
        {
         "name": "index",
         "rawType": "int64",
         "type": "integer"
        },
        {
         "name": "datetime",
         "rawType": "datetime64[ns]",
         "type": "datetime"
        },
        {
         "name": "region",
         "rawType": "object",
         "type": "string"
        },
        {
         "name": "temperature",
         "rawType": "float64",
         "type": "float"
        },
        {
         "name": "wind_direction",
         "rawType": "float64",
         "type": "float"
        },
        {
         "name": "wind_speed",
         "rawType": "float64",
         "type": "float"
        },
        {
         "name": "precipitation",
         "rawType": "float64",
         "type": "float"
        },
        {
         "name": "humidity",
         "rawType": "float64",
         "type": "float"
        }
       ],
       "ref": "d9bea4aa-e0b9-48e4-b6ab-c646e14f0f63",
       "rows": [
        [
         "0",
         "2015-01-01 01:00:00",
         "강남구",
         "-6.3",
         "314.7",
         "2.7",
         "0.0",
         "30.0"
        ],
        [
         "1",
         "2015-01-01 01:00:00",
         "강동구",
         "-6.5",
         "58.4",
         "1.0",
         "0.0",
         "32.0"
        ],
        [
         "2",
         "2015-01-01 01:00:00",
         "강북구",
         "-6.8",
         "308.6",
         "5.2",
         "0.0",
         "36.0"
        ],
        [
         "3",
         "2015-01-01 01:00:00",
         "강서구",
         "-6.8",
         "270.2",
         "1.8",
         "0.0",
         "63.5432"
        ],
        [
         "4",
         "2015-01-01 01:00:00",
         "관악구",
         "-6.9",
         "179.35",
         "3.5999999999999996",
         "0.0",
         "50.7716"
        ]
       ],
       "shape": {
        "columns": 7,
        "rows": 5
       }
      },
      "text/html": [
       "<div>\n",
       "<style scoped>\n",
       "    .dataframe tbody tr th:only-of-type {\n",
       "        vertical-align: middle;\n",
       "    }\n",
       "\n",
       "    .dataframe tbody tr th {\n",
       "        vertical-align: top;\n",
       "    }\n",
       "\n",
       "    .dataframe thead th {\n",
       "        text-align: right;\n",
       "    }\n",
       "</style>\n",
       "<table border=\"1\" class=\"dataframe\">\n",
       "  <thead>\n",
       "    <tr style=\"text-align: right;\">\n",
       "      <th></th>\n",
       "      <th>datetime</th>\n",
       "      <th>region</th>\n",
       "      <th>temperature</th>\n",
       "      <th>wind_direction</th>\n",
       "      <th>wind_speed</th>\n",
       "      <th>precipitation</th>\n",
       "      <th>humidity</th>\n",
       "    </tr>\n",
       "  </thead>\n",
       "  <tbody>\n",
       "    <tr>\n",
       "      <th>0</th>\n",
       "      <td>2015-01-01 01:00:00</td>\n",
       "      <td>강남구</td>\n",
       "      <td>-6.3</td>\n",
       "      <td>314.70</td>\n",
       "      <td>2.7</td>\n",
       "      <td>0.0</td>\n",
       "      <td>30.0000</td>\n",
       "    </tr>\n",
       "    <tr>\n",
       "      <th>1</th>\n",
       "      <td>2015-01-01 01:00:00</td>\n",
       "      <td>강동구</td>\n",
       "      <td>-6.5</td>\n",
       "      <td>58.40</td>\n",
       "      <td>1.0</td>\n",
       "      <td>0.0</td>\n",
       "      <td>32.0000</td>\n",
       "    </tr>\n",
       "    <tr>\n",
       "      <th>2</th>\n",
       "      <td>2015-01-01 01:00:00</td>\n",
       "      <td>강북구</td>\n",
       "      <td>-6.8</td>\n",
       "      <td>308.60</td>\n",
       "      <td>5.2</td>\n",
       "      <td>0.0</td>\n",
       "      <td>36.0000</td>\n",
       "    </tr>\n",
       "    <tr>\n",
       "      <th>3</th>\n",
       "      <td>2015-01-01 01:00:00</td>\n",
       "      <td>강서구</td>\n",
       "      <td>-6.8</td>\n",
       "      <td>270.20</td>\n",
       "      <td>1.8</td>\n",
       "      <td>0.0</td>\n",
       "      <td>63.5432</td>\n",
       "    </tr>\n",
       "    <tr>\n",
       "      <th>4</th>\n",
       "      <td>2015-01-01 01:00:00</td>\n",
       "      <td>관악구</td>\n",
       "      <td>-6.9</td>\n",
       "      <td>179.35</td>\n",
       "      <td>3.6</td>\n",
       "      <td>0.0</td>\n",
       "      <td>50.7716</td>\n",
       "    </tr>\n",
       "  </tbody>\n",
       "</table>\n",
       "</div>"
      ],
      "text/plain": [
       "             datetime region  temperature  wind_direction  wind_speed  \\\n",
       "0 2015-01-01 01:00:00    강남구         -6.3          314.70         2.7   \n",
       "1 2015-01-01 01:00:00    강동구         -6.5           58.40         1.0   \n",
       "2 2015-01-01 01:00:00    강북구         -6.8          308.60         5.2   \n",
       "3 2015-01-01 01:00:00    강서구         -6.8          270.20         1.8   \n",
       "4 2015-01-01 01:00:00    관악구         -6.9          179.35         3.6   \n",
       "\n",
       "   precipitation  humidity  \n",
       "0            0.0   30.0000  \n",
       "1            0.0   32.0000  \n",
       "2            0.0   36.0000  \n",
       "3            0.0   63.5432  \n",
       "4            0.0   50.7716  "
      ]
     },
     "execution_count": 21,
     "metadata": {},
     "output_type": "execute_result"
    }
   ],
   "source": [
    "weather.groupby(['datetime', 'region']).ngroups\n",
    "weather_cleaned = weather.groupby(['datetime', 'region'], as_index=False).mean()\n",
    "weather_cleaned.head()"
   ]
  },
  {
   "cell_type": "code",
   "execution_count": 22,
   "id": "b9eb61ca",
   "metadata": {},
   "outputs": [
    {
     "name": "stdout",
     "output_type": "stream",
     "text": [
      "region\n",
      "동작구     91032\n",
      "영등포구    91026\n",
      "강북구     90995\n",
      "관악구     90993\n",
      "성북구     90889\n",
      "서대문구    90865\n",
      "동대문구    90836\n",
      "노원구     90827\n",
      "구로구     90810\n",
      "중랑구     90793\n",
      "도봉구     90703\n",
      "광진구     90701\n",
      "강남구     90616\n",
      "강동구     90092\n",
      "성동구     90053\n",
      "마포구     89806\n",
      "금천구     86022\n",
      "중구      85991\n",
      "용산구     84840\n",
      "서초구     82227\n",
      "양천구     82218\n",
      "송파구     82182\n",
      "강서구     81963\n",
      "은평구     81556\n",
      "종로구     34205\n",
      "Name: count, dtype: int64\n"
     ]
    }
   ],
   "source": [
    "print(weather_cleaned['region'].value_counts())"
   ]
  },
  {
   "cell_type": "code",
   "execution_count": 23,
   "id": "0888e9f4",
   "metadata": {},
   "outputs": [
    {
     "data": {
      "application/vnd.microsoft.datawrangler.viewer.v0+json": {
       "columns": [
        {
         "name": "index",
         "rawType": "int64",
         "type": "integer"
        },
        {
         "name": "datetime",
         "rawType": "datetime64[ns]",
         "type": "datetime"
        },
        {
         "name": "region",
         "rawType": "object",
         "type": "string"
        },
        {
         "name": "temperature",
         "rawType": "float64",
         "type": "float"
        },
        {
         "name": "wind_direction",
         "rawType": "float64",
         "type": "float"
        },
        {
         "name": "wind_speed",
         "rawType": "float64",
         "type": "float"
        },
        {
         "name": "precipitation",
         "rawType": "float64",
         "type": "float"
        },
        {
         "name": "humidity",
         "rawType": "float64",
         "type": "float"
        }
       ],
       "ref": "2d830c74-62fc-4ab3-a29c-595183538400",
       "rows": [
        [
         "0",
         "2015-01-01 01:00:00",
         "강남구",
         "-6.3",
         "314.7",
         "2.7",
         "0.0",
         "30.0"
        ],
        [
         "1",
         "2015-01-01 01:00:00",
         "강동구",
         "-6.5",
         "58.4",
         "1.0",
         "0.0",
         "32.0"
        ],
        [
         "2",
         "2015-01-01 01:00:00",
         "강북구",
         "-6.8",
         "308.6",
         "5.2",
         "0.0",
         "36.0"
        ],
        [
         "3",
         "2015-01-01 01:00:00",
         "강서구",
         "-6.8",
         "270.2",
         "1.8",
         "0.0",
         "63.5432"
        ],
        [
         "4",
         "2015-01-01 01:00:00",
         "관악구",
         "-6.9",
         "179.35",
         "3.5999999999999996",
         "0.0",
         "50.7716"
        ],
        [
         "5",
         "2015-01-01 01:00:00",
         "광진구",
         "-5.9",
         "322.7",
         "5.1",
         "0.0",
         "28.0"
        ],
        [
         "6",
         "2015-01-01 01:00:00",
         "구로구",
         "-6.8",
         "313.6",
         "3.9",
         "0.0",
         "37.0"
        ],
        [
         "7",
         "2015-01-01 01:00:00",
         "금천구",
         "-6.7",
         "313.5",
         "2.3",
         "0.0",
         "63.5432"
        ],
        [
         "8",
         "2015-01-01 01:00:00",
         "노원구",
         "-6.5",
         "264.2",
         "2.3",
         "0.0",
         "38.0"
        ],
        [
         "9",
         "2015-01-01 01:00:00",
         "도봉구",
         "-7.4",
         "297.1",
         "2.8",
         "0.0",
         "38.0"
        ],
        [
         "10",
         "2015-01-01 01:00:00",
         "동대문구",
         "-6.4",
         "337.1",
         "2.4",
         "0.0",
         "37.0"
        ],
        [
         "11",
         "2015-01-01 01:00:00",
         "동작구",
         "-6.0",
         "308.04999999999995",
         "2.8499999999999996",
         "0.0",
         "33.0"
        ],
        [
         "12",
         "2015-01-01 01:00:00",
         "마포구",
         "-7.3",
         "304.8",
         "8.3",
         "0.0",
         "34.0"
        ],
        [
         "13",
         "2015-01-01 01:00:00",
         "서대문구",
         "-7.4",
         "312.8",
         "2.5",
         "0.0",
         "63.5432"
        ],
        [
         "14",
         "2015-01-01 01:00:00",
         "서초구",
         "-6.2",
         "278.5",
         "3.7",
         "0.0",
         "63.5432"
        ],
        [
         "15",
         "2015-01-01 01:00:00",
         "성동구",
         "-5.8",
         "319.9",
         "4.1",
         "0.0",
         "36.0"
        ],
        [
         "16",
         "2015-01-01 01:00:00",
         "성북구",
         "-7.4",
         "296.6",
         "3.3",
         "0.0",
         "41.0"
        ],
        [
         "17",
         "2015-01-01 01:00:00",
         "송파구",
         "-6.4",
         "306.6",
         "5.8",
         "0.0",
         "63.5432"
        ],
        [
         "18",
         "2015-01-01 01:00:00",
         "양천구",
         "-6.3",
         "308.3",
         "3.9",
         "0.0",
         "63.5432"
        ],
        [
         "19",
         "2015-01-01 01:00:00",
         "영등포구",
         "-6.1",
         "319.35",
         "5.8999999999999995",
         "0.0",
         "50.2716"
        ],
        [
         "20",
         "2015-01-01 01:00:00",
         "용산구",
         "-6.5",
         "317.2",
         "2.7",
         "0.0",
         "63.5432"
        ],
        [
         "21",
         "2015-01-01 01:00:00",
         "은평구",
         "-7.5",
         "356.7",
         "1.0",
         "0.0",
         "63.5432"
        ],
        [
         "22",
         "2015-01-01 01:00:00",
         "종로구",
         "-10.1",
         "341.8",
         "5.3",
         "0.0",
         "48.0"
        ],
        [
         "23",
         "2015-01-01 01:00:00",
         "중구",
         "-8.7",
         "302.9",
         "6.7",
         "0.0",
         "63.5432"
        ],
        [
         "24",
         "2015-01-01 01:00:00",
         "중랑구",
         "-6.6",
         "321.8",
         "4.0",
         "0.0",
         "36.0"
        ],
        [
         "25",
         "2015-01-01 02:00:00",
         "강남구",
         "-6.9",
         "295.6",
         "3.0",
         "0.0",
         "33.0"
        ],
        [
         "26",
         "2015-01-01 02:00:00",
         "강동구",
         "-7.0",
         "284.7",
         "1.2",
         "0.0",
         "36.0"
        ],
        [
         "27",
         "2015-01-01 02:00:00",
         "강북구",
         "-7.1",
         "285.4",
         "5.3",
         "0.0",
         "39.0"
        ],
        [
         "28",
         "2015-01-01 02:00:00",
         "강서구",
         "-7.3",
         "264.7",
         "1.8",
         "0.0",
         "63.5432"
        ],
        [
         "29",
         "2015-01-01 02:00:00",
         "관악구",
         "-7.300000000000001",
         "169.54999999999998",
         "2.6",
         "0.0",
         "53.2716"
        ],
        [
         "30",
         "2015-01-01 02:00:00",
         "광진구",
         "-6.4",
         "307.6",
         "5.0",
         "0.0",
         "31.0"
        ],
        [
         "31",
         "2015-01-01 02:00:00",
         "구로구",
         "-7.1",
         "321.9",
         "5.4",
         "0.0",
         "39.0"
        ],
        [
         "32",
         "2015-01-01 02:00:00",
         "금천구",
         "-7.2",
         "319.5",
         "2.2",
         "0.0",
         "63.5432"
        ],
        [
         "33",
         "2015-01-01 02:00:00",
         "노원구",
         "-7.0",
         "272.8",
         "3.1",
         "0.0",
         "41.0"
        ],
        [
         "34",
         "2015-01-01 02:00:00",
         "도봉구",
         "-7.8",
         "327.8",
         "2.3",
         "0.0",
         "41.0"
        ],
        [
         "35",
         "2015-01-01 02:00:00",
         "동대문구",
         "-6.9",
         "356.8",
         "4.3",
         "0.0",
         "40.0"
        ],
        [
         "36",
         "2015-01-01 02:00:00",
         "동작구",
         "-6.4",
         "313.85",
         "3.25",
         "0.0",
         "34.5"
        ],
        [
         "37",
         "2015-01-01 02:00:00",
         "마포구",
         "-7.7",
         "312.7",
         "7.1",
         "0.0",
         "38.0"
        ],
        [
         "38",
         "2015-01-01 02:00:00",
         "서대문구",
         "-7.9",
         "305.6",
         "3.5",
         "0.0",
         "63.5432"
        ],
        [
         "39",
         "2015-01-01 02:00:00",
         "서초구",
         "-6.6",
         "301.5",
         "3.4",
         "0.0",
         "63.5432"
        ],
        [
         "40",
         "2015-01-01 02:00:00",
         "성동구",
         "-6.3",
         "314.1",
         "3.6",
         "0.0",
         "39.0"
        ],
        [
         "41",
         "2015-01-01 02:00:00",
         "성북구",
         "-7.8",
         "316.3",
         "4.5",
         "0.0",
         "44.0"
        ],
        [
         "42",
         "2015-01-01 02:00:00",
         "송파구",
         "-7.0",
         "299.4",
         "6.1",
         "0.0",
         "63.5432"
        ],
        [
         "43",
         "2015-01-01 02:00:00",
         "양천구",
         "-6.7",
         "306.0",
         "3.0",
         "0.0",
         "63.5432"
        ],
        [
         "44",
         "2015-01-01 02:00:00",
         "영등포구",
         "-6.5",
         "327.0",
         "5.6",
         "0.0",
         "51.2716"
        ],
        [
         "45",
         "2015-01-01 02:00:00",
         "용산구",
         "-7.0",
         "326.6",
         "3.1",
         "0.0",
         "63.5432"
        ],
        [
         "46",
         "2015-01-01 02:00:00",
         "은평구",
         "-7.9",
         "342.1",
         "2.3",
         "0.0",
         "63.5432"
        ],
        [
         "47",
         "2015-01-01 02:00:00",
         "종로구",
         "-10.5",
         "339.4",
         "7.2",
         "0.0",
         "52.0"
        ],
        [
         "48",
         "2015-01-01 02:00:00",
         "중구",
         "-9.2",
         "315.4",
         "6.4",
         "0.0",
         "63.5432"
        ],
        [
         "49",
         "2015-01-01 02:00:00",
         "중랑구",
         "-7.2",
         "306.6",
         "4.9",
         "0.0",
         "39.0"
        ]
       ],
       "shape": {
        "columns": 7,
        "rows": 2152241
       }
      },
      "text/html": [
       "<div>\n",
       "<style scoped>\n",
       "    .dataframe tbody tr th:only-of-type {\n",
       "        vertical-align: middle;\n",
       "    }\n",
       "\n",
       "    .dataframe tbody tr th {\n",
       "        vertical-align: top;\n",
       "    }\n",
       "\n",
       "    .dataframe thead th {\n",
       "        text-align: right;\n",
       "    }\n",
       "</style>\n",
       "<table border=\"1\" class=\"dataframe\">\n",
       "  <thead>\n",
       "    <tr style=\"text-align: right;\">\n",
       "      <th></th>\n",
       "      <th>datetime</th>\n",
       "      <th>region</th>\n",
       "      <th>temperature</th>\n",
       "      <th>wind_direction</th>\n",
       "      <th>wind_speed</th>\n",
       "      <th>precipitation</th>\n",
       "      <th>humidity</th>\n",
       "    </tr>\n",
       "  </thead>\n",
       "  <tbody>\n",
       "    <tr>\n",
       "      <th>0</th>\n",
       "      <td>2015-01-01 01:00:00</td>\n",
       "      <td>강남구</td>\n",
       "      <td>-6.3</td>\n",
       "      <td>314.70</td>\n",
       "      <td>2.70</td>\n",
       "      <td>0.0</td>\n",
       "      <td>30.0000</td>\n",
       "    </tr>\n",
       "    <tr>\n",
       "      <th>1</th>\n",
       "      <td>2015-01-01 01:00:00</td>\n",
       "      <td>강동구</td>\n",
       "      <td>-6.5</td>\n",
       "      <td>58.40</td>\n",
       "      <td>1.00</td>\n",
       "      <td>0.0</td>\n",
       "      <td>32.0000</td>\n",
       "    </tr>\n",
       "    <tr>\n",
       "      <th>2</th>\n",
       "      <td>2015-01-01 01:00:00</td>\n",
       "      <td>강북구</td>\n",
       "      <td>-6.8</td>\n",
       "      <td>308.60</td>\n",
       "      <td>5.20</td>\n",
       "      <td>0.0</td>\n",
       "      <td>36.0000</td>\n",
       "    </tr>\n",
       "    <tr>\n",
       "      <th>3</th>\n",
       "      <td>2015-01-01 01:00:00</td>\n",
       "      <td>강서구</td>\n",
       "      <td>-6.8</td>\n",
       "      <td>270.20</td>\n",
       "      <td>1.80</td>\n",
       "      <td>0.0</td>\n",
       "      <td>63.5432</td>\n",
       "    </tr>\n",
       "    <tr>\n",
       "      <th>4</th>\n",
       "      <td>2015-01-01 01:00:00</td>\n",
       "      <td>관악구</td>\n",
       "      <td>-6.9</td>\n",
       "      <td>179.35</td>\n",
       "      <td>3.60</td>\n",
       "      <td>0.0</td>\n",
       "      <td>50.7716</td>\n",
       "    </tr>\n",
       "    <tr>\n",
       "      <th>...</th>\n",
       "      <td>...</td>\n",
       "      <td>...</td>\n",
       "      <td>...</td>\n",
       "      <td>...</td>\n",
       "      <td>...</td>\n",
       "      <td>...</td>\n",
       "      <td>...</td>\n",
       "    </tr>\n",
       "    <tr>\n",
       "      <th>2152236</th>\n",
       "      <td>2025-05-31 00:00:00</td>\n",
       "      <td>영등포구</td>\n",
       "      <td>20.5</td>\n",
       "      <td>27.30</td>\n",
       "      <td>0.45</td>\n",
       "      <td>0.0</td>\n",
       "      <td>57.0000</td>\n",
       "    </tr>\n",
       "    <tr>\n",
       "      <th>2152237</th>\n",
       "      <td>2025-05-31 00:00:00</td>\n",
       "      <td>용산구</td>\n",
       "      <td>21.0</td>\n",
       "      <td>5.90</td>\n",
       "      <td>0.50</td>\n",
       "      <td>0.0</td>\n",
       "      <td>57.0000</td>\n",
       "    </tr>\n",
       "    <tr>\n",
       "      <th>2152238</th>\n",
       "      <td>2025-05-31 00:00:00</td>\n",
       "      <td>은평구</td>\n",
       "      <td>14.6</td>\n",
       "      <td>0.00</td>\n",
       "      <td>0.10</td>\n",
       "      <td>0.0</td>\n",
       "      <td>84.0000</td>\n",
       "    </tr>\n",
       "    <tr>\n",
       "      <th>2152239</th>\n",
       "      <td>2025-05-31 00:00:00</td>\n",
       "      <td>중구</td>\n",
       "      <td>19.3</td>\n",
       "      <td>312.30</td>\n",
       "      <td>2.50</td>\n",
       "      <td>0.0</td>\n",
       "      <td>60.0000</td>\n",
       "    </tr>\n",
       "    <tr>\n",
       "      <th>2152240</th>\n",
       "      <td>2025-05-31 00:00:00</td>\n",
       "      <td>중랑구</td>\n",
       "      <td>21.2</td>\n",
       "      <td>118.80</td>\n",
       "      <td>1.30</td>\n",
       "      <td>0.0</td>\n",
       "      <td>55.0000</td>\n",
       "    </tr>\n",
       "  </tbody>\n",
       "</table>\n",
       "<p>2152241 rows × 7 columns</p>\n",
       "</div>"
      ],
      "text/plain": [
       "                   datetime region  temperature  wind_direction  wind_speed  \\\n",
       "0       2015-01-01 01:00:00    강남구         -6.3          314.70        2.70   \n",
       "1       2015-01-01 01:00:00    강동구         -6.5           58.40        1.00   \n",
       "2       2015-01-01 01:00:00    강북구         -6.8          308.60        5.20   \n",
       "3       2015-01-01 01:00:00    강서구         -6.8          270.20        1.80   \n",
       "4       2015-01-01 01:00:00    관악구         -6.9          179.35        3.60   \n",
       "...                     ...    ...          ...             ...         ...   \n",
       "2152236 2025-05-31 00:00:00   영등포구         20.5           27.30        0.45   \n",
       "2152237 2025-05-31 00:00:00    용산구         21.0            5.90        0.50   \n",
       "2152238 2025-05-31 00:00:00    은평구         14.6            0.00        0.10   \n",
       "2152239 2025-05-31 00:00:00     중구         19.3          312.30        2.50   \n",
       "2152240 2025-05-31 00:00:00    중랑구         21.2          118.80        1.30   \n",
       "\n",
       "         precipitation  humidity  \n",
       "0                  0.0   30.0000  \n",
       "1                  0.0   32.0000  \n",
       "2                  0.0   36.0000  \n",
       "3                  0.0   63.5432  \n",
       "4                  0.0   50.7716  \n",
       "...                ...       ...  \n",
       "2152236            0.0   57.0000  \n",
       "2152237            0.0   57.0000  \n",
       "2152238            0.0   84.0000  \n",
       "2152239            0.0   60.0000  \n",
       "2152240            0.0   55.0000  \n",
       "\n",
       "[2152241 rows x 7 columns]"
      ]
     },
     "execution_count": 23,
     "metadata": {},
     "output_type": "execute_result"
    }
   ],
   "source": [
    "#weather_최종\n",
    "weather_cleaned"
   ]
  },
  {
   "cell_type": "code",
   "execution_count": 24,
   "id": "3cd3dfcb",
   "metadata": {},
   "outputs": [
    {
     "data": {
      "application/vnd.microsoft.datawrangler.viewer.v0+json": {
       "columns": [
        {
         "name": "index",
         "rawType": "int64",
         "type": "integer"
        },
        {
         "name": "id",
         "rawType": "int64",
         "type": "integer"
        },
        {
         "name": "datetime",
         "rawType": "datetime64[ns]",
         "type": "datetime"
        },
        {
         "name": "region",
         "rawType": "object",
         "type": "string"
        },
        {
         "name": "uv_max",
         "rawType": "float64",
         "type": "float"
        }
       ],
       "ref": "0f34cedc-9c48-47ee-b7d6-c41f96a54197",
       "rows": [
        [
         "0",
         "1",
         "2015-01-01 00:00:00",
         "서울시",
         null
        ],
        [
         "1",
         "2",
         "2015-01-02 00:00:00",
         "서울시",
         null
        ],
        [
         "2",
         "3",
         "2015-01-03 00:00:00",
         "서울시",
         null
        ],
        [
         "3",
         "4",
         "2015-01-04 00:00:00",
         "서울시",
         null
        ],
        [
         "4",
         "5",
         "2015-01-05 00:00:00",
         "서울시",
         null
        ]
       ],
       "shape": {
        "columns": 4,
        "rows": 5
       }
      },
      "text/html": [
       "<div>\n",
       "<style scoped>\n",
       "    .dataframe tbody tr th:only-of-type {\n",
       "        vertical-align: middle;\n",
       "    }\n",
       "\n",
       "    .dataframe tbody tr th {\n",
       "        vertical-align: top;\n",
       "    }\n",
       "\n",
       "    .dataframe thead th {\n",
       "        text-align: right;\n",
       "    }\n",
       "</style>\n",
       "<table border=\"1\" class=\"dataframe\">\n",
       "  <thead>\n",
       "    <tr style=\"text-align: right;\">\n",
       "      <th></th>\n",
       "      <th>id</th>\n",
       "      <th>datetime</th>\n",
       "      <th>region</th>\n",
       "      <th>uv_max</th>\n",
       "    </tr>\n",
       "  </thead>\n",
       "  <tbody>\n",
       "    <tr>\n",
       "      <th>0</th>\n",
       "      <td>1</td>\n",
       "      <td>2015-01-01</td>\n",
       "      <td>서울시</td>\n",
       "      <td>NaN</td>\n",
       "    </tr>\n",
       "    <tr>\n",
       "      <th>1</th>\n",
       "      <td>2</td>\n",
       "      <td>2015-01-02</td>\n",
       "      <td>서울시</td>\n",
       "      <td>NaN</td>\n",
       "    </tr>\n",
       "    <tr>\n",
       "      <th>2</th>\n",
       "      <td>3</td>\n",
       "      <td>2015-01-03</td>\n",
       "      <td>서울시</td>\n",
       "      <td>NaN</td>\n",
       "    </tr>\n",
       "    <tr>\n",
       "      <th>3</th>\n",
       "      <td>4</td>\n",
       "      <td>2015-01-04</td>\n",
       "      <td>서울시</td>\n",
       "      <td>NaN</td>\n",
       "    </tr>\n",
       "    <tr>\n",
       "      <th>4</th>\n",
       "      <td>5</td>\n",
       "      <td>2015-01-05</td>\n",
       "      <td>서울시</td>\n",
       "      <td>NaN</td>\n",
       "    </tr>\n",
       "  </tbody>\n",
       "</table>\n",
       "</div>"
      ],
      "text/plain": [
       "   id   datetime region  uv_max\n",
       "0   1 2015-01-01    서울시     NaN\n",
       "1   2 2015-01-02    서울시     NaN\n",
       "2   3 2015-01-03    서울시     NaN\n",
       "3   4 2015-01-04    서울시     NaN\n",
       "4   5 2015-01-05    서울시     NaN"
      ]
     },
     "execution_count": 24,
     "metadata": {},
     "output_type": "execute_result"
    }
   ],
   "source": [
    "query_4 = \"SELECT * FROM uv_ray_day\"\n",
    "uv_ray_day = pd.read_sql(query_4, con=engine)\n",
    "\n",
    "# ▶ 결과 확인\n",
    "uv_ray_day.head()"
   ]
  },
  {
   "cell_type": "code",
   "execution_count": 25,
   "id": "4dc1bf26",
   "metadata": {},
   "outputs": [
    {
     "data": {
      "application/vnd.microsoft.datawrangler.viewer.v0+json": {
       "columns": [
        {
         "name": "index",
         "rawType": "object",
         "type": "string"
        },
        {
         "name": "0",
         "rawType": "int64",
         "type": "integer"
        }
       ],
       "ref": "d2cc01c1-b5c8-492a-938b-f2fbbdb03390",
       "rows": [
        [
         "id",
         "0"
        ],
        [
         "datetime",
         "0"
        ],
        [
         "region",
         "0"
        ],
        [
         "uv_max",
         "328"
        ]
       ],
       "shape": {
        "columns": 1,
        "rows": 4
       }
      },
      "text/plain": [
       "id            0\n",
       "datetime      0\n",
       "region        0\n",
       "uv_max      328\n",
       "dtype: int64"
      ]
     },
     "execution_count": 25,
     "metadata": {},
     "output_type": "execute_result"
    }
   ],
   "source": [
    "uv_ray_day.isnull().sum()"
   ]
  },
  {
   "cell_type": "code",
   "execution_count": 29,
   "id": "7d1bb0d1",
   "metadata": {},
   "outputs": [
    {
     "name": "stdout",
     "output_type": "stream",
     "text": [
      "결측치 상태:\n",
      "datetime    0\n",
      "region      0\n",
      "uv_max      0\n",
      "dtype: int64\n",
      "             datetime region    uv_max\n",
      "0 2015-01-01 00:00:00    서울시  4.718421\n",
      "1 2015-01-01 01:00:00    서울시  4.718421\n",
      "2 2015-01-01 02:00:00    서울시  4.718421\n",
      "3 2015-01-01 03:00:00    서울시  4.718421\n",
      "4 2015-01-01 04:00:00    서울시  4.718421\n",
      "5 2015-01-01 05:00:00    서울시  4.718421\n",
      "6 2015-01-01 06:00:00    서울시  4.718421\n",
      "7 2015-01-01 07:00:00    서울시  4.718421\n",
      "8 2015-01-01 08:00:00    서울시  4.718421\n",
      "9 2015-01-01 09:00:00    서울시  4.718421\n"
     ]
    }
   ],
   "source": [
    "import pandas as pd\n",
    "from datetime import timedelta\n",
    "\n",
    "# 1. datetime 형식으로 변환\n",
    "uv_ray_day['datetime'] = pd.to_datetime(uv_ray_day['datetime'])\n",
    "\n",
    "# 2. 연도 정보 추출\n",
    "uv_ray_day['year'] = uv_ray_day['datetime'].dt.year\n",
    "\n",
    "# 3. 연도별 평균으로 결측치 채우기\n",
    "uv_ray_day['uv_max'] = uv_ray_day.groupby('year')['uv_max'].transform(\n",
    "    lambda x: x.fillna(x.mean())\n",
    ")\n",
    "\n",
    "# 4. 시간 단위로 확장 (00:00 ~ 23:00)\n",
    "expanded = []\n",
    "\n",
    "for hour in range(24):\n",
    "    temp = uv_ray_day.copy()\n",
    "    temp['datetime'] = temp['datetime'] + timedelta(hours=hour)\n",
    "    expanded.append(temp)\n",
    "\n",
    "uv_hourly = pd.concat(expanded, ignore_index=True)\n",
    "\n",
    "# 5. 불필요한 컬럼 제거\n",
    "uv_hourly.drop(columns=['id', 'year'], inplace=True)\n",
    "\n",
    "# 6. 정렬 및 확인\n",
    "uv_hourly = uv_hourly.sort_values('datetime').reset_index(drop=True)\n",
    "\n",
    "# 확인\n",
    "print(\"결측치 상태:\")\n",
    "print(uv_hourly.isnull().sum())\n",
    "\n",
    "print(uv_hourly.head(10))\n"
   ]
  },
  {
   "cell_type": "code",
   "execution_count": 32,
   "id": "aa16cc87",
   "metadata": {},
   "outputs": [
    {
     "data": {
      "application/vnd.microsoft.datawrangler.viewer.v0+json": {
       "columns": [
        {
         "name": "index",
         "rawType": "int64",
         "type": "integer"
        },
        {
         "name": "datetime",
         "rawType": "datetime64[ns]",
         "type": "datetime"
        },
        {
         "name": "region",
         "rawType": "object",
         "type": "string"
        },
        {
         "name": "uv_max",
         "rawType": "float64",
         "type": "float"
        }
       ],
       "ref": "5fdf4691-d253-4345-a4bf-a75c1c5d3a7b",
       "rows": [
        [
         "0",
         "2015-01-01 00:00:00",
         "서울시",
         "4.718421052631578"
        ],
        [
         "1",
         "2015-01-01 01:00:00",
         "서울시",
         "4.718421052631578"
        ],
        [
         "2",
         "2015-01-01 02:00:00",
         "서울시",
         "4.718421052631578"
        ],
        [
         "3",
         "2015-01-01 03:00:00",
         "서울시",
         "4.718421052631578"
        ],
        [
         "4",
         "2015-01-01 04:00:00",
         "서울시",
         "4.718421052631578"
        ],
        [
         "5",
         "2015-01-01 05:00:00",
         "서울시",
         "4.718421052631578"
        ],
        [
         "6",
         "2015-01-01 06:00:00",
         "서울시",
         "4.718421052631578"
        ],
        [
         "7",
         "2015-01-01 07:00:00",
         "서울시",
         "4.718421052631578"
        ],
        [
         "8",
         "2015-01-01 08:00:00",
         "서울시",
         "4.718421052631578"
        ],
        [
         "9",
         "2015-01-01 09:00:00",
         "서울시",
         "4.718421052631578"
        ],
        [
         "10",
         "2015-01-01 10:00:00",
         "서울시",
         "4.718421052631578"
        ],
        [
         "11",
         "2015-01-01 11:00:00",
         "서울시",
         "4.718421052631578"
        ],
        [
         "12",
         "2015-01-01 12:00:00",
         "서울시",
         "4.718421052631578"
        ],
        [
         "13",
         "2015-01-01 13:00:00",
         "서울시",
         "4.718421052631578"
        ],
        [
         "14",
         "2015-01-01 14:00:00",
         "서울시",
         "4.718421052631578"
        ],
        [
         "15",
         "2015-01-01 15:00:00",
         "서울시",
         "4.718421052631578"
        ],
        [
         "16",
         "2015-01-01 16:00:00",
         "서울시",
         "4.718421052631578"
        ],
        [
         "17",
         "2015-01-01 17:00:00",
         "서울시",
         "4.718421052631578"
        ],
        [
         "18",
         "2015-01-01 18:00:00",
         "서울시",
         "4.718421052631578"
        ],
        [
         "19",
         "2015-01-01 19:00:00",
         "서울시",
         "4.718421052631578"
        ],
        [
         "20",
         "2015-01-01 20:00:00",
         "서울시",
         "4.718421052631578"
        ],
        [
         "21",
         "2015-01-01 21:00:00",
         "서울시",
         "4.718421052631578"
        ],
        [
         "22",
         "2015-01-01 22:00:00",
         "서울시",
         "4.718421052631578"
        ],
        [
         "23",
         "2015-01-01 23:00:00",
         "서울시",
         "4.718421052631578"
        ],
        [
         "24",
         "2015-01-02 00:00:00",
         "서울시",
         "4.718421052631578"
        ],
        [
         "25",
         "2015-01-02 01:00:00",
         "서울시",
         "4.718421052631578"
        ],
        [
         "26",
         "2015-01-02 02:00:00",
         "서울시",
         "4.718421052631578"
        ],
        [
         "27",
         "2015-01-02 03:00:00",
         "서울시",
         "4.718421052631578"
        ],
        [
         "28",
         "2015-01-02 04:00:00",
         "서울시",
         "4.718421052631578"
        ],
        [
         "29",
         "2015-01-02 05:00:00",
         "서울시",
         "4.718421052631578"
        ],
        [
         "30",
         "2015-01-02 06:00:00",
         "서울시",
         "4.718421052631578"
        ],
        [
         "31",
         "2015-01-02 07:00:00",
         "서울시",
         "4.718421052631578"
        ],
        [
         "32",
         "2015-01-02 08:00:00",
         "서울시",
         "4.718421052631578"
        ],
        [
         "33",
         "2015-01-02 09:00:00",
         "서울시",
         "4.718421052631578"
        ],
        [
         "34",
         "2015-01-02 10:00:00",
         "서울시",
         "4.718421052631578"
        ],
        [
         "35",
         "2015-01-02 11:00:00",
         "서울시",
         "4.718421052631578"
        ],
        [
         "36",
         "2015-01-02 12:00:00",
         "서울시",
         "4.718421052631578"
        ],
        [
         "37",
         "2015-01-02 13:00:00",
         "서울시",
         "4.718421052631578"
        ],
        [
         "38",
         "2015-01-02 14:00:00",
         "서울시",
         "4.718421052631578"
        ],
        [
         "39",
         "2015-01-02 15:00:00",
         "서울시",
         "4.718421052631578"
        ],
        [
         "40",
         "2015-01-02 16:00:00",
         "서울시",
         "4.718421052631578"
        ],
        [
         "41",
         "2015-01-02 17:00:00",
         "서울시",
         "4.718421052631578"
        ],
        [
         "42",
         "2015-01-02 18:00:00",
         "서울시",
         "4.718421052631578"
        ],
        [
         "43",
         "2015-01-02 19:00:00",
         "서울시",
         "4.718421052631578"
        ],
        [
         "44",
         "2015-01-02 20:00:00",
         "서울시",
         "4.718421052631578"
        ],
        [
         "45",
         "2015-01-02 21:00:00",
         "서울시",
         "4.718421052631578"
        ],
        [
         "46",
         "2015-01-02 22:00:00",
         "서울시",
         "4.718421052631578"
        ],
        [
         "47",
         "2015-01-02 23:00:00",
         "서울시",
         "4.718421052631578"
        ],
        [
         "48",
         "2015-01-03 00:00:00",
         "서울시",
         "4.718421052631578"
        ],
        [
         "49",
         "2015-01-03 01:00:00",
         "서울시",
         "4.718421052631578"
        ]
       ],
       "shape": {
        "columns": 3,
        "rows": 87672
       }
      },
      "text/html": [
       "<div>\n",
       "<style scoped>\n",
       "    .dataframe tbody tr th:only-of-type {\n",
       "        vertical-align: middle;\n",
       "    }\n",
       "\n",
       "    .dataframe tbody tr th {\n",
       "        vertical-align: top;\n",
       "    }\n",
       "\n",
       "    .dataframe thead th {\n",
       "        text-align: right;\n",
       "    }\n",
       "</style>\n",
       "<table border=\"1\" class=\"dataframe\">\n",
       "  <thead>\n",
       "    <tr style=\"text-align: right;\">\n",
       "      <th></th>\n",
       "      <th>datetime</th>\n",
       "      <th>region</th>\n",
       "      <th>uv_max</th>\n",
       "    </tr>\n",
       "  </thead>\n",
       "  <tbody>\n",
       "    <tr>\n",
       "      <th>0</th>\n",
       "      <td>2015-01-01 00:00:00</td>\n",
       "      <td>서울시</td>\n",
       "      <td>4.718421</td>\n",
       "    </tr>\n",
       "    <tr>\n",
       "      <th>1</th>\n",
       "      <td>2015-01-01 01:00:00</td>\n",
       "      <td>서울시</td>\n",
       "      <td>4.718421</td>\n",
       "    </tr>\n",
       "    <tr>\n",
       "      <th>2</th>\n",
       "      <td>2015-01-01 02:00:00</td>\n",
       "      <td>서울시</td>\n",
       "      <td>4.718421</td>\n",
       "    </tr>\n",
       "    <tr>\n",
       "      <th>3</th>\n",
       "      <td>2015-01-01 03:00:00</td>\n",
       "      <td>서울시</td>\n",
       "      <td>4.718421</td>\n",
       "    </tr>\n",
       "    <tr>\n",
       "      <th>4</th>\n",
       "      <td>2015-01-01 04:00:00</td>\n",
       "      <td>서울시</td>\n",
       "      <td>4.718421</td>\n",
       "    </tr>\n",
       "    <tr>\n",
       "      <th>...</th>\n",
       "      <td>...</td>\n",
       "      <td>...</td>\n",
       "      <td>...</td>\n",
       "    </tr>\n",
       "    <tr>\n",
       "      <th>87667</th>\n",
       "      <td>2024-12-31 19:00:00</td>\n",
       "      <td>서울시</td>\n",
       "      <td>3.500000</td>\n",
       "    </tr>\n",
       "    <tr>\n",
       "      <th>87668</th>\n",
       "      <td>2024-12-31 20:00:00</td>\n",
       "      <td>서울시</td>\n",
       "      <td>3.500000</td>\n",
       "    </tr>\n",
       "    <tr>\n",
       "      <th>87669</th>\n",
       "      <td>2024-12-31 21:00:00</td>\n",
       "      <td>서울시</td>\n",
       "      <td>3.500000</td>\n",
       "    </tr>\n",
       "    <tr>\n",
       "      <th>87670</th>\n",
       "      <td>2024-12-31 22:00:00</td>\n",
       "      <td>서울시</td>\n",
       "      <td>3.500000</td>\n",
       "    </tr>\n",
       "    <tr>\n",
       "      <th>87671</th>\n",
       "      <td>2024-12-31 23:00:00</td>\n",
       "      <td>서울시</td>\n",
       "      <td>3.500000</td>\n",
       "    </tr>\n",
       "  </tbody>\n",
       "</table>\n",
       "<p>87672 rows × 3 columns</p>\n",
       "</div>"
      ],
      "text/plain": [
       "                 datetime region    uv_max\n",
       "0     2015-01-01 00:00:00    서울시  4.718421\n",
       "1     2015-01-01 01:00:00    서울시  4.718421\n",
       "2     2015-01-01 02:00:00    서울시  4.718421\n",
       "3     2015-01-01 03:00:00    서울시  4.718421\n",
       "4     2015-01-01 04:00:00    서울시  4.718421\n",
       "...                   ...    ...       ...\n",
       "87667 2024-12-31 19:00:00    서울시  3.500000\n",
       "87668 2024-12-31 20:00:00    서울시  3.500000\n",
       "87669 2024-12-31 21:00:00    서울시  3.500000\n",
       "87670 2024-12-31 22:00:00    서울시  3.500000\n",
       "87671 2024-12-31 23:00:00    서울시  3.500000\n",
       "\n",
       "[87672 rows x 3 columns]"
      ]
     },
     "execution_count": 32,
     "metadata": {},
     "output_type": "execute_result"
    }
   ],
   "source": [
    "#uv_hourly_최종\n",
    "uv_hourly"
   ]
  },
  {
   "cell_type": "code",
   "execution_count": 33,
   "id": "85417164",
   "metadata": {},
   "outputs": [],
   "source": [
    "#air_pollution query\n",
    "#air_quality query_2\n",
    "#weather_cleaned query_3\n",
    "#uv_hourly query_4"
   ]
  },
  {
   "cell_type": "code",
   "execution_count": 53,
   "id": "a9fedf8a",
   "metadata": {},
   "outputs": [
    {
     "name": "stdout",
     "output_type": "stream",
     "text": [
      "air_pollution 지역 목록:\n",
      "['서울시' '강남구' '강동구' '강북구' '강서구' '관악구' '광진구' '구로구' '금천구' '노원구' '도봉구' '동대문구'\n",
      " '동작구' '마포구' '서대문구' '서초구' '성동구' '성북구' '송파구' '양천구' '영등포구' '용산구' '은평구' '종로구'\n",
      " '중구' '중랑구']\n",
      "\n",
      "air_quality 지역 목록:\n",
      "['서울시' '강남구' '강동구' '강북구' '강서구' '관악구' '광진구' '구로구' '금천구' '노원구' '도봉구' '동대문구'\n",
      " '동작구' '마포구' '서대문구' '서초구' '성동구' '성북구' '송파구' '양천구' '영등포구' '용산구' '은평구' '종로구'\n",
      " '중구' '중랑구']\n",
      "\n",
      "weather_cleaned 지역 목록:\n",
      "['강남구' '강동구' '강북구' '강서구' '관악구' '광진구' '구로구' '금천구' '노원구' '도봉구' '동대문구' '동작구'\n",
      " '마포구' '서대문구' '서초구' '성동구' '성북구' '송파구' '양천구' '영등포구' '용산구' '은평구' '종로구' '중구'\n",
      " '중랑구']\n",
      "\n",
      "uv_hourly 지역 목록:\n",
      "['서울시']\n"
     ]
    }
   ],
   "source": [
    "print(\"air_pollution 지역 목록:\")\n",
    "print(air_pollution['region'].unique())\n",
    "\n",
    "print(\"\\nair_quality 지역 목록:\")\n",
    "print(air_quality['region'].unique())\n",
    "\n",
    "print(\"\\nweather_cleaned 지역 목록:\")\n",
    "print(weather_cleaned['region'].unique())\n",
    "\n",
    "print(\"\\nuv_hourly 지역 목록:\")\n",
    "print(uv_hourly['region'].unique())"
   ]
  },
  {
   "cell_type": "code",
   "execution_count": 54,
   "id": "f159e92d",
   "metadata": {},
   "outputs": [
    {
     "data": {
      "application/vnd.microsoft.datawrangler.viewer.v0+json": {
       "columns": [
        {
         "name": "index",
         "rawType": "int64",
         "type": "integer"
        },
        {
         "name": "datetime",
         "rawType": "datetime64[ns]",
         "type": "datetime"
        },
        {
         "name": "region",
         "rawType": "object",
         "type": "string"
        },
        {
         "name": "uv_max",
         "rawType": "float64",
         "type": "float"
        }
       ],
       "ref": "e0aa85dc-ab6d-4c11-98f0-7e10c6f745bf",
       "rows": [
        [
         "0",
         "2015-01-01 00:00:00",
         "서울시",
         "4.718421052631578"
        ],
        [
         "1",
         "2015-01-01 01:00:00",
         "서울시",
         "4.718421052631578"
        ],
        [
         "2",
         "2015-01-01 02:00:00",
         "서울시",
         "4.718421052631578"
        ],
        [
         "3",
         "2015-01-01 03:00:00",
         "서울시",
         "4.718421052631578"
        ],
        [
         "4",
         "2015-01-01 04:00:00",
         "서울시",
         "4.718421052631578"
        ],
        [
         "5",
         "2015-01-01 05:00:00",
         "서울시",
         "4.718421052631578"
        ],
        [
         "6",
         "2015-01-01 06:00:00",
         "서울시",
         "4.718421052631578"
        ],
        [
         "7",
         "2015-01-01 07:00:00",
         "서울시",
         "4.718421052631578"
        ],
        [
         "8",
         "2015-01-01 08:00:00",
         "서울시",
         "4.718421052631578"
        ],
        [
         "9",
         "2015-01-01 09:00:00",
         "서울시",
         "4.718421052631578"
        ],
        [
         "10",
         "2015-01-01 10:00:00",
         "서울시",
         "4.718421052631578"
        ],
        [
         "11",
         "2015-01-01 11:00:00",
         "서울시",
         "4.718421052631578"
        ],
        [
         "12",
         "2015-01-01 12:00:00",
         "서울시",
         "4.718421052631578"
        ],
        [
         "13",
         "2015-01-01 13:00:00",
         "서울시",
         "4.718421052631578"
        ],
        [
         "14",
         "2015-01-01 14:00:00",
         "서울시",
         "4.718421052631578"
        ],
        [
         "15",
         "2015-01-01 15:00:00",
         "서울시",
         "4.718421052631578"
        ],
        [
         "16",
         "2015-01-01 16:00:00",
         "서울시",
         "4.718421052631578"
        ],
        [
         "17",
         "2015-01-01 17:00:00",
         "서울시",
         "4.718421052631578"
        ],
        [
         "18",
         "2015-01-01 18:00:00",
         "서울시",
         "4.718421052631578"
        ],
        [
         "19",
         "2015-01-01 19:00:00",
         "서울시",
         "4.718421052631578"
        ],
        [
         "20",
         "2015-01-01 20:00:00",
         "서울시",
         "4.718421052631578"
        ],
        [
         "21",
         "2015-01-01 21:00:00",
         "서울시",
         "4.718421052631578"
        ],
        [
         "22",
         "2015-01-01 22:00:00",
         "서울시",
         "4.718421052631578"
        ],
        [
         "23",
         "2015-01-01 23:00:00",
         "서울시",
         "4.718421052631578"
        ],
        [
         "24",
         "2015-01-02 00:00:00",
         "서울시",
         "4.718421052631578"
        ],
        [
         "25",
         "2015-01-02 01:00:00",
         "서울시",
         "4.718421052631578"
        ],
        [
         "26",
         "2015-01-02 02:00:00",
         "서울시",
         "4.718421052631578"
        ],
        [
         "27",
         "2015-01-02 03:00:00",
         "서울시",
         "4.718421052631578"
        ],
        [
         "28",
         "2015-01-02 04:00:00",
         "서울시",
         "4.718421052631578"
        ],
        [
         "29",
         "2015-01-02 05:00:00",
         "서울시",
         "4.718421052631578"
        ],
        [
         "30",
         "2015-01-02 06:00:00",
         "서울시",
         "4.718421052631578"
        ],
        [
         "31",
         "2015-01-02 07:00:00",
         "서울시",
         "4.718421052631578"
        ],
        [
         "32",
         "2015-01-02 08:00:00",
         "서울시",
         "4.718421052631578"
        ],
        [
         "33",
         "2015-01-02 09:00:00",
         "서울시",
         "4.718421052631578"
        ],
        [
         "34",
         "2015-01-02 10:00:00",
         "서울시",
         "4.718421052631578"
        ],
        [
         "35",
         "2015-01-02 11:00:00",
         "서울시",
         "4.718421052631578"
        ],
        [
         "36",
         "2015-01-02 12:00:00",
         "서울시",
         "4.718421052631578"
        ],
        [
         "37",
         "2015-01-02 13:00:00",
         "서울시",
         "4.718421052631578"
        ],
        [
         "38",
         "2015-01-02 14:00:00",
         "서울시",
         "4.718421052631578"
        ],
        [
         "39",
         "2015-01-02 15:00:00",
         "서울시",
         "4.718421052631578"
        ],
        [
         "40",
         "2015-01-02 16:00:00",
         "서울시",
         "4.718421052631578"
        ],
        [
         "41",
         "2015-01-02 17:00:00",
         "서울시",
         "4.718421052631578"
        ],
        [
         "42",
         "2015-01-02 18:00:00",
         "서울시",
         "4.718421052631578"
        ],
        [
         "43",
         "2015-01-02 19:00:00",
         "서울시",
         "4.718421052631578"
        ],
        [
         "44",
         "2015-01-02 20:00:00",
         "서울시",
         "4.718421052631578"
        ],
        [
         "45",
         "2015-01-02 21:00:00",
         "서울시",
         "4.718421052631578"
        ],
        [
         "46",
         "2015-01-02 22:00:00",
         "서울시",
         "4.718421052631578"
        ],
        [
         "47",
         "2015-01-02 23:00:00",
         "서울시",
         "4.718421052631578"
        ],
        [
         "48",
         "2015-01-03 00:00:00",
         "서울시",
         "4.718421052631578"
        ],
        [
         "49",
         "2015-01-03 01:00:00",
         "서울시",
         "4.718421052631578"
        ]
       ],
       "shape": {
        "columns": 3,
        "rows": 87672
       }
      },
      "text/html": [
       "<div>\n",
       "<style scoped>\n",
       "    .dataframe tbody tr th:only-of-type {\n",
       "        vertical-align: middle;\n",
       "    }\n",
       "\n",
       "    .dataframe tbody tr th {\n",
       "        vertical-align: top;\n",
       "    }\n",
       "\n",
       "    .dataframe thead th {\n",
       "        text-align: right;\n",
       "    }\n",
       "</style>\n",
       "<table border=\"1\" class=\"dataframe\">\n",
       "  <thead>\n",
       "    <tr style=\"text-align: right;\">\n",
       "      <th></th>\n",
       "      <th>datetime</th>\n",
       "      <th>region</th>\n",
       "      <th>uv_max</th>\n",
       "    </tr>\n",
       "  </thead>\n",
       "  <tbody>\n",
       "    <tr>\n",
       "      <th>0</th>\n",
       "      <td>2015-01-01 00:00:00</td>\n",
       "      <td>서울시</td>\n",
       "      <td>4.718421</td>\n",
       "    </tr>\n",
       "    <tr>\n",
       "      <th>1</th>\n",
       "      <td>2015-01-01 01:00:00</td>\n",
       "      <td>서울시</td>\n",
       "      <td>4.718421</td>\n",
       "    </tr>\n",
       "    <tr>\n",
       "      <th>2</th>\n",
       "      <td>2015-01-01 02:00:00</td>\n",
       "      <td>서울시</td>\n",
       "      <td>4.718421</td>\n",
       "    </tr>\n",
       "    <tr>\n",
       "      <th>3</th>\n",
       "      <td>2015-01-01 03:00:00</td>\n",
       "      <td>서울시</td>\n",
       "      <td>4.718421</td>\n",
       "    </tr>\n",
       "    <tr>\n",
       "      <th>4</th>\n",
       "      <td>2015-01-01 04:00:00</td>\n",
       "      <td>서울시</td>\n",
       "      <td>4.718421</td>\n",
       "    </tr>\n",
       "    <tr>\n",
       "      <th>...</th>\n",
       "      <td>...</td>\n",
       "      <td>...</td>\n",
       "      <td>...</td>\n",
       "    </tr>\n",
       "    <tr>\n",
       "      <th>87667</th>\n",
       "      <td>2024-12-31 19:00:00</td>\n",
       "      <td>서울시</td>\n",
       "      <td>3.500000</td>\n",
       "    </tr>\n",
       "    <tr>\n",
       "      <th>87668</th>\n",
       "      <td>2024-12-31 20:00:00</td>\n",
       "      <td>서울시</td>\n",
       "      <td>3.500000</td>\n",
       "    </tr>\n",
       "    <tr>\n",
       "      <th>87669</th>\n",
       "      <td>2024-12-31 21:00:00</td>\n",
       "      <td>서울시</td>\n",
       "      <td>3.500000</td>\n",
       "    </tr>\n",
       "    <tr>\n",
       "      <th>87670</th>\n",
       "      <td>2024-12-31 22:00:00</td>\n",
       "      <td>서울시</td>\n",
       "      <td>3.500000</td>\n",
       "    </tr>\n",
       "    <tr>\n",
       "      <th>87671</th>\n",
       "      <td>2024-12-31 23:00:00</td>\n",
       "      <td>서울시</td>\n",
       "      <td>3.500000</td>\n",
       "    </tr>\n",
       "  </tbody>\n",
       "</table>\n",
       "<p>87672 rows × 3 columns</p>\n",
       "</div>"
      ],
      "text/plain": [
       "                 datetime region    uv_max\n",
       "0     2015-01-01 00:00:00    서울시  4.718421\n",
       "1     2015-01-01 01:00:00    서울시  4.718421\n",
       "2     2015-01-01 02:00:00    서울시  4.718421\n",
       "3     2015-01-01 03:00:00    서울시  4.718421\n",
       "4     2015-01-01 04:00:00    서울시  4.718421\n",
       "...                   ...    ...       ...\n",
       "87667 2024-12-31 19:00:00    서울시  3.500000\n",
       "87668 2024-12-31 20:00:00    서울시  3.500000\n",
       "87669 2024-12-31 21:00:00    서울시  3.500000\n",
       "87670 2024-12-31 22:00:00    서울시  3.500000\n",
       "87671 2024-12-31 23:00:00    서울시  3.500000\n",
       "\n",
       "[87672 rows x 3 columns]"
      ]
     },
     "execution_count": 54,
     "metadata": {},
     "output_type": "execute_result"
    }
   ],
   "source": [
    "uv_hourly"
   ]
  },
  {
   "cell_type": "code",
   "execution_count": 49,
   "id": "c76de3f6",
   "metadata": {},
   "outputs": [
    {
     "name": "stdout",
     "output_type": "stream",
     "text": [
      "air_pollution \n",
      "   시작일 (min): 2015-01-01 01:00:00\n",
      "   종료일 (max): 2025-06-25 17:00:00\n",
      "----------------------------------------\n",
      "air_quality \n",
      "   시작일 (min): 2012-01-01 00:00:00\n",
      "   종료일 (max): 2024-12-31 23:00:00\n",
      "----------------------------------------\n",
      "weather_cleaned \n",
      "   시작일 (min): 2015-01-01 01:00:00\n",
      "   종료일 (max): 2025-05-31 00:00:00\n",
      "----------------------------------------\n",
      "uv_hourly \n",
      "   시작일 (min): 2015-01-01 00:00:00\n",
      "   종료일 (max): 2024-12-31 23:00:00\n",
      "----------------------------------------\n"
     ]
    }
   ],
   "source": [
    "# 시작일과 종료일을 같이 출력\n",
    "for name, df in {\n",
    "    \"air_pollution\": air_pollution,\n",
    "    \"air_quality\": air_quality,\n",
    "    \"weather_cleaned\": weather_cleaned,\n",
    "    \"uv_hourly\": uv_hourly\n",
    "}.items():\n",
    "    print(f\"{name} \")\n",
    "    print(f\"   시작일 (min): {df['datetime'].min()}\")\n",
    "    print(f\"   종료일 (max): {df['datetime'].max()}\")\n",
    "    print(\"-\" * 40)\n"
   ]
  },
  {
   "cell_type": "code",
   "execution_count": 50,
   "id": "eae23c60",
   "metadata": {},
   "outputs": [
    {
     "name": "stdout",
     "output_type": "stream",
     "text": [
      "공통 시작일: 2015-01-01 01:00:00\n",
      "공통 종료일: 2024-12-31 23:00:00\n"
     ]
    }
   ],
   "source": [
    "start_dates = [\n",
    "    pd.to_datetime('2015-01-01 01:00:00'),  # air_pollution\n",
    "    pd.to_datetime('2012-01-01 00:00:00'),  # air_quality\n",
    "    pd.to_datetime('2015-01-01 01:00:00'),  # weather_cleaned\n",
    "    pd.to_datetime('2015-01-01 00:00:00'),  # uv_hourly\n",
    "]\n",
    "\n",
    "end_dates = [\n",
    "    pd.to_datetime('2025-06-25 17:00:00'),  # air_pollution\n",
    "    pd.to_datetime('2024-12-31 23:00:00'),  # air_quality\n",
    "    pd.to_datetime('2025-05-31 00:00:00'),  # weather_cleaned\n",
    "    pd.to_datetime('2024-12-31 23:00:00'),  # uv_hourly\n",
    "]\n",
    "\n",
    "common_start = max(start_dates)  # 가장 늦은 시작일\n",
    "common_end = min(end_dates)      # 가장 이른 종료일\n",
    "\n",
    "print(\"공통 시작일:\", common_start)\n",
    "print(\"공통 종료일:\", common_end)\n"
   ]
  },
  {
   "cell_type": "code",
   "execution_count": 51,
   "id": "6e9dc7a2",
   "metadata": {},
   "outputs": [],
   "source": [
    "def filter_common_period(df, start, end):\n",
    "    return df[(df['datetime'] >= start) & (df['datetime'] <= end)].copy()\n",
    "\n",
    "air_pollution_cut = filter_common_period(air_pollution, common_start, common_end)\n",
    "air_quality_cut = filter_common_period(air_quality, common_start, common_end)\n",
    "weather_cleaned_cut = filter_common_period(weather_cleaned, common_start, common_end)\n",
    "uv_hourly_cut = filter_common_period(uv_hourly, common_start, common_end)\n"
   ]
  },
  {
   "cell_type": "code",
   "execution_count": 55,
   "id": "aebf936c",
   "metadata": {},
   "outputs": [],
   "source": [
    "import pandas as pd\n",
    "\n",
    "# 1) 공통 시작/종료일 설정 \n",
    "start_date = pd.to_datetime('2015-01-01 01:00:00')  \n",
    "end_date = pd.to_datetime('2024-12-31 23:00:00')\n",
    "\n",
    "# 2) 데이터별 공통 기간 필터링\n",
    "def filter_period(df):\n",
    "    return df[(df['datetime'] >= start_date) & (df['datetime'] <= end_date)].copy()\n",
    "\n",
    "air_pollution = filter_period(air_pollution)\n",
    "air_quality = filter_period(air_quality)\n",
    "weather_cleaned = filter_period(weather_cleaned)\n",
    "uv_hourly = filter_period(uv_hourly)\n",
    "\n",
    "# 3) 'region' 컬럼 전처리\n",
    "# air_pollution, air_quality: 서울시 행 제거 (구 단위만 사용)\n",
    "air_pollution = air_pollution[air_pollution['region'] != '서울시']\n",
    "air_quality = air_quality[air_quality['region'] != '서울시']\n",
    "\n",
    "# weather_cleaned는 구 단위라 그대로 둠\n",
    "\n",
    "# 4) uv_hourly 서울시 데이터 → 25개 구별로 복제\n",
    "gu_list = ['강남구', '강동구', '강북구', '강서구', '관악구', '광진구', '구로구', '금천구', \n",
    "           '노원구', '도봉구', '동대문구', '동작구', '마포구', '서대문구', '서초구', '성동구', \n",
    "           '성북구', '송파구', '양천구', '영등포구', '용산구', '은평구', '종로구', '중구', '중랑구']\n",
    "\n",
    "uv_seoul = uv_hourly[uv_hourly['region'] == '서울시'].copy()\n",
    "\n",
    "uv_expanded = pd.DataFrame()\n",
    "for gu in gu_list:\n",
    "    temp = uv_seoul.copy()\n",
    "    temp['region'] = gu\n",
    "    uv_expanded = pd.concat([uv_expanded, temp], ignore_index=True)"
   ]
  },
  {
   "cell_type": "code",
   "execution_count": 56,
   "id": "814be019",
   "metadata": {},
   "outputs": [],
   "source": [
    "#모든 datetime 컬럼을 datetime 타입으로 맞추기 (병합 전 필수)\n",
    "for df in [air_pollution, air_quality, weather_cleaned, uv_expanded]:\n",
    "    df['datetime'] = pd.to_datetime(df['datetime'])"
   ]
  },
  {
   "cell_type": "code",
   "execution_count": 57,
   "id": "bde784c9",
   "metadata": {},
   "outputs": [],
   "source": [
    "#병합: datetime + region 기준 inner join\n",
    "merged = pd.merge(air_pollution, air_quality, on=['datetime', 'region'], how='inner')"
   ]
  },
  {
   "cell_type": "code",
   "execution_count": 58,
   "id": "5aef0cf6",
   "metadata": {},
   "outputs": [],
   "source": [
    "merged = pd.merge(merged, weather_cleaned, on=['datetime', 'region'], how='inner')"
   ]
  },
  {
   "cell_type": "code",
   "execution_count": 59,
   "id": "cf5a8b47",
   "metadata": {},
   "outputs": [],
   "source": [
    "merged = pd.merge(merged, uv_expanded, on=['datetime', 'region'], how='inner')"
   ]
  },
  {
   "cell_type": "code",
   "execution_count": 60,
   "id": "f7f39998",
   "metadata": {},
   "outputs": [
    {
     "name": "stdout",
     "output_type": "stream",
     "text": [
      "최종 병합 데이터 크기: (2027707, 14)\n",
      "             datetime region    no2   co    so2     o3   pm10  pm25  \\\n",
      "0 2015-01-01 01:00:00    강남구  0.011  0.2  0.006  0.026   42.0  24.0   \n",
      "1 2015-01-01 02:00:00    강남구  0.010  0.2  0.005  0.025   54.0  12.0   \n",
      "2 2015-01-01 03:00:00    강남구  0.010  0.2  0.005  0.024   73.0  19.0   \n",
      "3 2015-01-01 04:00:00    강남구  0.008  0.2  0.007  0.025   89.0  18.0   \n",
      "4 2015-01-01 05:00:00    강남구  0.008  0.2  0.006  0.025  106.0  23.0   \n",
      "\n",
      "   temperature  wind_direction  wind_speed  precipitation  humidity    uv_max  \n",
      "0         -6.3           314.7         2.7            0.0      30.0  4.718421  \n",
      "1         -6.9           295.6         3.0            0.0      33.0  4.718421  \n",
      "2         -7.3           334.4         2.7            0.0      34.0  4.718421  \n",
      "3         -7.7           320.1         2.9            0.0      33.0  4.718421  \n",
      "4         -7.9           294.6         2.3            0.0      33.0  4.718421  \n"
     ]
    }
   ],
   "source": [
    "# 7) 결과 확인\n",
    "print(\"최종 병합 데이터 크기:\", merged.shape)\n",
    "print(merged.head())\n"
   ]
  },
  {
   "cell_type": "code",
   "execution_count": 62,
   "id": "7063b545",
   "metadata": {},
   "outputs": [
    {
     "name": "stdout",
     "output_type": "stream",
     "text": [
      "c:\\Users\\user\\ai-proj2-class4\\10.data-collecting\n"
     ]
    }
   ],
   "source": [
    "import os\n",
    "print(os.getcwd())"
   ]
  },
  {
   "cell_type": "code",
   "execution_count": 63,
   "id": "59dea1e7",
   "metadata": {},
   "outputs": [],
   "source": [
    "merged.to_csv('자외선_데이터셋.csv', index=False)"
   ]
  },
  {
   "cell_type": "code",
   "execution_count": null,
   "id": "c4c71c94",
   "metadata": {},
   "outputs": [],
   "source": []
  }
 ],
 "metadata": {
  "kernelspec": {
   "display_name": "base",
   "language": "python",
   "name": "python3"
  },
  "language_info": {
   "codemirror_mode": {
    "name": "ipython",
    "version": 3
   },
   "file_extension": ".py",
   "mimetype": "text/x-python",
   "name": "python",
   "nbconvert_exporter": "python",
   "pygments_lexer": "ipython3",
   "version": "3.12.7"
  }
 },
 "nbformat": 4,
 "nbformat_minor": 5
}
