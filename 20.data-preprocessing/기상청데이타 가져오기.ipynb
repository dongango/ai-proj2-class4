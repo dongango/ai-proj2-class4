{
 "cells": [
  {
   "cell_type": "code",
   "execution_count": 2,
   "id": "f30d682a",
   "metadata": {},
   "outputs": [
    {
     "name": "stdout",
     "output_type": "stream",
     "text": [
      "   id  station_id station_name            datetime  temperature  \\\n",
      "0   1         400           강남 2015-01-01 01:00:00         -6.3   \n",
      "1   2         400           강남 2015-01-01 02:00:00         -6.9   \n",
      "2   3         400           강남 2015-01-01 03:00:00         -7.3   \n",
      "3   4         400           강남 2015-01-01 04:00:00         -7.7   \n",
      "4   5         400           강남 2015-01-01 05:00:00         -7.9   \n",
      "\n",
      "   wind_direction  wind_speed  precipitation  humidity  \n",
      "0           314.7         2.7            0.0      30.0  \n",
      "1           295.6         3.0            0.0      33.0  \n",
      "2           334.4         2.7            0.0      34.0  \n",
      "3           320.1         2.9            0.0      33.0  \n",
      "4           294.6         2.3            0.0      33.0  \n"
     ]
    }
   ],
   "source": [
    "import pandas as pd\n",
    "from sqlalchemy import create_engine\n",
    "import json\n",
    "\n",
    "# 접속 정보 로딩 (옵션: db-config.json 파일이 있을 경우)\n",
    "with open('db-config.json') as f:\n",
    "    config = json.load(f)\n",
    "\n",
    "user = config['user']\n",
    "password = config['password']\n",
    "host = config['host']\n",
    "port = config['port']\n",
    "database = config['database']\n",
    "\n",
    "# SQLAlchemy 엔진 생성\n",
    "engine = create_engine(f\"mysql+pymysql://{user}:{password}@{host}:{port}/{database}\")\n",
    "\n",
    "# weather 테이블 데이터 읽어오기\n",
    "query = \"SELECT * FROM weather\"\n",
    "df = pd.read_sql(query, con=engine)\n",
    "\n",
    "# ▶ 결과 확인\n",
    "print(df.head())\n"
   ]
  }
 ],
 "metadata": {
  "kernelspec": {
   "display_name": "dlp",
   "language": "python",
   "name": "python3"
  },
  "language_info": {
   "codemirror_mode": {
    "name": "ipython",
    "version": 3
   },
   "file_extension": ".py",
   "mimetype": "text/x-python",
   "name": "python",
   "nbconvert_exporter": "python",
   "pygments_lexer": "ipython3",
   "version": "3.11.13"
  }
 },
 "nbformat": 4,
 "nbformat_minor": 5
}
