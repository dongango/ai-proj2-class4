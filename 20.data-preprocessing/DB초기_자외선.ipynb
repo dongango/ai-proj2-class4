{
 "cells": [
  {
   "cell_type": "code",
   "execution_count": 2,
   "id": "13fdf4a2",
   "metadata": {},
   "outputs": [],
   "source": [
    "import pandas as pd\n",
    "\n",
    "df = pd.read_csv(\"C:/Users/user/ai-proj2-class4/10.data-collecting/seoul_uv_data/서울_자외선_일별최고치_2015_2017.csv\", encoding='cp949')"
   ]
  },
  {
   "cell_type": "code",
   "execution_count": 3,
   "id": "4ace1a90",
   "metadata": {},
   "outputs": [
    {
     "data": {
      "application/vnd.microsoft.datawrangler.viewer.v0+json": {
       "columns": [
        {
         "name": "index",
         "rawType": "int64",
         "type": "integer"
        },
        {
         "name": "일자",
         "rawType": "object",
         "type": "string"
        },
        {
         "name": "총자외선지수 일최고값",
         "rawType": "float64",
         "type": "float"
        },
        {
         "name": "Unnamed: 2",
         "rawType": "float64",
         "type": "float"
        }
       ],
       "ref": "0f96551b-71ca-4fd9-8f69-ff4da083aec5",
       "rows": [
        [
         "0",
         "2015-01-01",
         null,
         null
        ],
        [
         "1",
         "2015-01-02",
         null,
         null
        ],
        [
         "2",
         "2015-01-03",
         null,
         null
        ],
        [
         "3",
         "2015-01-04",
         null,
         null
        ],
        [
         "4",
         "2015-01-05",
         null,
         null
        ]
       ],
       "shape": {
        "columns": 3,
        "rows": 5
       }
      },
      "text/html": [
       "<div>\n",
       "<style scoped>\n",
       "    .dataframe tbody tr th:only-of-type {\n",
       "        vertical-align: middle;\n",
       "    }\n",
       "\n",
       "    .dataframe tbody tr th {\n",
       "        vertical-align: top;\n",
       "    }\n",
       "\n",
       "    .dataframe thead th {\n",
       "        text-align: right;\n",
       "    }\n",
       "</style>\n",
       "<table border=\"1\" class=\"dataframe\">\n",
       "  <thead>\n",
       "    <tr style=\"text-align: right;\">\n",
       "      <th></th>\n",
       "      <th>일자</th>\n",
       "      <th>총자외선지수 일최고값</th>\n",
       "      <th>Unnamed: 2</th>\n",
       "    </tr>\n",
       "  </thead>\n",
       "  <tbody>\n",
       "    <tr>\n",
       "      <th>0</th>\n",
       "      <td>2015-01-01</td>\n",
       "      <td>NaN</td>\n",
       "      <td>NaN</td>\n",
       "    </tr>\n",
       "    <tr>\n",
       "      <th>1</th>\n",
       "      <td>2015-01-02</td>\n",
       "      <td>NaN</td>\n",
       "      <td>NaN</td>\n",
       "    </tr>\n",
       "    <tr>\n",
       "      <th>2</th>\n",
       "      <td>2015-01-03</td>\n",
       "      <td>NaN</td>\n",
       "      <td>NaN</td>\n",
       "    </tr>\n",
       "    <tr>\n",
       "      <th>3</th>\n",
       "      <td>2015-01-04</td>\n",
       "      <td>NaN</td>\n",
       "      <td>NaN</td>\n",
       "    </tr>\n",
       "    <tr>\n",
       "      <th>4</th>\n",
       "      <td>2015-01-05</td>\n",
       "      <td>NaN</td>\n",
       "      <td>NaN</td>\n",
       "    </tr>\n",
       "  </tbody>\n",
       "</table>\n",
       "</div>"
      ],
      "text/plain": [
       "           일자  총자외선지수 일최고값  Unnamed: 2\n",
       "0  2015-01-01          NaN         NaN\n",
       "1  2015-01-02          NaN         NaN\n",
       "2  2015-01-03          NaN         NaN\n",
       "3  2015-01-04          NaN         NaN\n",
       "4  2015-01-05          NaN         NaN"
      ]
     },
     "execution_count": 3,
     "metadata": {},
     "output_type": "execute_result"
    }
   ],
   "source": [
    "df.head()"
   ]
  },
  {
   "cell_type": "code",
   "execution_count": 4,
   "id": "3324e900",
   "metadata": {},
   "outputs": [],
   "source": [
    "df = df.iloc[:, :2]  # 첫 2개 컬럼만 사용\n",
    "df.columns = ['datetime', 'uv_max']\n",
    "\n",
    "# 지역 컬럼 추가\n",
    "df['region'] = '서울시'"
   ]
  },
  {
   "cell_type": "code",
   "execution_count": 5,
   "id": "33ecfcc0",
   "metadata": {},
   "outputs": [
    {
     "data": {
      "application/vnd.microsoft.datawrangler.viewer.v0+json": {
       "columns": [
        {
         "name": "index",
         "rawType": "int64",
         "type": "integer"
        },
        {
         "name": "datetime",
         "rawType": "object",
         "type": "string"
        },
        {
         "name": "uv_max",
         "rawType": "float64",
         "type": "float"
        },
        {
         "name": "region",
         "rawType": "object",
         "type": "string"
        }
       ],
       "ref": "9b8d262f-7600-4062-907b-1bb85e3a95d0",
       "rows": [
        [
         "0",
         "2015-01-01",
         null,
         "서울시"
        ],
        [
         "1",
         "2015-01-02",
         null,
         "서울시"
        ],
        [
         "2",
         "2015-01-03",
         null,
         "서울시"
        ],
        [
         "3",
         "2015-01-04",
         null,
         "서울시"
        ],
        [
         "4",
         "2015-01-05",
         null,
         "서울시"
        ]
       ],
       "shape": {
        "columns": 3,
        "rows": 5
       }
      },
      "text/html": [
       "<div>\n",
       "<style scoped>\n",
       "    .dataframe tbody tr th:only-of-type {\n",
       "        vertical-align: middle;\n",
       "    }\n",
       "\n",
       "    .dataframe tbody tr th {\n",
       "        vertical-align: top;\n",
       "    }\n",
       "\n",
       "    .dataframe thead th {\n",
       "        text-align: right;\n",
       "    }\n",
       "</style>\n",
       "<table border=\"1\" class=\"dataframe\">\n",
       "  <thead>\n",
       "    <tr style=\"text-align: right;\">\n",
       "      <th></th>\n",
       "      <th>datetime</th>\n",
       "      <th>uv_max</th>\n",
       "      <th>region</th>\n",
       "    </tr>\n",
       "  </thead>\n",
       "  <tbody>\n",
       "    <tr>\n",
       "      <th>0</th>\n",
       "      <td>2015-01-01</td>\n",
       "      <td>NaN</td>\n",
       "      <td>서울시</td>\n",
       "    </tr>\n",
       "    <tr>\n",
       "      <th>1</th>\n",
       "      <td>2015-01-02</td>\n",
       "      <td>NaN</td>\n",
       "      <td>서울시</td>\n",
       "    </tr>\n",
       "    <tr>\n",
       "      <th>2</th>\n",
       "      <td>2015-01-03</td>\n",
       "      <td>NaN</td>\n",
       "      <td>서울시</td>\n",
       "    </tr>\n",
       "    <tr>\n",
       "      <th>3</th>\n",
       "      <td>2015-01-04</td>\n",
       "      <td>NaN</td>\n",
       "      <td>서울시</td>\n",
       "    </tr>\n",
       "    <tr>\n",
       "      <th>4</th>\n",
       "      <td>2015-01-05</td>\n",
       "      <td>NaN</td>\n",
       "      <td>서울시</td>\n",
       "    </tr>\n",
       "  </tbody>\n",
       "</table>\n",
       "</div>"
      ],
      "text/plain": [
       "     datetime  uv_max region\n",
       "0  2015-01-01     NaN    서울시\n",
       "1  2015-01-02     NaN    서울시\n",
       "2  2015-01-03     NaN    서울시\n",
       "3  2015-01-04     NaN    서울시\n",
       "4  2015-01-05     NaN    서울시"
      ]
     },
     "execution_count": 5,
     "metadata": {},
     "output_type": "execute_result"
    }
   ],
   "source": [
    "df.head()"
   ]
  },
  {
   "cell_type": "code",
   "execution_count": 8,
   "id": "545e610c",
   "metadata": {},
   "outputs": [],
   "source": [
    "import json\n",
    "from sqlalchemy import create_engine \n",
    "from sqlalchemy.exc import SQLAlchemyError\n",
    "import cryptography\n",
    "\n",
    "with open('db-config.json', 'r') as f:\n",
    "    config = json.load(f)\n",
    "\n",
    "user = config['user']\n",
    "password = config['password']\n",
    "host = config['host']\n",
    "port = config['port']\n",
    "database = config['database']\n",
    "\n",
    "df['datetime'] = pd.to_datetime(df['datetime'])  # datetime 형식으로 변환"
   ]
  },
  {
   "cell_type": "code",
   "execution_count": 8,
   "id": "0f1bd66e",
   "metadata": {},
   "outputs": [
    {
     "name": "stdout",
     "output_type": "stream",
     "text": [
      "[Success] 데이터가 성공적으로 삽입되었습니다.\n"
     ]
    }
   ],
   "source": [
    "# SQLAlchemy 엔진 생성\n",
    "engine = create_engine(f\"mysql+pymysql://{user}:{password}@{host}:{port}/{database}\")\n",
    "conn = engine.connect()\n",
    "# 데이터 삽입 (예외처리 포함)\n",
    "try:\n",
    "    df.to_sql(name='uv_ray_day', con=conn, if_exists='append', index=False)\n",
    "    print(\"[Success] 데이터가 성공적으로 삽입되었습니다.\")\n",
    "except SQLAlchemyError as e:\n",
    "    print(\"[Failure] 데이터 삽입 중 오류 발생:\", str(e))"
   ]
  },
  {
   "cell_type": "code",
   "execution_count": null,
   "id": "309aae18",
   "metadata": {},
   "outputs": [
    {
     "name": "stdout",
     "output_type": "stream",
     "text": [
      "[Success] C:/Users/user/ai-proj2-class4/10.data-collecting/seoul_uv_data/서울_자외선_일별최고치_2018_2020.csv 데이터 삽입 완료.\n",
      "[Success] C:/Users/user/ai-proj2-class4/10.data-collecting/seoul_uv_data/서울_자외선_일별최고치_2021_2024.csv 데이터 삽입 완료.\n"
     ]
    }
   ],
   "source": [
    "import pandas as pd\n",
    "import json\n",
    "from sqlalchemy import create_engine\n",
    "from sqlalchemy.exc import SQLAlchemyError\n",
    "import cryptography  # pymysql 연결용 필요\n",
    "\n",
    "# DB 설정 불러오기\n",
    "with open('db-config.json', 'r') as f:\n",
    "    config = json.load(f)\n",
    "\n",
    "user = config['user']\n",
    "password = config['password']\n",
    "host = config['host']\n",
    "port = config['port']\n",
    "database = config['database']\n",
    "\n",
    "\n",
    "engine = create_engine(f\"mysql+pymysql://{user}:{password}@{host}:{port}/{database}\")\n",
    "conn = engine.connect()\n",
    "\n",
    "\n",
    "csv_files = [\n",
    "    \"C:/Users/user/ai-proj2-class4/10.data-collecting/seoul_uv_data/서울_자외선_일별최고치_2018_2020.csv\",\n",
    "    \"C:/Users/user/ai-proj2-class4/10.data-collecting/seoul_uv_data/서울_자외선_일별최고치_2021_2024.csv\"\n",
    "]\n",
    "\n",
    "\n",
    "for file_path in csv_files:\n",
    "    try:\n",
    "        df = pd.read_csv(file_path, encoding='cp949')\n",
    "        df = df.iloc[:, :2]  # 앞의 두 컬럼만 사용\n",
    "        df.columns = ['datetime', 'uv_max']\n",
    "        df['region'] = '서울시'\n",
    "        df['datetime'] = pd.to_datetime(df['datetime'])\n",
    "\n",
    "        # 삽입\n",
    "        df.to_sql(name='uv_ray_day', con=conn, if_exists='append', index=False)\n",
    "        print(f\"[Success] {file_path} 데이터 삽입 완료.\")\n",
    "    except SQLAlchemyError as e:\n",
    "        print(f\"[Failure] {file_path} 삽입 중 오류 발생:\", str(e))\n",
    "    except Exception as e:\n",
    "        print(f\"[Error] 예외 발생 - {file_path}: {str(e)}\")\n",
    "\n",
    "conn.close()"
   ]
  },
  {
   "cell_type": "code",
   "execution_count": 6,
   "id": "b0aac39d",
   "metadata": {},
   "outputs": [
    {
     "name": "stdout",
     "output_type": "stream",
     "text": [
      "              id            datetime region   pm10  pm25\n",
      "0              1 2015-12-31 23:00:00     평균   93.0  62.0\n",
      "1              2 2015-12-31 23:00:00    강남구  107.0  70.0\n",
      "2              3 2015-12-31 23:00:00    강동구   91.0  51.0\n",
      "3              4 2015-12-31 23:00:00    강북구   92.0  64.0\n",
      "4              5 2015-12-31 23:00:00    강서구   96.0  51.0\n",
      "...          ...                 ...    ...    ...   ...\n",
      "2958921  2958922 2024-01-01 00:00:00    용산구   35.0  25.0\n",
      "2958922  2958923 2024-01-01 00:00:00    은평구   21.0  15.0\n",
      "2958923  2958924 2024-01-01 00:00:00    종로구   28.0  26.0\n",
      "2958924  2958925 2024-01-01 00:00:00     중구   26.0  26.0\n",
      "2958925  2958926 2024-01-01 00:00:00    중랑구   28.0  23.0\n",
      "\n",
      "[2958926 rows x 5 columns]\n"
     ]
    }
   ],
   "source": [
    "import pandas as pd\n",
    "from sqlalchemy import create_engine\n",
    "import json\n",
    "\n",
    "# 접속 정보 로딩 (옵션: db-config.json 파일이 있을 경우)\n",
    "with open('db-config.json') as f:\n",
    "    config = json.load(f)\n",
    "\n",
    "user = config['user']\n",
    "password = config['password']\n",
    "host = config['host']\n",
    "port = config['port']\n",
    "database = config['database']\n",
    "\n",
    "# SQLAlchemy 엔진 생성\n",
    "engine = create_engine(f\"mysql+pymysql://{user}:{password}@{host}:{port}/{database}\")\n",
    "\n",
    "# weather 테이블 데이터 읽어오기\n",
    "query = \"SELECT * FROM air_quality;\"\n",
    "df = pd.read_sql(query, con=engine)\n",
    "\n",
    "# ▶ 결과 확인\n",
    "print(df)"
   ]
  },
  {
   "cell_type": "code",
   "execution_count": 4,
   "id": "6b669b23",
   "metadata": {},
   "outputs": [
    {
     "name": "stdout",
     "output_type": "stream",
     "text": [
      "              datetime region      o3     so2     no2    co\n",
      "0  2015-01-01 01:00:00     평균  0.0210  0.0054  0.0099  0.36\n",
      "1  2015-01-01 02:00:00     평균  0.0201  0.0055  0.0096  0.37\n",
      "2  2015-01-01 03:00:00     평균  0.0197  0.0054  0.0090  0.38\n",
      "3  2015-01-01 04:00:00     평균  0.0203  0.0053  0.0074  0.35\n",
      "4  2015-01-01 05:00:00     평균  0.0195  0.0052  0.0074  0.34\n",
      "[병합 완료] 총 행 수: 2350998\n"
     ]
    }
   ],
   "source": [
    "import pandas as pd\n",
    "from functools import reduce\n",
    "\n",
    "# 파일명:컬럼명 매핑\n",
    "file_map = {\n",
    "    \"오존 2015-2025.csv\": \"o3\",\n",
    "    \"아황산가스 2015-2025.csv\": \"so2\",\n",
    "    \"이산화질소 2015-2025.csv\": \"no2\",\n",
    "    \"일산화탄소 2015-2025.csv\": \"co\"\n",
    "}\n",
    "\n",
    "base_path = r\"C:\\Users\\user\\ai-proj2-class4\\10.data-collecting\\대기오염물질_data\"\n",
    "dfs = []\n",
    "\n",
    "# 24:00 처리 함수\n",
    "def fix_24h(df):\n",
    "    mask = df['datetime'].str.contains(\"24:00\")\n",
    "    df.loc[mask, 'datetime'] = pd.to_datetime(df.loc[mask, 'datetime'].str.replace(\"24:00\", \"00:00\")) + pd.Timedelta(days=1)\n",
    "    df.loc[~mask, 'datetime'] = pd.to_datetime(df.loc[~mask, 'datetime'])\n",
    "    return df\n",
    "\n",
    "for filename, col_name in file_map.items():\n",
    "    file_path = f\"{base_path}\\\\{filename}\"\n",
    "    df = pd.read_csv(file_path, encoding='utf-8')\n",
    "    df = df.rename(columns={df.columns[0]: 'datetime'})  # 첫 번째 열을 datetime으로\n",
    "\n",
    "    df_melted = pd.melt(df, id_vars='datetime', var_name='region', value_name=col_name)\n",
    "\n",
    "    # datetime 24:00 처리\n",
    "    df_melted = fix_24h(df_melted)\n",
    "\n",
    "    dfs.append(df_melted)\n",
    "\n",
    "# 데이터 병합\n",
    "merged = reduce(lambda left, right: pd.merge(left, right, on=['datetime', 'region']), dfs)\n",
    "\n",
    "# 최종 확인\n",
    "print(merged.head())\n",
    "print(f\"[병합 완료] 총 행 수: {len(merged)}\")"
   ]
  },
  {
   "cell_type": "code",
   "execution_count": null,
   "id": "5da3f3e8",
   "metadata": {},
   "outputs": [],
   "source": []
  }
 ],
 "metadata": {
  "kernelspec": {
   "display_name": "base",
   "language": "python",
   "name": "python3"
  },
  "language_info": {
   "codemirror_mode": {
    "name": "ipython",
    "version": 3
   },
   "file_extension": ".py",
   "mimetype": "text/x-python",
   "name": "python",
   "nbconvert_exporter": "python",
   "pygments_lexer": "ipython3",
   "version": "3.12.7"
  }
 },
 "nbformat": 4,
 "nbformat_minor": 5
}
