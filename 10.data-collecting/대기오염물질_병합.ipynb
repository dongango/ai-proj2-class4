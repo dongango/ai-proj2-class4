{
 "cells": [
  {
   "cell_type": "code",
   "execution_count": 12,
   "id": "804f4f5e",
   "metadata": {},
   "outputs": [
    {
     "name": "stderr",
     "output_type": "stream",
     "text": [
      "/opt/anaconda3/envs/project_2/lib/python3.9/site-packages/openpyxl/styles/stylesheet.py:237: UserWarning: Workbook contains no default style, apply openpyxl's default\n",
      "  warn(\"Workbook contains no default style, apply openpyxl's default\")\n",
      "/opt/anaconda3/envs/project_2/lib/python3.9/site-packages/openpyxl/styles/stylesheet.py:237: UserWarning: Workbook contains no default style, apply openpyxl's default\n",
      "  warn(\"Workbook contains no default style, apply openpyxl's default\")\n",
      "/opt/anaconda3/envs/project_2/lib/python3.9/site-packages/openpyxl/styles/stylesheet.py:237: UserWarning: Workbook contains no default style, apply openpyxl's default\n",
      "  warn(\"Workbook contains no default style, apply openpyxl's default\")\n",
      "/opt/anaconda3/envs/project_2/lib/python3.9/site-packages/openpyxl/styles/stylesheet.py:237: UserWarning: Workbook contains no default style, apply openpyxl's default\n",
      "  warn(\"Workbook contains no default style, apply openpyxl's default\")\n",
      "/opt/anaconda3/envs/project_2/lib/python3.9/site-packages/openpyxl/styles/stylesheet.py:237: UserWarning: Workbook contains no default style, apply openpyxl's default\n",
      "  warn(\"Workbook contains no default style, apply openpyxl's default\")\n",
      "/opt/anaconda3/envs/project_2/lib/python3.9/site-packages/openpyxl/styles/stylesheet.py:237: UserWarning: Workbook contains no default style, apply openpyxl's default\n",
      "  warn(\"Workbook contains no default style, apply openpyxl's default\")\n"
     ]
    },
    {
     "name": "stdout",
     "output_type": "stream",
     "text": [
      "모든 파일 병합 완료\n"
     ]
    }
   ],
   "source": [
    "import os\n",
    "import pandas as pd\n",
    "\n",
    "folder_path = '/Users/s/Downloads/2024_아황산가스'\n",
    "\n",
    "output_folder = './대기오염/'\n",
    "\n",
    "file_order = [\n",
    "    'hour.xlsx',\n",
    "    'hour (1).xlsx',\n",
    "    'hour (2).xlsx',\n",
    "    'hour (3).xlsx',\n",
    "    'hour (4).xlsx',\n",
    "    'hour (5).xlsx'\n",
    "]\n",
    "\n",
    "\n",
    "merged_df = pd.DataFrame()\n",
    "\n",
    "for file_name in file_order:\n",
    "    file_path = os.path.join(folder_path, file_name)\n",
    "    \n",
    "    # 위에 4줄 스킵\n",
    "    df = pd.read_excel(file_path, skiprows=4, engine='openpyxl')\n",
    "    \n",
    "    # 병합\n",
    "    merged_df = pd.concat([merged_df, df], ignore_index=True)\n",
    "\n",
    "\n",
    "output_csv = os.path.join(output_folder, '아황산가스_2024.csv')\n",
    "merged_df.to_csv(output_csv, index=False, encoding='utf-8-sig')\n",
    "\n",
    "print(f'모든 파일 병합 완료')"
   ]
  }
 ],
 "metadata": {
  "kernelspec": {
   "display_name": "project_2",
   "language": "python",
   "name": "python3"
  },
  "language_info": {
   "codemirror_mode": {
    "name": "ipython",
    "version": 3
   },
   "file_extension": ".py",
   "mimetype": "text/x-python",
   "name": "python",
   "nbconvert_exporter": "python",
   "pygments_lexer": "ipython3",
   "version": "3.9.18"
  }
 },
 "nbformat": 4,
 "nbformat_minor": 5
}
