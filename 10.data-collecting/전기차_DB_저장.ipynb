{
 "cells": [
  {
   "cell_type": "code",
   "execution_count": 1,
   "id": "3876bdee",
   "metadata": {},
   "outputs": [
    {
     "name": "stdout",
     "output_type": "stream",
     "text": [
      "{'encoding': 'utf-8', 'confidence': 0.99, 'language': ''}\n"
     ]
    }
   ],
   "source": [
    "import chardet\n",
    "\n",
    "with open('./전기차데이타/전기차_통합.csv', 'rb') as f:\n",
    "    result = chardet.detect(f.read(10000))  # 일부만 분석\n",
    "    print(result)"
   ]
  },
  {
   "cell_type": "code",
   "execution_count": 2,
   "id": "904539b5",
   "metadata": {},
   "outputs": [
    {
     "name": "stdout",
     "output_type": "stream",
     "text": [
      "<class 'pandas.core.frame.DataFrame'>\n",
      "RangeIndex: 11772 entries, 0 to 11771\n",
      "Data columns (total 5 columns):\n",
      " #   Column  Non-Null Count  Dtype  \n",
      "---  ------  --------------  -----  \n",
      " 0   연월      11772 non-null  float64\n",
      " 1   지역      11772 non-null  object \n",
      " 2   연료유형    11772 non-null  object \n",
      " 3   용도      11772 non-null  object \n",
      " 4   등록대수    11691 non-null  float64\n",
      "dtypes: float64(2), object(3)\n",
      "memory usage: 460.0+ KB\n"
     ]
    }
   ],
   "source": [
    "import pandas as pd\n",
    "\n",
    "df = pd.read_csv('./전기차데이타/전기차_통합.csv', encoding='utf-8')\n",
    "\n",
    "df.info()"
   ]
  },
  {
   "cell_type": "code",
   "execution_count": 3,
   "id": "37fc6b17",
   "metadata": {},
   "outputs": [
    {
     "data": {
      "text/html": [
       "<div>\n",
       "<style scoped>\n",
       "    .dataframe tbody tr th:only-of-type {\n",
       "        vertical-align: middle;\n",
       "    }\n",
       "\n",
       "    .dataframe tbody tr th {\n",
       "        vertical-align: top;\n",
       "    }\n",
       "\n",
       "    .dataframe thead th {\n",
       "        text-align: right;\n",
       "    }\n",
       "</style>\n",
       "<table border=\"1\" class=\"dataframe\">\n",
       "  <thead>\n",
       "    <tr style=\"text-align: right;\">\n",
       "      <th></th>\n",
       "      <th>연월</th>\n",
       "      <th>지역</th>\n",
       "      <th>연료유형</th>\n",
       "      <th>용도</th>\n",
       "      <th>등록대수</th>\n",
       "    </tr>\n",
       "  </thead>\n",
       "  <tbody>\n",
       "    <tr>\n",
       "      <th>0</th>\n",
       "      <td>2017.01</td>\n",
       "      <td>강원</td>\n",
       "      <td>경유</td>\n",
       "      <td>사업용</td>\n",
       "      <td>12362.0</td>\n",
       "    </tr>\n",
       "    <tr>\n",
       "      <th>1</th>\n",
       "      <td>2017.01</td>\n",
       "      <td>광주</td>\n",
       "      <td>전기</td>\n",
       "      <td>비사업용</td>\n",
       "      <td>240.0</td>\n",
       "    </tr>\n",
       "    <tr>\n",
       "      <th>2</th>\n",
       "      <td>2017.01</td>\n",
       "      <td>인천</td>\n",
       "      <td>전기</td>\n",
       "      <td>사업용</td>\n",
       "      <td>6.0</td>\n",
       "    </tr>\n",
       "    <tr>\n",
       "      <th>3</th>\n",
       "      <td>2017.01</td>\n",
       "      <td>인천</td>\n",
       "      <td>전기</td>\n",
       "      <td>비사업용</td>\n",
       "      <td>210.0</td>\n",
       "    </tr>\n",
       "    <tr>\n",
       "      <th>4</th>\n",
       "      <td>2017.01</td>\n",
       "      <td>대구</td>\n",
       "      <td>전기</td>\n",
       "      <td>사업용</td>\n",
       "      <td>53.0</td>\n",
       "    </tr>\n",
       "  </tbody>\n",
       "</table>\n",
       "</div>"
      ],
      "text/plain": [
       "        연월  지역 연료유형    용도     등록대수\n",
       "0  2017.01  강원   경유   사업용  12362.0\n",
       "1  2017.01  광주   전기  비사업용    240.0\n",
       "2  2017.01  인천   전기   사업용      6.0\n",
       "3  2017.01  인천   전기  비사업용    210.0\n",
       "4  2017.01  대구   전기   사업용     53.0"
      ]
     },
     "execution_count": 3,
     "metadata": {},
     "output_type": "execute_result"
    }
   ],
   "source": [
    "df.head()"
   ]
  },
  {
   "cell_type": "code",
   "execution_count": 5,
   "id": "ccd668b6",
   "metadata": {},
   "outputs": [
    {
     "name": "stdout",
     "output_type": "stream",
     "text": [
      "Index(['datetime', 'region', 'fuel_type', 'use_type', 'reg_count'], dtype='object')\n"
     ]
    }
   ],
   "source": [
    "df.rename(columns={\n",
    "    '연월': 'datetime',\n",
    "    '지역': 'region',\n",
    "    '연료유형': 'fuel_type',\n",
    "    '용도': 'use_type',\n",
    "    '등록대수': 'reg_count'\n",
    "}, inplace=True)\n",
    "\n",
    "\n",
    "# 결과 확인\n",
    "print(df.columns)"
   ]
  },
  {
   "cell_type": "code",
   "execution_count": 6,
   "id": "0e101c72",
   "metadata": {},
   "outputs": [
    {
     "data": {
      "text/html": [
       "<div>\n",
       "<style scoped>\n",
       "    .dataframe tbody tr th:only-of-type {\n",
       "        vertical-align: middle;\n",
       "    }\n",
       "\n",
       "    .dataframe tbody tr th {\n",
       "        vertical-align: top;\n",
       "    }\n",
       "\n",
       "    .dataframe thead th {\n",
       "        text-align: right;\n",
       "    }\n",
       "</style>\n",
       "<table border=\"1\" class=\"dataframe\">\n",
       "  <thead>\n",
       "    <tr style=\"text-align: right;\">\n",
       "      <th></th>\n",
       "      <th>datetime</th>\n",
       "      <th>region</th>\n",
       "      <th>fuel_type</th>\n",
       "      <th>use_type</th>\n",
       "      <th>reg_count</th>\n",
       "    </tr>\n",
       "  </thead>\n",
       "  <tbody>\n",
       "    <tr>\n",
       "      <th>0</th>\n",
       "      <td>2017.01</td>\n",
       "      <td>강원</td>\n",
       "      <td>경유</td>\n",
       "      <td>사업용</td>\n",
       "      <td>12362.0</td>\n",
       "    </tr>\n",
       "    <tr>\n",
       "      <th>1</th>\n",
       "      <td>2017.01</td>\n",
       "      <td>광주</td>\n",
       "      <td>전기</td>\n",
       "      <td>비사업용</td>\n",
       "      <td>240.0</td>\n",
       "    </tr>\n",
       "    <tr>\n",
       "      <th>2</th>\n",
       "      <td>2017.01</td>\n",
       "      <td>인천</td>\n",
       "      <td>전기</td>\n",
       "      <td>사업용</td>\n",
       "      <td>6.0</td>\n",
       "    </tr>\n",
       "    <tr>\n",
       "      <th>3</th>\n",
       "      <td>2017.01</td>\n",
       "      <td>인천</td>\n",
       "      <td>전기</td>\n",
       "      <td>비사업용</td>\n",
       "      <td>210.0</td>\n",
       "    </tr>\n",
       "    <tr>\n",
       "      <th>4</th>\n",
       "      <td>2017.01</td>\n",
       "      <td>대구</td>\n",
       "      <td>전기</td>\n",
       "      <td>사업용</td>\n",
       "      <td>53.0</td>\n",
       "    </tr>\n",
       "  </tbody>\n",
       "</table>\n",
       "</div>"
      ],
      "text/plain": [
       "   datetime region fuel_type use_type  reg_count\n",
       "0   2017.01     강원        경유      사업용    12362.0\n",
       "1   2017.01     광주        전기     비사업용      240.0\n",
       "2   2017.01     인천        전기      사업용        6.0\n",
       "3   2017.01     인천        전기     비사업용      210.0\n",
       "4   2017.01     대구        전기      사업용       53.0"
      ]
     },
     "execution_count": 6,
     "metadata": {},
     "output_type": "execute_result"
    }
   ],
   "source": [
    "df.head()"
   ]
  },
  {
   "cell_type": "code",
   "execution_count": 7,
   "id": "8c5c7602",
   "metadata": {},
   "outputs": [],
   "source": [
    "import json\n",
    "from sqlalchemy import create_engine \n",
    "from sqlalchemy.exc import SQLAlchemyError\n",
    "import cryptography\n",
    "\n",
    "with open('db-config.json', 'r') as f:\n",
    "    config = json.load(f)\n",
    "\n",
    "user = config['user']\n",
    "password = config['password']\n",
    "host = config['host']\n",
    "port = config['port']\n",
    "database = config['database']\n",
    "\n",
    "df['datetime'] = pd.to_datetime(df['datetime'])  # datetime 형식으로 변환\n",
    "\n",
    "\n"
   ]
  },
  {
   "cell_type": "code",
   "execution_count": 8,
   "id": "74f59d5e",
   "metadata": {},
   "outputs": [
    {
     "name": "stdout",
     "output_type": "stream",
     "text": [
      "[Success] 데이터가 성공적으로 삽입되었습니다.\n"
     ]
    }
   ],
   "source": [
    "# SQLAlchemy 엔진 생성\n",
    "engine = create_engine(f\"mysql+pymysql://{user}:{password}@{host}:{port}/{database}\")\n",
    "conn = engine.connect()\n",
    "# 데이터 삽입 (예외처리 포함)\n",
    "try:\n",
    "    df.to_sql(name='vehicle_reg_stats', con=conn, if_exists='append', index=False)\n",
    "    print(\"[Success] 데이터가 성공적으로 삽입되었습니다.\")\n",
    "except SQLAlchemyError as e:\n",
    "    print(\"[Failure] 데이터 삽입 중 오류 발생:\", str(e))\n"
   ]
  }
 ],
 "metadata": {
  "kernelspec": {
   "display_name": "dlp",
   "language": "python",
   "name": "python3"
  },
  "language_info": {
   "codemirror_mode": {
    "name": "ipython",
    "version": 3
   },
   "file_extension": ".py",
   "mimetype": "text/x-python",
   "name": "python",
   "nbconvert_exporter": "python",
   "pygments_lexer": "ipython3",
   "version": "3.11.13"
  }
 },
 "nbformat": 4,
 "nbformat_minor": 5
}
