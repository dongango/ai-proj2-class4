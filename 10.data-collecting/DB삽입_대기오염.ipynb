{
 "cells": [
  {
   "cell_type": "code",
   "execution_count": 1,
   "id": "887bdd5f",
   "metadata": {},
   "outputs": [],
   "source": [
    "import pandas as pd"
   ]
  },
  {
   "cell_type": "code",
   "execution_count": 5,
   "id": "914e1394",
   "metadata": {},
   "outputs": [],
   "source": [
    "ozone_df = pd.read_csv(\"오존 2015-2025.csv\")\n",
    "so2_df = pd.read_csv(\"아황산가스 2015-2025.csv\")\n",
    "no2_df = pd.read_csv(\"이산화질소 2015-2025.csv\")\n",
    "co_df = pd.read_csv(\"일산화탄소 2015-2025.csv\")"
   ]
  },
  {
   "cell_type": "code",
   "execution_count": 6,
   "id": "e0c58887",
   "metadata": {},
   "outputs": [],
   "source": [
    "ozone_long = ozone_df.melt(id_vars=[\"날짜\"], var_name=\"region\", value_name=\"ozone\")\n",
    "so2_long = so2_df.melt(id_vars=[\"날짜\"], var_name=\"region\", value_name=\"so2\")\n",
    "no2_long = no2_df.melt(id_vars=[\"날짜\"], var_name=\"region\", value_name=\"no2\")\n",
    "co_long = co_df.melt(id_vars=[\"날짜\"], var_name=\"region\", value_name=\"co\")"
   ]
  },
  {
   "cell_type": "code",
   "execution_count": 9,
   "id": "7393d1eb",
   "metadata": {},
   "outputs": [],
   "source": [
    "import datetime\n",
    "\n",
    "def fix_24_hour_format(dt_str):\n",
    "    if '24:00' in dt_str:\n",
    "        date_part = dt_str.split()[0]\n",
    "        new_dt = pd.to_datetime(date_part) + pd.Timedelta(days=1)\n",
    "        return f\"{new_dt.strftime('%Y-%m-%d')} 00:00\"\n",
    "    return dt_str\n",
    "\n",
    "for df in [ozone_long, so2_long, no2_long, co_long]:\n",
    "    df.rename(columns={\"날짜\": \"datetime\"}, inplace=True)\n",
    "    df[\"datetime\"] = df[\"datetime\"].apply(fix_24_hour_format)\n",
    "    df[\"datetime\"] = pd.to_datetime(df[\"datetime\"])\n"
   ]
  },
  {
   "cell_type": "code",
   "execution_count": 10,
   "id": "1ee1b6de",
   "metadata": {},
   "outputs": [],
   "source": [
    "merged = pd.merge(ozone_long, so2_long, on=[\"datetime\", \"region\"], how=\"inner\")\n",
    "merged = pd.merge(merged, no2_long, on=[\"datetime\", \"region\"], how=\"inner\")\n",
    "merged = pd.merge(merged, co_long, on=[\"datetime\", \"region\"], how=\"inner\")"
   ]
  },
  {
   "cell_type": "code",
   "execution_count": 11,
   "id": "b8a7ef8f",
   "metadata": {},
   "outputs": [
    {
     "data": {
      "text/html": [
       "<div>\n",
       "<style scoped>\n",
       "    .dataframe tbody tr th:only-of-type {\n",
       "        vertical-align: middle;\n",
       "    }\n",
       "\n",
       "    .dataframe tbody tr th {\n",
       "        vertical-align: top;\n",
       "    }\n",
       "\n",
       "    .dataframe thead th {\n",
       "        text-align: right;\n",
       "    }\n",
       "</style>\n",
       "<table border=\"1\" class=\"dataframe\">\n",
       "  <thead>\n",
       "    <tr style=\"text-align: right;\">\n",
       "      <th></th>\n",
       "      <th>datetime</th>\n",
       "      <th>region</th>\n",
       "      <th>ozone</th>\n",
       "      <th>so2</th>\n",
       "      <th>no2</th>\n",
       "      <th>co</th>\n",
       "    </tr>\n",
       "  </thead>\n",
       "  <tbody>\n",
       "    <tr>\n",
       "      <th>0</th>\n",
       "      <td>2015-01-01 01:00:00</td>\n",
       "      <td>평균</td>\n",
       "      <td>0.0210</td>\n",
       "      <td>0.0054</td>\n",
       "      <td>0.0099</td>\n",
       "      <td>0.36</td>\n",
       "    </tr>\n",
       "    <tr>\n",
       "      <th>1</th>\n",
       "      <td>2015-01-01 02:00:00</td>\n",
       "      <td>평균</td>\n",
       "      <td>0.0201</td>\n",
       "      <td>0.0055</td>\n",
       "      <td>0.0096</td>\n",
       "      <td>0.37</td>\n",
       "    </tr>\n",
       "    <tr>\n",
       "      <th>2</th>\n",
       "      <td>2015-01-01 03:00:00</td>\n",
       "      <td>평균</td>\n",
       "      <td>0.0197</td>\n",
       "      <td>0.0054</td>\n",
       "      <td>0.0090</td>\n",
       "      <td>0.38</td>\n",
       "    </tr>\n",
       "    <tr>\n",
       "      <th>3</th>\n",
       "      <td>2015-01-01 04:00:00</td>\n",
       "      <td>평균</td>\n",
       "      <td>0.0203</td>\n",
       "      <td>0.0053</td>\n",
       "      <td>0.0074</td>\n",
       "      <td>0.35</td>\n",
       "    </tr>\n",
       "    <tr>\n",
       "      <th>4</th>\n",
       "      <td>2015-01-01 05:00:00</td>\n",
       "      <td>평균</td>\n",
       "      <td>0.0195</td>\n",
       "      <td>0.0052</td>\n",
       "      <td>0.0074</td>\n",
       "      <td>0.34</td>\n",
       "    </tr>\n",
       "    <tr>\n",
       "      <th>...</th>\n",
       "      <td>...</td>\n",
       "      <td>...</td>\n",
       "      <td>...</td>\n",
       "      <td>...</td>\n",
       "      <td>...</td>\n",
       "      <td>...</td>\n",
       "    </tr>\n",
       "    <tr>\n",
       "      <th>2350993</th>\n",
       "      <td>2025-06-25 13:00:00</td>\n",
       "      <td>중랑구</td>\n",
       "      <td>0.0271</td>\n",
       "      <td>0.0024</td>\n",
       "      <td>0.0097</td>\n",
       "      <td>0.24</td>\n",
       "    </tr>\n",
       "    <tr>\n",
       "      <th>2350994</th>\n",
       "      <td>2025-06-25 14:00:00</td>\n",
       "      <td>중랑구</td>\n",
       "      <td>0.0290</td>\n",
       "      <td>0.0023</td>\n",
       "      <td>0.0081</td>\n",
       "      <td>0.24</td>\n",
       "    </tr>\n",
       "    <tr>\n",
       "      <th>2350995</th>\n",
       "      <td>2025-06-25 15:00:00</td>\n",
       "      <td>중랑구</td>\n",
       "      <td>0.0255</td>\n",
       "      <td>0.0029</td>\n",
       "      <td>0.0108</td>\n",
       "      <td>0.26</td>\n",
       "    </tr>\n",
       "    <tr>\n",
       "      <th>2350996</th>\n",
       "      <td>2025-06-25 16:00:00</td>\n",
       "      <td>중랑구</td>\n",
       "      <td>0.0237</td>\n",
       "      <td>0.0022</td>\n",
       "      <td>0.0099</td>\n",
       "      <td>0.26</td>\n",
       "    </tr>\n",
       "    <tr>\n",
       "      <th>2350997</th>\n",
       "      <td>2025-06-25 17:00:00</td>\n",
       "      <td>중랑구</td>\n",
       "      <td>0.0233</td>\n",
       "      <td>0.0025</td>\n",
       "      <td>0.0125</td>\n",
       "      <td>0.26</td>\n",
       "    </tr>\n",
       "  </tbody>\n",
       "</table>\n",
       "<p>2350998 rows × 6 columns</p>\n",
       "</div>"
      ],
      "text/plain": [
       "                   datetime region   ozone     so2     no2    co\n",
       "0       2015-01-01 01:00:00     평균  0.0210  0.0054  0.0099  0.36\n",
       "1       2015-01-01 02:00:00     평균  0.0201  0.0055  0.0096  0.37\n",
       "2       2015-01-01 03:00:00     평균  0.0197  0.0054  0.0090  0.38\n",
       "3       2015-01-01 04:00:00     평균  0.0203  0.0053  0.0074  0.35\n",
       "4       2015-01-01 05:00:00     평균  0.0195  0.0052  0.0074  0.34\n",
       "...                     ...    ...     ...     ...     ...   ...\n",
       "2350993 2025-06-25 13:00:00    중랑구  0.0271  0.0024  0.0097  0.24\n",
       "2350994 2025-06-25 14:00:00    중랑구  0.0290  0.0023  0.0081  0.24\n",
       "2350995 2025-06-25 15:00:00    중랑구  0.0255  0.0029  0.0108  0.26\n",
       "2350996 2025-06-25 16:00:00    중랑구  0.0237  0.0022  0.0099  0.26\n",
       "2350997 2025-06-25 17:00:00    중랑구  0.0233  0.0025  0.0125  0.26\n",
       "\n",
       "[2350998 rows x 6 columns]"
      ]
     },
     "execution_count": 11,
     "metadata": {},
     "output_type": "execute_result"
    }
   ],
   "source": [
    "merged"
   ]
  },
  {
   "cell_type": "code",
   "execution_count": 13,
   "id": "01ecb14b",
   "metadata": {},
   "outputs": [],
   "source": [
    "merged.rename(columns={\"ozone\": \"o3\"}, inplace=True)"
   ]
  },
  {
   "cell_type": "code",
   "execution_count": 14,
   "id": "638cdfb3",
   "metadata": {},
   "outputs": [
    {
     "data": {
      "text/html": [
       "<div>\n",
       "<style scoped>\n",
       "    .dataframe tbody tr th:only-of-type {\n",
       "        vertical-align: middle;\n",
       "    }\n",
       "\n",
       "    .dataframe tbody tr th {\n",
       "        vertical-align: top;\n",
       "    }\n",
       "\n",
       "    .dataframe thead th {\n",
       "        text-align: right;\n",
       "    }\n",
       "</style>\n",
       "<table border=\"1\" class=\"dataframe\">\n",
       "  <thead>\n",
       "    <tr style=\"text-align: right;\">\n",
       "      <th></th>\n",
       "      <th>datetime</th>\n",
       "      <th>region</th>\n",
       "      <th>o3</th>\n",
       "      <th>so2</th>\n",
       "      <th>no2</th>\n",
       "      <th>co</th>\n",
       "    </tr>\n",
       "  </thead>\n",
       "  <tbody>\n",
       "    <tr>\n",
       "      <th>0</th>\n",
       "      <td>2015-01-01 01:00:00</td>\n",
       "      <td>평균</td>\n",
       "      <td>0.0210</td>\n",
       "      <td>0.0054</td>\n",
       "      <td>0.0099</td>\n",
       "      <td>0.36</td>\n",
       "    </tr>\n",
       "    <tr>\n",
       "      <th>1</th>\n",
       "      <td>2015-01-01 02:00:00</td>\n",
       "      <td>평균</td>\n",
       "      <td>0.0201</td>\n",
       "      <td>0.0055</td>\n",
       "      <td>0.0096</td>\n",
       "      <td>0.37</td>\n",
       "    </tr>\n",
       "    <tr>\n",
       "      <th>2</th>\n",
       "      <td>2015-01-01 03:00:00</td>\n",
       "      <td>평균</td>\n",
       "      <td>0.0197</td>\n",
       "      <td>0.0054</td>\n",
       "      <td>0.0090</td>\n",
       "      <td>0.38</td>\n",
       "    </tr>\n",
       "    <tr>\n",
       "      <th>3</th>\n",
       "      <td>2015-01-01 04:00:00</td>\n",
       "      <td>평균</td>\n",
       "      <td>0.0203</td>\n",
       "      <td>0.0053</td>\n",
       "      <td>0.0074</td>\n",
       "      <td>0.35</td>\n",
       "    </tr>\n",
       "    <tr>\n",
       "      <th>4</th>\n",
       "      <td>2015-01-01 05:00:00</td>\n",
       "      <td>평균</td>\n",
       "      <td>0.0195</td>\n",
       "      <td>0.0052</td>\n",
       "      <td>0.0074</td>\n",
       "      <td>0.34</td>\n",
       "    </tr>\n",
       "    <tr>\n",
       "      <th>...</th>\n",
       "      <td>...</td>\n",
       "      <td>...</td>\n",
       "      <td>...</td>\n",
       "      <td>...</td>\n",
       "      <td>...</td>\n",
       "      <td>...</td>\n",
       "    </tr>\n",
       "    <tr>\n",
       "      <th>2350993</th>\n",
       "      <td>2025-06-25 13:00:00</td>\n",
       "      <td>중랑구</td>\n",
       "      <td>0.0271</td>\n",
       "      <td>0.0024</td>\n",
       "      <td>0.0097</td>\n",
       "      <td>0.24</td>\n",
       "    </tr>\n",
       "    <tr>\n",
       "      <th>2350994</th>\n",
       "      <td>2025-06-25 14:00:00</td>\n",
       "      <td>중랑구</td>\n",
       "      <td>0.0290</td>\n",
       "      <td>0.0023</td>\n",
       "      <td>0.0081</td>\n",
       "      <td>0.24</td>\n",
       "    </tr>\n",
       "    <tr>\n",
       "      <th>2350995</th>\n",
       "      <td>2025-06-25 15:00:00</td>\n",
       "      <td>중랑구</td>\n",
       "      <td>0.0255</td>\n",
       "      <td>0.0029</td>\n",
       "      <td>0.0108</td>\n",
       "      <td>0.26</td>\n",
       "    </tr>\n",
       "    <tr>\n",
       "      <th>2350996</th>\n",
       "      <td>2025-06-25 16:00:00</td>\n",
       "      <td>중랑구</td>\n",
       "      <td>0.0237</td>\n",
       "      <td>0.0022</td>\n",
       "      <td>0.0099</td>\n",
       "      <td>0.26</td>\n",
       "    </tr>\n",
       "    <tr>\n",
       "      <th>2350997</th>\n",
       "      <td>2025-06-25 17:00:00</td>\n",
       "      <td>중랑구</td>\n",
       "      <td>0.0233</td>\n",
       "      <td>0.0025</td>\n",
       "      <td>0.0125</td>\n",
       "      <td>0.26</td>\n",
       "    </tr>\n",
       "  </tbody>\n",
       "</table>\n",
       "<p>2350998 rows × 6 columns</p>\n",
       "</div>"
      ],
      "text/plain": [
       "                   datetime region      o3     so2     no2    co\n",
       "0       2015-01-01 01:00:00     평균  0.0210  0.0054  0.0099  0.36\n",
       "1       2015-01-01 02:00:00     평균  0.0201  0.0055  0.0096  0.37\n",
       "2       2015-01-01 03:00:00     평균  0.0197  0.0054  0.0090  0.38\n",
       "3       2015-01-01 04:00:00     평균  0.0203  0.0053  0.0074  0.35\n",
       "4       2015-01-01 05:00:00     평균  0.0195  0.0052  0.0074  0.34\n",
       "...                     ...    ...     ...     ...     ...   ...\n",
       "2350993 2025-06-25 13:00:00    중랑구  0.0271  0.0024  0.0097  0.24\n",
       "2350994 2025-06-25 14:00:00    중랑구  0.0290  0.0023  0.0081  0.24\n",
       "2350995 2025-06-25 15:00:00    중랑구  0.0255  0.0029  0.0108  0.26\n",
       "2350996 2025-06-25 16:00:00    중랑구  0.0237  0.0022  0.0099  0.26\n",
       "2350997 2025-06-25 17:00:00    중랑구  0.0233  0.0025  0.0125  0.26\n",
       "\n",
       "[2350998 rows x 6 columns]"
      ]
     },
     "execution_count": 14,
     "metadata": {},
     "output_type": "execute_result"
    }
   ],
   "source": [
    "merged"
   ]
  },
  {
   "cell_type": "code",
   "execution_count": 15,
   "id": "2a01fb77",
   "metadata": {},
   "outputs": [
    {
     "data": {
      "text/plain": [
       "array(['평균', '강남구', '강동구', '강북구', '강서구', '관악구', '광진구', '구로구', '금천구',\n",
       "       '노원구', '도봉구', '동대문구', '동작구', '마포구', '서대문구', '서초구', '성동구', '성북구',\n",
       "       '송파구', '양천구', '영등포구', '용산구', '은평구', '종로구', '중구', '중랑구'],\n",
       "      dtype=object)"
      ]
     },
     "execution_count": 15,
     "metadata": {},
     "output_type": "execute_result"
    }
   ],
   "source": [
    "merged['region'].unique()"
   ]
  },
  {
   "cell_type": "code",
   "execution_count": 16,
   "id": "ac9f0212",
   "metadata": {},
   "outputs": [],
   "source": [
    "import json\n",
    "from sqlalchemy import create_engine \n",
    "from sqlalchemy.exc import SQLAlchemyError\n",
    "import cryptography"
   ]
  },
  {
   "cell_type": "code",
   "execution_count": 17,
   "id": "d7faa878",
   "metadata": {},
   "outputs": [],
   "source": [
    "with open('db-config.json', 'r') as f:\n",
    "    config = json.load(f)\n",
    "\n",
    "user = config['user']\n",
    "password = config['password']\n",
    "host = config['host']\n",
    "port = config['port']\n",
    "database = config['database']\n",
    "\n",
    "merged = merged.copy() \n",
    "merged['datetime'] = pd.to_datetime(merged['datetime'])  # datetime 형식으로 변환"
   ]
  },
  {
   "cell_type": "code",
   "execution_count": 19,
   "id": "c3ed8b49",
   "metadata": {},
   "outputs": [
    {
     "name": "stdout",
     "output_type": "stream",
     "text": [
      "데이터 삽입 완료\n"
     ]
    }
   ],
   "source": [
    "engine = create_engine(f'mysql+pymysql://{user}:{password}@{host}:{port}/{database}')\n",
    "conn = engine.connect()\n",
    "\n",
    "try:\n",
    "    merged.to_sql(name='air_pollution', con=conn, if_exists='append', index=False)\n",
    "    print('데이터 삽입 완료')\n",
    "\n",
    "except SQLAlchemyError as e:\n",
    "    print('오류 발생', str(e))"
   ]
  },
  {
   "cell_type": "code",
   "execution_count": 20,
   "id": "a9fdaf3f",
   "metadata": {},
   "outputs": [
    {
     "name": "stdout",
     "output_type": "stream",
     "text": [
      "      id            datetime region     no2    co     so2      o3\n",
      "0  14907 2015-01-01 01:00:00     평균  0.0099  0.36  0.0054  0.0210\n",
      "1  14908 2015-01-01 02:00:00     평균  0.0096  0.37  0.0055  0.0201\n",
      "2  14909 2015-01-01 03:00:00     평균  0.0090  0.38  0.0054  0.0197\n",
      "3  14910 2015-01-01 04:00:00     평균  0.0074  0.35  0.0053  0.0203\n",
      "4  14911 2015-01-01 05:00:00     평균  0.0074  0.34  0.0052  0.0195\n"
     ]
    }
   ],
   "source": [
    "import pandas as pd\n",
    "from sqlalchemy import create_engine\n",
    "import json\n",
    "\n",
    "# 접속 정보 로딩 (옵션: db-config.json 파일이 있을 경우)\n",
    "with open('db-config.json') as f:\n",
    "    config = json.load(f)\n",
    "\n",
    "user = config['user']\n",
    "password = config['password']\n",
    "host = config['host']\n",
    "port = config['port']\n",
    "database = config['database']\n",
    "\n",
    "# SQLAlchemy 엔진 생성\n",
    "engine = create_engine(f\"mysql+pymysql://{user}:{password}@{host}:{port}/{database}\")\n",
    "\n",
    "# vehicle_reg_stats 테이블 데이터 읽어오기\n",
    "query = \"SELECT * FROM air_pollution\"\n",
    "df = pd.read_sql(query, con=engine)\n",
    "\n",
    "# ▶ 결과 확인\n",
    "print(df.head())"
   ]
  },
  {
   "cell_type": "code",
   "execution_count": 21,
   "id": "17279243",
   "metadata": {},
   "outputs": [
    {
     "data": {
      "text/plain": [
       "array(['평균', '강남구', '강동구', '강북구', '강서구', '관악구', '광진구', '구로구', '금천구',\n",
       "       '노원구', '도봉구', '동대문구', '동작구', '마포구', '서대문구', '서초구', '성동구', '성북구',\n",
       "       '송파구', '양천구', '영등포구', '용산구', '은평구', '종로구', '중구', '중랑구'],\n",
       "      dtype=object)"
      ]
     },
     "execution_count": 21,
     "metadata": {},
     "output_type": "execute_result"
    }
   ],
   "source": [
    "df['region'].unique()"
   ]
  }
 ],
 "metadata": {
  "kernelspec": {
   "display_name": "project_2",
   "language": "python",
   "name": "python3"
  },
  "language_info": {
   "codemirror_mode": {
    "name": "ipython",
    "version": 3
   },
   "file_extension": ".py",
   "mimetype": "text/x-python",
   "name": "python",
   "nbconvert_exporter": "python",
   "pygments_lexer": "ipython3",
   "version": "3.9.18"
  }
 },
 "nbformat": 4,
 "nbformat_minor": 5
}
