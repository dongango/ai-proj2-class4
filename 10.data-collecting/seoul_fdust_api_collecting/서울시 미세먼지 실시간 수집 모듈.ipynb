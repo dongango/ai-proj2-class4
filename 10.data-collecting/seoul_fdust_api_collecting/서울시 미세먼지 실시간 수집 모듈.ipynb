{
 "cells": [
  {
   "cell_type": "code",
   "execution_count": 4,
   "id": "76705462",
   "metadata": {},
   "outputs": [],
   "source": [
    "import pandas as pd\n",
    "from sqlalchemy import create_engine, text\n",
    "import json\n",
    "\n",
    "# 접속 정보 로딩 (옵션: db-config.json 파일이 있을 경우)\n",
    "with open('db-config.json') as f:\n",
    "    config = json.load(f)\n",
    "\n",
    "user = config['user']\n",
    "password = config['password']\n",
    "host = config['host']\n",
    "port = config['port']\n",
    "database = config['database']\n",
    "\n",
    "# SQLAlchemy 엔진 생성\n",
    "engine = create_engine(f\"mysql+pymysql://{user}:{password}@{host}:{port}/{database}\")\n",
    "\n"
   ]
  },
  {
   "cell_type": "code",
   "execution_count": null,
   "id": "804cc625",
   "metadata": {},
   "outputs": [],
   "source": [
    "# 마지막 데이타 수집일을 가져옴..\n",
    "\n",
    "def get_latest_datetime():\n",
    "    with engine.connect() as conn:\n",
    "        result = conn.execute(text(\"SELECT MAX(datetime) FROM air_quality\"))\n",
    "        row = result.fetchone()\n",
    "        return row[0] if row and row[0] else datetime.datetime(2024, 1, 1)"
   ]
  },
  {
   "cell_type": "code",
   "execution_count": 16,
   "id": "023ed0c5",
   "metadata": {},
   "outputs": [],
   "source": [
    "# 날짜 기준 미세먼지, 오염데이타 수집.\n",
    "from xml.etree import ElementTree as ET\n",
    "import requests\n",
    "\n",
    "def fetch_air_data(ymd):\n",
    "    url = f\"http://openapi.seoul.go.kr:8088/735461674c646f6e393879456f456f/xml/TimeAverageAirQuality/1/700/{ymd}\"\n",
    "    response = requests.get(url)\n",
    "    response.encoding = 'utf-8'\n",
    "    if response.status_code == 200:\n",
    "        return response.text\n",
    "    else:\n",
    "        print(f\"Error: {response.status_code}\")\n",
    "        return None"
   ]
  },
  {
   "cell_type": "code",
   "execution_count": 68,
   "id": "4c9d179c",
   "metadata": {},
   "outputs": [],
   "source": [
    "## 수집한 XML 데이타를 시간별 미세면지, 오염물질 데이타를 가져온다.\n",
    "## NULL 값 대비 함수\n",
    "def parse_float(value, default=0.0):\n",
    "    try:\n",
    "        return float(value) if value and value.strip().lower() != 'null' else default\n",
    "    except:\n",
    "        return default\n",
    "\n",
    "## NULL 값을 대비하는 함수\n",
    "def parse_int(value, default=0):\n",
    "    try:\n",
    "        return int(float(value)) if value and value.strip().lower() != 'null' else default\n",
    "    except:\n",
    "        return default\n",
    "        \n",
    "def parse_air_data(xml):\n",
    "    quality_list = []\n",
    "    pollution_list = []\n",
    "\n",
    "    root = ET.fromstring(xml)\n",
    "    rows = root.findall(\".//row\")\n",
    "    for row in rows:\n",
    "        try:\n",
    "            dt_str = row.findtext(\"MSRDT\")\n",
    "            dt = datetime.datetime.strptime(dt_str, \"%Y%m%d%H%M\")\n",
    "            region = row.findtext(\"MSRSTE_NM\")\n",
    "            pm10 = parse_int(row.findtext(\"PM10\"))\n",
    "            pm25 = parse_int(row.findtext(\"PM25\"))\n",
    "\n",
    "            no2 = parse_float(row.findtext(\"NO2\"))\n",
    "            co = parse_float(row.findtext(\"CO\"))\n",
    "            so2 = parse_float(row.findtext(\"SO2\"))\n",
    "            o3 = parse_float(row.findtext(\"O3\"))\n",
    "\n",
    "            quality_list.append({'datetime': dt, 'region': region, 'pm10': pm10, 'pm25': pm25})\n",
    "            # print(dt, \" qu : \", pm10)\n",
    "            pollution_list.append({'datetime': dt, 'region': region, 'no2': no2, 'co': co, 'so2': so2, 'o3': o3})\n",
    "            # print(dt, \" po : \", o3)\n",
    "        except Exception as e:\n",
    "            print(dt, \" \", region, \" \", pm10, \" \", pm25, \" \", no2, \" \", co, \" \", so2, \" \", o3)\n",
    "            print(f\"Parsing error: {e}\")\n",
    "            continue\n",
    "\n",
    "    quality_list.sort(key=lambda x: x['datetime'])\n",
    "    pollution_list.sort(key=lambda x: x['datetime'])\n",
    "\n",
    "    return quality_list, pollution_list"
   ]
  },
  {
   "cell_type": "code",
   "execution_count": 61,
   "id": "a818ed57",
   "metadata": {},
   "outputs": [],
   "source": [
    "def save_to_db(quality_list, pollution_list):\n",
    "    with engine.begin() as conn:\n",
    "        for item in quality_list:\n",
    "            conn.execute(text(\"\"\"\n",
    "                INSERT INTO air_quality (datetime, region, pm10, pm25)\n",
    "                VALUES (:datetime, :region, :pm10, :pm25)\n",
    "                ON DUPLICATE KEY UPDATE\n",
    "                    pm10 = VALUES(pm10),\n",
    "                    pm25 = VALUES(pm25)\n",
    "            \"\"\"), item)\n",
    "\n",
    "        for item in pollution_list:\n",
    "            conn.execute(text(\"\"\"\n",
    "                INSERT INTO air_pollution (datetime, region, no2, co, so2, o3)\n",
    "                VALUES (:datetime, :region, :no2, :co, :so2, :o3)\n",
    "                ON DUPLICATE KEY UPDATE\n",
    "                    no2 = VALUES(no2),\n",
    "                    co  = VALUES(co),\n",
    "                    so2 = VALUES(so2),\n",
    "                    o3  = VALUES(o3)\n",
    "            \"\"\"), item)"
   ]
  },
  {
   "cell_type": "code",
   "execution_count": null,
   "id": "b7ba812c",
   "metadata": {},
   "outputs": [
    {
     "name": "stdout",
     "output_type": "stream",
     "text": [
      "2025-01-02\n"
     ]
    }
   ],
   "source": [
    "import datetime\n",
    "\n",
    "last_dt = get_latest_datetime()\n",
    "today = datetime.datetime.now().date()\n",
    "current_date = last_dt.date()\n",
    "current_date += datetime.timedelta(days=1)\n",
    "\n",
    "print(\"start date : \", current_date)\n",
    "\n",
    "while current_date <= today:\n",
    "    ymd = current_date.strftime(\"%Y%m%d\")\n",
    "    print(f\"Fetching data for {ymd}...\")\n",
    "    xml = fetch_air_data(ymd)\n",
    "    if xml:\n",
    "        quality, pollution = parse_air_data(xml)\n",
    "        save_to_db(quality, pollution)\n",
    "        print(f\"{ymd}: {len(quality)} records inserted/updated.\")\n",
    "    time.sleep(1)\n",
    "    current_date += datetime.timedelta(days=1)\n",
    "\n"
   ]
  }
 ],
 "metadata": {
  "kernelspec": {
   "display_name": "dlp",
   "language": "python",
   "name": "python3"
  },
  "language_info": {
   "codemirror_mode": {
    "name": "ipython",
    "version": 3
   },
   "file_extension": ".py",
   "mimetype": "text/x-python",
   "name": "python",
   "nbconvert_exporter": "python",
   "pygments_lexer": "ipython3",
   "version": "3.11.13"
  }
 },
 "nbformat": 4,
 "nbformat_minor": 5
}
