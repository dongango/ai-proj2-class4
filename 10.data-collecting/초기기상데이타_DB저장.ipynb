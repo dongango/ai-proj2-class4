{
 "cells": [
  {
   "cell_type": "code",
   "execution_count": 1,
   "id": "f67d3f13",
   "metadata": {},
   "outputs": [
    {
     "name": "stdout",
     "output_type": "stream",
     "text": [
      "{'encoding': 'utf-8', 'confidence': 0.99, 'language': ''}\n"
     ]
    }
   ],
   "source": [
    "import chardet\n",
    "\n",
    "with open('./기상데이타/서울시 기상관련변수.csv', 'rb') as f:\n",
    "    result = chardet.detect(f.read(10000))  # 일부만 분석\n",
    "    print(result)"
   ]
  },
  {
   "cell_type": "code",
   "execution_count": 2,
   "id": "5e9b004b",
   "metadata": {},
   "outputs": [],
   "source": [
    "import pandas as pd\n",
    "\n",
    "df = pd.read_csv('./기상데이타/서울시 기상관련변수.csv', encoding='utf-8')"
   ]
  },
  {
   "cell_type": "code",
   "execution_count": 3,
   "id": "08d54719",
   "metadata": {},
   "outputs": [
    {
     "name": "stdout",
     "output_type": "stream",
     "text": [
      "<class 'pandas.core.frame.DataFrame'>\n",
      "RangeIndex: 2409892 entries, 0 to 2409891\n",
      "Data columns (total 8 columns):\n",
      " #   Column   Dtype  \n",
      "---  ------   -----  \n",
      " 0   지점       int64  \n",
      " 1   지점명      object \n",
      " 2   일시       object \n",
      " 3   기온(°C)   float64\n",
      " 4   풍향(deg)  float64\n",
      " 5   풍속(m/s)  float64\n",
      " 6   강수량(mm)  float64\n",
      " 7   습도(%)    float64\n",
      "dtypes: float64(5), int64(1), object(2)\n",
      "memory usage: 147.1+ MB\n"
     ]
    }
   ],
   "source": [
    "df.info()"
   ]
  },
  {
   "cell_type": "code",
   "execution_count": 4,
   "id": "ca0ea903",
   "metadata": {},
   "outputs": [
    {
     "name": "stdout",
     "output_type": "stream",
     "text": [
      "Index(['station_id', 'station_name', 'datetime', 'temperature',\n",
      "       'wind_direction', 'wind_speed', 'precipitation', 'humidity'],\n",
      "      dtype='object')\n"
     ]
    }
   ],
   "source": [
    "\n",
    "# 한글 → 영문 컬럼명 매핑\n",
    "column_mapping = {\n",
    "    '지점': 'station_id',\n",
    "    '지점명': 'station_name',\n",
    "    '일시': 'datetime',\n",
    "    '기온(°C)': 'temperature',\n",
    "    '풍향(deg)': 'wind_direction',\n",
    "    '풍속(m/s)': 'wind_speed',\n",
    "    '강수량(mm)': 'precipitation',\n",
    "    '습도(%)': 'humidity'\n",
    "}\n",
    "\n",
    "# 컬럼 이름 변경\n",
    "df.rename(columns=column_mapping, inplace=True)\n",
    "\n",
    "# 결과 확인\n",
    "print(df.columns)"
   ]
  },
  {
   "cell_type": "code",
   "execution_count": 5,
   "id": "daf33e1a",
   "metadata": {},
   "outputs": [
    {
     "name": "stdout",
     "output_type": "stream",
     "text": [
      "<class 'pandas.core.frame.DataFrame'>\n",
      "RangeIndex: 2409892 entries, 0 to 2409891\n",
      "Data columns (total 8 columns):\n",
      " #   Column          Dtype  \n",
      "---  ------          -----  \n",
      " 0   station_id      int64  \n",
      " 1   station_name    object \n",
      " 2   datetime        object \n",
      " 3   temperature     float64\n",
      " 4   wind_direction  float64\n",
      " 5   wind_speed      float64\n",
      " 6   precipitation   float64\n",
      " 7   humidity        float64\n",
      "dtypes: float64(5), int64(1), object(2)\n",
      "memory usage: 147.1+ MB\n"
     ]
    }
   ],
   "source": [
    "df.info()"
   ]
  },
  {
   "cell_type": "code",
   "execution_count": 22,
   "id": "2b831374",
   "metadata": {},
   "outputs": [
    {
     "data": {
      "text/html": [
       "<div>\n",
       "<style scoped>\n",
       "    .dataframe tbody tr th:only-of-type {\n",
       "        vertical-align: middle;\n",
       "    }\n",
       "\n",
       "    .dataframe tbody tr th {\n",
       "        vertical-align: top;\n",
       "    }\n",
       "\n",
       "    .dataframe thead th {\n",
       "        text-align: right;\n",
       "    }\n",
       "</style>\n",
       "<table border=\"1\" class=\"dataframe\">\n",
       "  <thead>\n",
       "    <tr style=\"text-align: right;\">\n",
       "      <th></th>\n",
       "      <th>station_id</th>\n",
       "      <th>station_name</th>\n",
       "      <th>datetime</th>\n",
       "      <th>temperature</th>\n",
       "      <th>wind_direction</th>\n",
       "      <th>wind_speed</th>\n",
       "      <th>precipitation</th>\n",
       "      <th>humidity</th>\n",
       "    </tr>\n",
       "  </thead>\n",
       "  <tbody>\n",
       "    <tr>\n",
       "      <th>0</th>\n",
       "      <td>400</td>\n",
       "      <td>강남</td>\n",
       "      <td>2015-01-01 01:00</td>\n",
       "      <td>-6.3</td>\n",
       "      <td>314.7</td>\n",
       "      <td>2.7</td>\n",
       "      <td>0.0</td>\n",
       "      <td>30.0</td>\n",
       "    </tr>\n",
       "    <tr>\n",
       "      <th>1</th>\n",
       "      <td>400</td>\n",
       "      <td>강남</td>\n",
       "      <td>2015-01-01 02:00</td>\n",
       "      <td>-6.9</td>\n",
       "      <td>295.6</td>\n",
       "      <td>3.0</td>\n",
       "      <td>0.0</td>\n",
       "      <td>33.0</td>\n",
       "    </tr>\n",
       "    <tr>\n",
       "      <th>2</th>\n",
       "      <td>400</td>\n",
       "      <td>강남</td>\n",
       "      <td>2015-01-01 03:00</td>\n",
       "      <td>-7.3</td>\n",
       "      <td>334.4</td>\n",
       "      <td>2.7</td>\n",
       "      <td>0.0</td>\n",
       "      <td>34.0</td>\n",
       "    </tr>\n",
       "    <tr>\n",
       "      <th>3</th>\n",
       "      <td>400</td>\n",
       "      <td>강남</td>\n",
       "      <td>2015-01-01 04:00</td>\n",
       "      <td>-7.7</td>\n",
       "      <td>320.1</td>\n",
       "      <td>2.9</td>\n",
       "      <td>0.0</td>\n",
       "      <td>33.0</td>\n",
       "    </tr>\n",
       "    <tr>\n",
       "      <th>4</th>\n",
       "      <td>400</td>\n",
       "      <td>강남</td>\n",
       "      <td>2015-01-01 05:00</td>\n",
       "      <td>-7.9</td>\n",
       "      <td>294.6</td>\n",
       "      <td>2.3</td>\n",
       "      <td>0.0</td>\n",
       "      <td>33.0</td>\n",
       "    </tr>\n",
       "  </tbody>\n",
       "</table>\n",
       "</div>"
      ],
      "text/plain": [
       "   station_id station_name          datetime  temperature  wind_direction  \\\n",
       "0         400           강남  2015-01-01 01:00         -6.3           314.7   \n",
       "1         400           강남  2015-01-01 02:00         -6.9           295.6   \n",
       "2         400           강남  2015-01-01 03:00         -7.3           334.4   \n",
       "3         400           강남  2015-01-01 04:00         -7.7           320.1   \n",
       "4         400           강남  2015-01-01 05:00         -7.9           294.6   \n",
       "\n",
       "   wind_speed  precipitation  humidity  \n",
       "0         2.7            0.0      30.0  \n",
       "1         3.0            0.0      33.0  \n",
       "2         2.7            0.0      34.0  \n",
       "3         2.9            0.0      33.0  \n",
       "4         2.3            0.0      33.0  "
      ]
     },
     "execution_count": 22,
     "metadata": {},
     "output_type": "execute_result"
    }
   ],
   "source": [
    "df.head()"
   ]
  },
  {
   "cell_type": "code",
   "execution_count": null,
   "id": "a433ded4",
   "metadata": {},
   "outputs": [],
   "source": [
    "!pip install sqlalchemy\n",
    "!pip install pymysql\n",
    "!pip install cryptography"
   ]
  },
  {
   "cell_type": "code",
   "execution_count": 6,
   "id": "ce367781",
   "metadata": {},
   "outputs": [],
   "source": [
    "import json\n",
    "from sqlalchemy import create_engine \n",
    "from sqlalchemy.exc import SQLAlchemyError\n",
    "import cryptography\n",
    "\n",
    "with open('db-config.json', 'r') as f:\n",
    "    config = json.load(f)\n",
    "\n",
    "user = config['user']\n",
    "password = config['password']\n",
    "host = config['host']\n",
    "port = config['port']\n",
    "database = config['database']\n",
    "\n",
    "df['datetime'] = pd.to_datetime(df['datetime'])  # datetime 형식으로 변환\n",
    "\n",
    "\n"
   ]
  },
  {
   "cell_type": "code",
   "execution_count": 7,
   "id": "68f43668",
   "metadata": {},
   "outputs": [
    {
     "name": "stdout",
     "output_type": "stream",
     "text": [
      "[Success] 데이터가 성공적으로 삽입되었습니다.\n"
     ]
    }
   ],
   "source": [
    "# SQLAlchemy 엔진 생성\n",
    "engine = create_engine(f\"mysql+pymysql://{user}:{password}@{host}:{port}/{database}\")\n",
    "conn = engine.connect()\n",
    "# 데이터 삽입 (예외처리 포함)\n",
    "try:\n",
    "    df.to_sql(name='weather', con=conn, if_exists='append', index=False)\n",
    "    print(\"[Success] 데이터가 성공적으로 삽입되었습니다.\")\n",
    "except SQLAlchemyError as e:\n",
    "    print(\"[Failure] 데이터 삽입 중 오류 발생:\", str(e))\n"
   ]
  }
 ],
 "metadata": {
  "kernelspec": {
   "display_name": "dlp",
   "language": "python",
   "name": "python3"
  },
  "language_info": {
   "codemirror_mode": {
    "name": "ipython",
    "version": 3
   },
   "file_extension": ".py",
   "mimetype": "text/x-python",
   "name": "python",
   "nbconvert_exporter": "python",
   "pygments_lexer": "ipython3",
   "version": "3.11.13"
  }
 },
 "nbformat": 4,
 "nbformat_minor": 5
}
