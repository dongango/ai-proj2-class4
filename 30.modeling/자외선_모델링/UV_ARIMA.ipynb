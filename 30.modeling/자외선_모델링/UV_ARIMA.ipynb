{
 "cells": [
  {
   "cell_type": "code",
   "execution_count": 9,
   "id": "8cd7f1fb",
   "metadata": {},
   "outputs": [],
   "source": [
    "import pandas as pd\n",
    "from sqlalchemy import create_engine\n",
    "import json\n",
    "\n",
    "# DB 접속 정보 로드\n",
    "with open('db-config.json') as f:\n",
    "    config = json.load(f)\n",
    "\n",
    "user = config['user']\n",
    "password = config['password']\n",
    "host = config['host']\n",
    "port = config['port']\n",
    "database = config['database']\n",
    "\n",
    "# SQLAlchemy 엔진 생성\n",
    "engine = create_engine(f\"mysql+pymysql://{user}:{password}@{host}:{port}/{database}?charset=utf8mb4\")"
   ]
  },
  {
   "cell_type": "code",
   "execution_count": null,
   "id": "5c47a976",
   "metadata": {},
   "outputs": [],
   "source": [
    "uv_dataset = pd.read_sql(\"SELECT * FROM uv_dataset\", con=engine)"
   ]
  },
  {
   "cell_type": "code",
   "execution_count": 11,
   "id": "bb461beb",
   "metadata": {},
   "outputs": [
    {
     "data": {
      "text/plain": [
       "Index(['datetime', 'region', 'no2', 'co', 'so2', 'o3', 'pm10', 'pm25',\n",
       "       'temperature', 'wind_direction', 'wind_speed', 'precipitation',\n",
       "       'humidity', 'uv_max'],\n",
       "      dtype='object')"
      ]
     },
     "execution_count": 11,
     "metadata": {},
     "output_type": "execute_result"
    }
   ],
   "source": [
    "uv_dataset.columns"
   ]
  },
  {
   "cell_type": "code",
   "execution_count": 12,
   "id": "fc701652",
   "metadata": {},
   "outputs": [
    {
     "name": "stdout",
     "output_type": "stream",
     "text": [
      "누락된 날짜 개수: 60\n",
      "누락된 날짜 예시:\n",
      "DatetimeIndex(['2015-12-02', '2015-12-03', '2015-12-04', '2015-12-05',\n",
      "               '2015-12-06', '2015-12-07', '2015-12-08', '2015-12-09',\n",
      "               '2015-12-10', '2015-12-11'],\n",
      "              dtype='datetime64[ns]', freq=None)\n"
     ]
    }
   ],
   "source": [
    "import pandas as pd\n",
    "\n",
    "# 1. 전체 날짜 생성 (2015.01.01 ~ 2024.12.31)\n",
    "full_dates = pd.date_range(start=\"2015-01-01\", end=\"2024-12-31\")\n",
    "\n",
    "# 2. uv_dataset의 datetime 컬럼을 datetime 형식으로 변환 (혹시 몰라서)\n",
    "uv_dataset['datetime'] = pd.to_datetime(uv_dataset['datetime'])\n",
    "\n",
    "# 3. 존재하는 날짜들만 추출\n",
    "existing_dates = pd.to_datetime(uv_dataset['datetime'].unique())\n",
    "\n",
    "# 4. 누락된 날짜 찾기 (차집합)\n",
    "missing_dates = full_dates.difference(existing_dates)\n",
    "\n",
    "# 5. 출력\n",
    "print(f\"누락된 날짜 개수: {len(missing_dates)}\")\n",
    "print(\"누락된 날짜 예시:\")\n",
    "print(missing_dates[:10])  # 상위 10개만 보기\n",
    "\n",
    "# 필요시 DataFrame으로 저장\n",
    "missing_df = pd.DataFrame(missing_dates, columns=[\"missing_date\"])"
   ]
  },
  {
   "cell_type": "code",
   "execution_count": 13,
   "id": "e014dedd",
   "metadata": {},
   "outputs": [
    {
     "name": "stdout",
     "output_type": "stream",
     "text": [
      "누락된 날짜 수: 60\n",
      "최종 행 개수: 3653\n"
     ]
    }
   ],
   "source": [
    "import pandas as pd\n",
    "import numpy as np\n",
    "\n",
    "# 1. 전체 날짜 생성\n",
    "full_dates = pd.date_range(start=\"2015-01-01\", end=\"2024-12-31\")\n",
    "full_dates_df = pd.DataFrame(full_dates, columns=['datetime'])\n",
    "\n",
    "# 2. datetime 형식 통일\n",
    "uv_dataset['datetime'] = pd.to_datetime(uv_dataset['datetime'])\n",
    "\n",
    "# 3. 누락된 날짜 찾기\n",
    "missing_dates = full_dates_df[~full_dates_df['datetime'].isin(uv_dataset['datetime'])].copy()\n",
    "print(f\"누락된 날짜 수: {len(missing_dates)}\")\n",
    "\n",
    "# 4. 연도별 평균값 계산 (datetime → year 추가)\n",
    "uv_dataset['year'] = uv_dataset['datetime'].dt.year\n",
    "grouped_means = uv_dataset.groupby('year').mean(numeric_only=True).round(2)\n",
    "\n",
    "# 5. 누락된 날짜에 해당 연도 붙이기\n",
    "missing_dates['year'] = missing_dates['datetime'].dt.year\n",
    "\n",
    "# 6. 연도별 평균값을 누락된 날짜에 매핑\n",
    "#    → year 기준으로 left join\n",
    "filled_missing = missing_dates.merge(grouped_means, how='left', left_on='year', right_index=True)\n",
    "\n",
    "# 7. 누락된 row에 region 채우기 (서울시라고 가정)\n",
    "filled_missing['region'] = '서울시'\n",
    "\n",
    "# 8. 컬럼 순서 맞추기 (원본 df 기준)\n",
    "filled_missing = filled_missing[uv_dataset.columns]\n",
    "\n",
    "# 9. year 컬럼 제거 (정리용, 혹시나 있으면)\n",
    "uv_dataset.drop(columns='year', inplace=True, errors='ignore')\n",
    "\n",
    "# 10. 원본 df와 합치기\n",
    "filled_df = pd.concat([uv_dataset, filled_missing], ignore_index=True)\n",
    "filled_df = filled_df.sort_values('datetime').reset_index(drop=True)\n",
    "\n",
    "# 확인\n",
    "print(\"최종 행 개수:\", len(filled_df))  # 3652일치면 3652개 나와야 함"
   ]
  },
  {
   "cell_type": "code",
   "execution_count": 14,
   "id": "04498332",
   "metadata": {},
   "outputs": [
    {
     "data": {
      "application/vnd.microsoft.datawrangler.viewer.v0+json": {
       "columns": [
        {
         "name": "index",
         "rawType": "int64",
         "type": "integer"
        },
        {
         "name": "datetime",
         "rawType": "datetime64[ns]",
         "type": "datetime"
        },
        {
         "name": "region",
         "rawType": "object",
         "type": "string"
        },
        {
         "name": "no2",
         "rawType": "float64",
         "type": "float"
        },
        {
         "name": "co",
         "rawType": "float64",
         "type": "float"
        },
        {
         "name": "so2",
         "rawType": "float64",
         "type": "float"
        },
        {
         "name": "o3",
         "rawType": "float64",
         "type": "float"
        },
        {
         "name": "pm10",
         "rawType": "float64",
         "type": "float"
        },
        {
         "name": "pm25",
         "rawType": "float64",
         "type": "float"
        },
        {
         "name": "temperature",
         "rawType": "float64",
         "type": "float"
        },
        {
         "name": "wind_direction",
         "rawType": "float64",
         "type": "float"
        },
        {
         "name": "wind_speed",
         "rawType": "float64",
         "type": "float"
        },
        {
         "name": "precipitation",
         "rawType": "float64",
         "type": "float"
        },
        {
         "name": "humidity",
         "rawType": "float64",
         "type": "float"
        },
        {
         "name": "uv_max",
         "rawType": "float64",
         "type": "float"
        },
        {
         "name": "year",
         "rawType": "float64",
         "type": "float"
        }
       ],
       "ref": "a94e5fc5-438c-45ac-96b0-f7a30a2f6650",
       "rows": [
        [
         "0",
         "2015-01-01 00:00:00",
         "서울시",
         "0.026",
         "0.8",
         "0.008",
         "0.032",
         "168.0",
         "42.0",
         "-3.8",
         "358.9",
         "8.3",
         "0.0",
         "71.0",
         "4.7",
         null
        ],
        [
         "1",
         "2015-01-02 00:00:00",
         "서울시",
         "0.048",
         "1.0",
         "0.009",
         "0.034",
         "57.0",
         "27.0",
         "-0.9",
         "359.6",
         "7.0",
         "0.0",
         "82.0",
         "4.7",
         null
        ],
        [
         "2",
         "2015-01-03 00:00:00",
         "서울시",
         "0.079",
         "1.6",
         "0.012",
         "0.02",
         "76.0",
         "50.0",
         "3.0",
         "359.8",
         "3.7",
         "0.0",
         "91.0",
         "4.7",
         null
        ],
        [
         "3",
         "2015-01-04 00:00:00",
         "서울시",
         "0.104",
         "2.7",
         "0.011",
         "0.027",
         "97.0",
         "53.0",
         "8.2",
         "359.3",
         "4.2",
         "0.0",
         "100.0",
         "4.7",
         null
        ],
        [
         "4",
         "2015-01-05 00:00:00",
         "서울시",
         "0.106",
         "2.6",
         "0.018",
         "0.028",
         "133.0",
         "77.0",
         "9.9",
         "359.3",
         "5.0",
         "0.0",
         "100.0",
         "4.7",
         null
        ],
        [
         "5",
         "2015-01-06 00:00:00",
         "서울시",
         "0.075",
         "1.6",
         "0.011",
         "0.04",
         "116.0",
         "69.0",
         "5.0",
         "359.6",
         "7.4",
         "1.0",
         "100.0",
         "4.7",
         null
        ],
        [
         "6",
         "2015-01-07 00:00:00",
         "서울시",
         "0.053",
         "1.0",
         "0.01",
         "0.038",
         "70.0",
         "30.0",
         "-0.6",
         "360.0",
         "5.1",
         "0.0",
         "70.0",
         "4.7",
         null
        ],
        [
         "7",
         "2015-01-08 00:00:00",
         "서울시",
         "0.074",
         "1.8",
         "0.01",
         "0.031",
         "82.0",
         "48.0",
         "0.5",
         "359.8",
         "3.9",
         "0.0",
         "88.0",
         "4.7",
         null
        ],
        [
         "8",
         "2015-01-09 00:00:00",
         "서울시",
         "0.089",
         "2.1",
         "0.014",
         "0.033",
         "86.0",
         "61.0",
         "3.4",
         "359.4",
         "4.1",
         "0.0",
         "92.0",
         "4.7",
         null
        ],
        [
         "9",
         "2015-01-10 00:00:00",
         "서울시",
         "0.083",
         "2.4",
         "0.016",
         "0.039",
         "96.0",
         "70.0",
         "5.4",
         "357.6",
         "4.4",
         "0.0",
         "96.0",
         "4.7",
         null
        ],
        [
         "10",
         "2015-01-11 00:00:00",
         "서울시",
         "0.067",
         "2.3",
         "0.014",
         "0.039",
         "76.0",
         "49.0",
         "3.9",
         "359.3",
         "8.1",
         "0.0",
         "100.0",
         "4.7",
         null
        ],
        [
         "11",
         "2015-01-12 00:00:00",
         "서울시",
         "0.082",
         "2.3",
         "0.012",
         "0.038",
         "107.0",
         "64.0",
         "3.1",
         "359.5",
         "4.1",
         "0.0",
         "81.0",
         "4.7",
         null
        ],
        [
         "12",
         "2015-01-13 00:00:00",
         "서울시",
         "0.112",
         "3.0",
         "0.016",
         "0.03",
         "118.0",
         "68.0",
         "6.5",
         "359.9",
         "4.1",
         "0.0",
         "89.0",
         "4.7",
         null
        ],
        [
         "13",
         "2015-01-14 00:00:00",
         "서울시",
         "0.112",
         "2.1",
         "0.018",
         "0.029",
         "138.0",
         "73.0",
         "6.4",
         "359.5",
         "3.7",
         "0.0",
         "84.0",
         "4.7",
         null
        ],
        [
         "14",
         "2015-01-15 00:00:00",
         "서울시",
         "0.1",
         "2.4",
         "0.016",
         "0.038",
         "108.0",
         "69.0",
         "8.6",
         "359.6",
         "4.6",
         "0.0",
         "92.0",
         "4.7",
         null
        ],
        [
         "15",
         "2015-01-16 00:00:00",
         "서울시",
         "0.09",
         "2.4",
         "0.012",
         "0.033",
         "128.0",
         "90.0",
         "4.6",
         "358.4",
         "7.0",
         "0.0",
         "100.0",
         "4.7",
         null
        ],
        [
         "16",
         "2015-01-17 00:00:00",
         "서울시",
         "0.062",
         "1.1",
         "0.011",
         "0.04",
         "109.0",
         "70.0",
         "0.6",
         "359.7",
         "6.4",
         "0.0",
         "80.0",
         "4.7",
         null
        ],
        [
         "17",
         "2015-01-18 00:00:00",
         "서울시",
         "0.068",
         "1.5",
         "0.011",
         "0.027",
         "65.0",
         "51.0",
         "3.0",
         "360.0",
         "4.6",
         "2.0",
         "100.0",
         "4.7",
         null
        ],
        [
         "18",
         "2015-01-19 00:00:00",
         "서울시",
         "0.061",
         "2.0",
         "0.015",
         "0.04",
         "118.0",
         "64.0",
         "3.9",
         "358.3",
         "5.7",
         "0.0",
         "100.0",
         "4.7",
         null
        ],
        [
         "19",
         "2015-01-20 00:00:00",
         "서울시",
         "0.082",
         "1.8",
         "0.012",
         "0.028",
         "95.0",
         "53.0",
         "4.5",
         "359.0",
         "4.6",
         "0.0",
         "95.0",
         "4.7",
         null
        ],
        [
         "20",
         "2015-01-21 00:00:00",
         "서울시",
         "0.094",
         "2.0",
         "0.013",
         "0.029",
         "112.0",
         "64.0",
         "6.8",
         "359.3",
         "5.4",
         "0.0",
         "93.0",
         "4.7",
         null
        ],
        [
         "21",
         "2015-01-22 00:00:00",
         "서울시",
         "0.083",
         "2.0",
         "0.012",
         "0.037",
         "101.0",
         "64.0",
         "8.0",
         "359.6",
         "4.3",
         "0.0",
         "96.0",
         "4.7",
         null
        ],
        [
         "22",
         "2015-01-23 00:00:00",
         "서울시",
         "0.076",
         "2.0",
         "0.015",
         "0.035",
         "98.0",
         "86.0",
         "5.1",
         "357.0",
         "4.6",
         "0.0",
         "99.0",
         "4.7",
         null
        ],
        [
         "23",
         "2015-01-24 00:00:00",
         "서울시",
         "0.087",
         "1.9",
         "0.013",
         "0.048",
         "103.0",
         "59.0",
         "8.5",
         "358.7",
         "3.8",
         "0.0",
         "96.0",
         "4.7",
         null
        ],
        [
         "24",
         "2015-01-25 00:00:00",
         "서울시",
         "0.086",
         "1.7",
         "0.011",
         "0.028",
         "95.0",
         "67.0",
         "5.8",
         "359.5",
         "5.6",
         "1.0",
         "100.0",
         "4.7",
         null
        ],
        [
         "25",
         "2015-01-26 00:00:00",
         "서울시",
         "0.055",
         "1.4",
         "0.01",
         "0.043",
         "95.0",
         "63.0",
         "13.4",
         "359.8",
         "5.7",
         "0.0",
         "100.0",
         "4.7",
         null
        ],
        [
         "26",
         "2015-01-27 00:00:00",
         "서울시",
         "0.043",
         "1.3",
         "0.011",
         "0.042",
         "80.0",
         "59.0",
         "1.9",
         "359.9",
         "6.0",
         "0.0",
         "93.0",
         "4.7",
         null
        ],
        [
         "27",
         "2015-01-28 00:00:00",
         "서울시",
         "0.077",
         "1.2",
         "0.01",
         "0.046",
         "82.0",
         "49.0",
         "2.7",
         "359.8",
         "4.3",
         "0.0",
         "86.0",
         "4.7",
         null
        ],
        [
         "28",
         "2015-01-29 00:00:00",
         "서울시",
         "0.077",
         "1.5",
         "0.011",
         "0.027",
         "107.0",
         "57.0",
         "3.5",
         "359.9",
         "4.8",
         "0.0",
         "92.0",
         "4.7",
         null
        ],
        [
         "29",
         "2015-01-30 00:00:00",
         "서울시",
         "0.061",
         "1.9",
         "0.012",
         "0.045",
         "88.0",
         "41.0",
         "2.0",
         "359.7",
         "6.3",
         "0.0",
         "85.0",
         "4.7",
         null
        ],
        [
         "30",
         "2015-01-31 00:00:00",
         "서울시",
         "0.063",
         "1.0",
         "0.01",
         "0.037",
         "77.0",
         "37.0",
         "1.0",
         "359.2",
         "4.2",
         "0.0",
         "90.0",
         "4.7",
         null
        ],
        [
         "31",
         "2015-02-01 00:00:00",
         "서울시",
         "0.069",
         "2.0",
         "0.014",
         "0.042",
         "98.0",
         "53.0",
         "5.4",
         "358.9",
         "4.2",
         "0.0",
         "90.0",
         "4.7",
         null
        ],
        [
         "32",
         "2015-02-02 00:00:00",
         "서울시",
         "0.094",
         "1.9",
         "0.015",
         "0.03",
         "103.0",
         "48.0",
         "5.6",
         "359.9",
         "3.8",
         "0.0",
         "90.0",
         "4.7",
         null
        ],
        [
         "33",
         "2015-02-03 00:00:00",
         "서울시",
         "0.093",
         "2.1",
         "0.014",
         "0.029",
         "112.0",
         "66.0",
         "13.4",
         "358.8",
         "3.7",
         "0.0",
         "92.0",
         "4.7",
         null
        ],
        [
         "34",
         "2015-02-04 00:00:00",
         "서울시",
         "0.094",
         "2.3",
         "0.016",
         "0.049",
         "166.0",
         "95.0",
         "5.7",
         "358.1",
         "4.7",
         "0.0",
         "97.0",
         "4.7",
         null
        ],
        [
         "35",
         "2015-02-05 00:00:00",
         "서울시",
         "0.075",
         "2.3",
         "0.018",
         "0.058",
         "154.0",
         "84.0",
         "5.7",
         "359.8",
         "4.9",
         "0.0",
         "98.0",
         "4.7",
         null
        ],
        [
         "36",
         "2015-02-06 00:00:00",
         "서울시",
         "0.083",
         "1.8",
         "0.015",
         "0.043",
         "112.0",
         "71.0",
         "13.4",
         "358.0",
         "3.6",
         "0.0",
         "94.0",
         "4.7",
         null
        ],
        [
         "37",
         "2015-02-07 00:00:00",
         "서울시",
         "0.081",
         "1.8",
         "0.018",
         "0.042",
         "90.0",
         "66.0",
         "13.4",
         "359.7",
         "6.2",
         "0.0",
         "97.0",
         "4.7",
         null
        ],
        [
         "38",
         "2015-02-08 00:00:00",
         "서울시",
         "0.026",
         "0.9",
         "0.008",
         "0.038",
         "189.0",
         "50.0",
         "-0.4",
         "359.5",
         "8.1",
         "0.0",
         "66.0",
         "4.7",
         null
        ],
        [
         "39",
         "2015-02-09 00:00:00",
         "서울시",
         "0.061",
         "1.5",
         "0.013",
         "0.033",
         "91.0",
         "50.0",
         "1.3",
         "358.1",
         "5.7",
         "0.0",
         "100.0",
         "4.7",
         null
        ],
        [
         "40",
         "2015-02-10 00:00:00",
         "서울시",
         "0.08",
         "2.3",
         "0.025",
         "0.034",
         "168.0",
         "86.0",
         "6.6",
         "357.1",
         "5.7",
         "0.0",
         "93.0",
         "4.7",
         null
        ],
        [
         "41",
         "2015-02-11 00:00:00",
         "서울시",
         "0.08",
         "2.1",
         "0.02",
         "0.048",
         "164.0",
         "100.0",
         "7.8",
         "359.3",
         "5.0",
         "0.0",
         "100.0",
         "4.7",
         null
        ],
        [
         "42",
         "2015-02-12 00:00:00",
         "서울시",
         "0.048",
         "0.9",
         "0.01",
         "0.045",
         "88.0",
         "34.0",
         "2.3",
         "358.8",
         "8.2",
         "0.0",
         "66.0",
         "4.7",
         null
        ],
        [
         "43",
         "2015-02-13 00:00:00",
         "서울시",
         "0.067",
         "1.1",
         "0.011",
         "0.049",
         "98.0",
         "35.0",
         "4.1",
         "359.8",
         "6.1",
         "0.0",
         "82.0",
         "4.7",
         null
        ],
        [
         "44",
         "2015-02-14 00:00:00",
         "서울시",
         "0.086",
         "1.6",
         "0.013",
         "0.046",
         "104.0",
         "58.0",
         "7.8",
         "359.0",
         "5.1",
         "0.0",
         "100.0",
         "4.7",
         null
        ],
        [
         "45",
         "2015-02-15 00:00:00",
         "서울시",
         "0.081",
         "2.0",
         "0.015",
         "0.056",
         "109.0",
         "66.0",
         "12.4",
         "356.5",
         "5.2",
         "0.0",
         "100.0",
         "4.7",
         null
        ],
        [
         "46",
         "2015-02-16 00:00:00",
         "서울시",
         "0.064",
         "1.4",
         "0.01",
         "0.05",
         "96.0",
         "57.0",
         "9.8",
         "357.3",
         "5.9",
         "2.0",
         "100.0",
         "4.7",
         null
        ],
        [
         "47",
         "2015-02-17 00:00:00",
         "서울시",
         "0.048",
         "1.3",
         "0.011",
         "0.043",
         "112.0",
         "72.0",
         "5.4",
         "359.0",
         "4.8",
         "0.0",
         "100.0",
         "4.7",
         null
        ],
        [
         "48",
         "2015-02-18 00:00:00",
         "서울시",
         "0.055",
         "1.2",
         "0.011",
         "0.042",
         "91.0",
         "63.0",
         "4.3",
         "359.8",
         "4.3",
         "0.0",
         "99.0",
         "4.7",
         null
        ],
        [
         "49",
         "2015-02-19 00:00:00",
         "서울시",
         "0.072",
         "1.7",
         "0.01",
         "0.049",
         "97.0",
         "64.0",
         "8.3",
         "359.4",
         "3.9",
         "0.0",
         "100.0",
         "4.7",
         null
        ]
       ],
       "shape": {
        "columns": 15,
        "rows": 3653
       }
      },
      "text/html": [
       "<div>\n",
       "<style scoped>\n",
       "    .dataframe tbody tr th:only-of-type {\n",
       "        vertical-align: middle;\n",
       "    }\n",
       "\n",
       "    .dataframe tbody tr th {\n",
       "        vertical-align: top;\n",
       "    }\n",
       "\n",
       "    .dataframe thead th {\n",
       "        text-align: right;\n",
       "    }\n",
       "</style>\n",
       "<table border=\"1\" class=\"dataframe\">\n",
       "  <thead>\n",
       "    <tr style=\"text-align: right;\">\n",
       "      <th></th>\n",
       "      <th>datetime</th>\n",
       "      <th>region</th>\n",
       "      <th>no2</th>\n",
       "      <th>co</th>\n",
       "      <th>so2</th>\n",
       "      <th>o3</th>\n",
       "      <th>pm10</th>\n",
       "      <th>pm25</th>\n",
       "      <th>temperature</th>\n",
       "      <th>wind_direction</th>\n",
       "      <th>wind_speed</th>\n",
       "      <th>precipitation</th>\n",
       "      <th>humidity</th>\n",
       "      <th>uv_max</th>\n",
       "      <th>year</th>\n",
       "    </tr>\n",
       "  </thead>\n",
       "  <tbody>\n",
       "    <tr>\n",
       "      <th>0</th>\n",
       "      <td>2015-01-01</td>\n",
       "      <td>서울시</td>\n",
       "      <td>0.026</td>\n",
       "      <td>0.8</td>\n",
       "      <td>0.008</td>\n",
       "      <td>0.032</td>\n",
       "      <td>168.0</td>\n",
       "      <td>42.0</td>\n",
       "      <td>-3.8</td>\n",
       "      <td>358.9</td>\n",
       "      <td>8.3</td>\n",
       "      <td>0.0</td>\n",
       "      <td>71.0</td>\n",
       "      <td>4.7</td>\n",
       "      <td>NaN</td>\n",
       "    </tr>\n",
       "    <tr>\n",
       "      <th>1</th>\n",
       "      <td>2015-01-02</td>\n",
       "      <td>서울시</td>\n",
       "      <td>0.048</td>\n",
       "      <td>1.0</td>\n",
       "      <td>0.009</td>\n",
       "      <td>0.034</td>\n",
       "      <td>57.0</td>\n",
       "      <td>27.0</td>\n",
       "      <td>-0.9</td>\n",
       "      <td>359.6</td>\n",
       "      <td>7.0</td>\n",
       "      <td>0.0</td>\n",
       "      <td>82.0</td>\n",
       "      <td>4.7</td>\n",
       "      <td>NaN</td>\n",
       "    </tr>\n",
       "    <tr>\n",
       "      <th>2</th>\n",
       "      <td>2015-01-03</td>\n",
       "      <td>서울시</td>\n",
       "      <td>0.079</td>\n",
       "      <td>1.6</td>\n",
       "      <td>0.012</td>\n",
       "      <td>0.020</td>\n",
       "      <td>76.0</td>\n",
       "      <td>50.0</td>\n",
       "      <td>3.0</td>\n",
       "      <td>359.8</td>\n",
       "      <td>3.7</td>\n",
       "      <td>0.0</td>\n",
       "      <td>91.0</td>\n",
       "      <td>4.7</td>\n",
       "      <td>NaN</td>\n",
       "    </tr>\n",
       "    <tr>\n",
       "      <th>3</th>\n",
       "      <td>2015-01-04</td>\n",
       "      <td>서울시</td>\n",
       "      <td>0.104</td>\n",
       "      <td>2.7</td>\n",
       "      <td>0.011</td>\n",
       "      <td>0.027</td>\n",
       "      <td>97.0</td>\n",
       "      <td>53.0</td>\n",
       "      <td>8.2</td>\n",
       "      <td>359.3</td>\n",
       "      <td>4.2</td>\n",
       "      <td>0.0</td>\n",
       "      <td>100.0</td>\n",
       "      <td>4.7</td>\n",
       "      <td>NaN</td>\n",
       "    </tr>\n",
       "    <tr>\n",
       "      <th>4</th>\n",
       "      <td>2015-01-05</td>\n",
       "      <td>서울시</td>\n",
       "      <td>0.106</td>\n",
       "      <td>2.6</td>\n",
       "      <td>0.018</td>\n",
       "      <td>0.028</td>\n",
       "      <td>133.0</td>\n",
       "      <td>77.0</td>\n",
       "      <td>9.9</td>\n",
       "      <td>359.3</td>\n",
       "      <td>5.0</td>\n",
       "      <td>0.0</td>\n",
       "      <td>100.0</td>\n",
       "      <td>4.7</td>\n",
       "      <td>NaN</td>\n",
       "    </tr>\n",
       "    <tr>\n",
       "      <th>...</th>\n",
       "      <td>...</td>\n",
       "      <td>...</td>\n",
       "      <td>...</td>\n",
       "      <td>...</td>\n",
       "      <td>...</td>\n",
       "      <td>...</td>\n",
       "      <td>...</td>\n",
       "      <td>...</td>\n",
       "      <td>...</td>\n",
       "      <td>...</td>\n",
       "      <td>...</td>\n",
       "      <td>...</td>\n",
       "      <td>...</td>\n",
       "      <td>...</td>\n",
       "      <td>...</td>\n",
       "    </tr>\n",
       "    <tr>\n",
       "      <th>3648</th>\n",
       "      <td>2024-12-27</td>\n",
       "      <td>서울시</td>\n",
       "      <td>0.046</td>\n",
       "      <td>0.8</td>\n",
       "      <td>0.007</td>\n",
       "      <td>0.043</td>\n",
       "      <td>45.0</td>\n",
       "      <td>24.0</td>\n",
       "      <td>2.7</td>\n",
       "      <td>357.4</td>\n",
       "      <td>7.0</td>\n",
       "      <td>0.0</td>\n",
       "      <td>80.0</td>\n",
       "      <td>3.3</td>\n",
       "      <td>NaN</td>\n",
       "    </tr>\n",
       "    <tr>\n",
       "      <th>3649</th>\n",
       "      <td>2024-12-28</td>\n",
       "      <td>서울시</td>\n",
       "      <td>0.037</td>\n",
       "      <td>0.8</td>\n",
       "      <td>0.008</td>\n",
       "      <td>0.041</td>\n",
       "      <td>47.0</td>\n",
       "      <td>23.0</td>\n",
       "      <td>1.2</td>\n",
       "      <td>358.6</td>\n",
       "      <td>6.7</td>\n",
       "      <td>0.0</td>\n",
       "      <td>72.0</td>\n",
       "      <td>3.5</td>\n",
       "      <td>NaN</td>\n",
       "    </tr>\n",
       "    <tr>\n",
       "      <th>3650</th>\n",
       "      <td>2024-12-29</td>\n",
       "      <td>서울시</td>\n",
       "      <td>0.054</td>\n",
       "      <td>1.1</td>\n",
       "      <td>0.009</td>\n",
       "      <td>0.037</td>\n",
       "      <td>41.0</td>\n",
       "      <td>30.0</td>\n",
       "      <td>6.6</td>\n",
       "      <td>359.7</td>\n",
       "      <td>3.4</td>\n",
       "      <td>0.0</td>\n",
       "      <td>87.0</td>\n",
       "      <td>3.5</td>\n",
       "      <td>NaN</td>\n",
       "    </tr>\n",
       "    <tr>\n",
       "      <th>3651</th>\n",
       "      <td>2024-12-30</td>\n",
       "      <td>서울시</td>\n",
       "      <td>0.058</td>\n",
       "      <td>1.3</td>\n",
       "      <td>0.008</td>\n",
       "      <td>0.052</td>\n",
       "      <td>95.0</td>\n",
       "      <td>59.0</td>\n",
       "      <td>10.3</td>\n",
       "      <td>359.5</td>\n",
       "      <td>6.5</td>\n",
       "      <td>0.0</td>\n",
       "      <td>91.0</td>\n",
       "      <td>3.0</td>\n",
       "      <td>NaN</td>\n",
       "    </tr>\n",
       "    <tr>\n",
       "      <th>3652</th>\n",
       "      <td>2024-12-31</td>\n",
       "      <td>서울시</td>\n",
       "      <td>0.040</td>\n",
       "      <td>0.8</td>\n",
       "      <td>0.004</td>\n",
       "      <td>0.037</td>\n",
       "      <td>106.0</td>\n",
       "      <td>60.0</td>\n",
       "      <td>5.9</td>\n",
       "      <td>344.0</td>\n",
       "      <td>4.5</td>\n",
       "      <td>0.0</td>\n",
       "      <td>88.0</td>\n",
       "      <td>3.5</td>\n",
       "      <td>NaN</td>\n",
       "    </tr>\n",
       "  </tbody>\n",
       "</table>\n",
       "<p>3653 rows × 15 columns</p>\n",
       "</div>"
      ],
      "text/plain": [
       "       datetime region    no2   co    so2     o3   pm10  pm25  temperature  \\\n",
       "0    2015-01-01    서울시  0.026  0.8  0.008  0.032  168.0  42.0         -3.8   \n",
       "1    2015-01-02    서울시  0.048  1.0  0.009  0.034   57.0  27.0         -0.9   \n",
       "2    2015-01-03    서울시  0.079  1.6  0.012  0.020   76.0  50.0          3.0   \n",
       "3    2015-01-04    서울시  0.104  2.7  0.011  0.027   97.0  53.0          8.2   \n",
       "4    2015-01-05    서울시  0.106  2.6  0.018  0.028  133.0  77.0          9.9   \n",
       "...         ...    ...    ...  ...    ...    ...    ...   ...          ...   \n",
       "3648 2024-12-27    서울시  0.046  0.8  0.007  0.043   45.0  24.0          2.7   \n",
       "3649 2024-12-28    서울시  0.037  0.8  0.008  0.041   47.0  23.0          1.2   \n",
       "3650 2024-12-29    서울시  0.054  1.1  0.009  0.037   41.0  30.0          6.6   \n",
       "3651 2024-12-30    서울시  0.058  1.3  0.008  0.052   95.0  59.0         10.3   \n",
       "3652 2024-12-31    서울시  0.040  0.8  0.004  0.037  106.0  60.0          5.9   \n",
       "\n",
       "      wind_direction  wind_speed  precipitation  humidity  uv_max  year  \n",
       "0              358.9         8.3            0.0      71.0     4.7   NaN  \n",
       "1              359.6         7.0            0.0      82.0     4.7   NaN  \n",
       "2              359.8         3.7            0.0      91.0     4.7   NaN  \n",
       "3              359.3         4.2            0.0     100.0     4.7   NaN  \n",
       "4              359.3         5.0            0.0     100.0     4.7   NaN  \n",
       "...              ...         ...            ...       ...     ...   ...  \n",
       "3648           357.4         7.0            0.0      80.0     3.3   NaN  \n",
       "3649           358.6         6.7            0.0      72.0     3.5   NaN  \n",
       "3650           359.7         3.4            0.0      87.0     3.5   NaN  \n",
       "3651           359.5         6.5            0.0      91.0     3.0   NaN  \n",
       "3652           344.0         4.5            0.0      88.0     3.5   NaN  \n",
       "\n",
       "[3653 rows x 15 columns]"
      ]
     },
     "execution_count": 14,
     "metadata": {},
     "output_type": "execute_result"
    }
   ],
   "source": [
    "filled_df"
   ]
  },
  {
   "cell_type": "code",
   "execution_count": 15,
   "id": "c6bc8349",
   "metadata": {},
   "outputs": [],
   "source": [
    "filled_df['datetime'] = pd.to_datetime(filled_df['datetime'])\n",
    "filled_df = filled_df.sort_values('datetime').reset_index(drop=True)\n",
    "filled_df.set_index('datetime', inplace=True)"
   ]
  },
  {
   "cell_type": "code",
   "execution_count": 17,
   "id": "d4f76e4f",
   "metadata": {},
   "outputs": [],
   "source": [
    "# 종속변수만 뽑기\n",
    "target = filled_df[['uv_max']]  # 예측 대상"
   ]
  },
  {
   "cell_type": "code",
   "execution_count": 18,
   "id": "d66d26b2",
   "metadata": {},
   "outputs": [],
   "source": [
    "train = target[:-365]  # 최근 1년 제외\n",
    "test = target[-365:]"
   ]
  },
  {
   "cell_type": "code",
   "execution_count": 19,
   "id": "6abf0c4f",
   "metadata": {},
   "outputs": [
    {
     "name": "stdout",
     "output_type": "stream",
     "text": [
      "ADF Statistic: -3.9742676960209287\n",
      "p-value: 0.001551411682271221\n"
     ]
    }
   ],
   "source": [
    "#차분확인\n",
    "from statsmodels.tsa.stattools import adfuller\n",
    "\n",
    "result = adfuller(train['uv_max'])\n",
    "print(f\"ADF Statistic: {result[0]}\")\n",
    "print(f\"p-value: {result[1]}\")  # 0.05 미만이면 정상성 → d = 0"
   ]
  },
  {
   "cell_type": "code",
   "execution_count": 20,
   "id": "65973bd7",
   "metadata": {},
   "outputs": [
    {
     "data": {
      "image/png": "[encoded data removed]",
      "text/plain": [
       "<Figure size 640x480 with 1 Axes>"
      ]
     },
     "metadata": {},
     "output_type": "display_data"
    },
    {
     "data": {
      "image/png": "[encoded data removed]",
      "text/plain": [
       "<Figure size 640x480 with 1 Axes>"
      ]
     },
     "metadata": {},
     "output_type": "display_data"
    }
   ],
   "source": [
    "from statsmodels.graphics.tsaplots import plot_acf, plot_pacf\n",
    "import matplotlib.pyplot as plt\n",
    "\n",
    "plot_acf(train['uv_max'], lags=30)\n",
    "plt.show()\n",
    "\n",
    "plot_pacf(train['uv_max'], lags=30)\n",
    "plt.show()"
   ]
  },
  {
   "cell_type": "code",
   "execution_count": 21,
   "id": "b2a35d24",
   "metadata": {},
   "outputs": [
    {
     "name": "stderr",
     "output_type": "stream",
     "text": [
      "c:\\ProgramData\\anaconda3\\Lib\\site-packages\\statsmodels\\tsa\\base\\tsa_model.py:473: ValueWarning: No frequency information was provided, so inferred frequency D will be used.\n",
      "  self._init_dates(dates, freq)\n",
      "c:\\ProgramData\\anaconda3\\Lib\\site-packages\\statsmodels\\tsa\\base\\tsa_model.py:473: ValueWarning: No frequency information was provided, so inferred frequency D will be used.\n",
      "  self._init_dates(dates, freq)\n",
      "c:\\ProgramData\\anaconda3\\Lib\\site-packages\\statsmodels\\tsa\\base\\tsa_model.py:473: ValueWarning: No frequency information was provided, so inferred frequency D will be used.\n",
      "  self._init_dates(dates, freq)\n",
      "c:\\ProgramData\\anaconda3\\Lib\\site-packages\\statsmodels\\tsa\\statespace\\sarimax.py:966: UserWarning: Non-stationary starting autoregressive parameters found. Using zeros as starting parameters.\n",
      "  warn('Non-stationary starting autoregressive parameters'\n"
     ]
    },
    {
     "name": "stdout",
     "output_type": "stream",
     "text": [
      "ARIMA RMSE: 2.64\n"
     ]
    }
   ],
   "source": [
    "from statsmodels.tsa.arima.model import ARIMA\n",
    "from sklearn.metrics import mean_squared_error\n",
    "from math import sqrt\n",
    "\n",
    "# ARIMA 모델 정의 및 학습\n",
    "model = ARIMA(train['uv_max'], order=(3, 0, 2))\n",
    "model_fit = model.fit()\n",
    "\n",
    "# 예측 (test 길이만큼)\n",
    "forecast = model_fit.forecast(steps=len(test))\n",
    "\n",
    "# 성능 평가\n",
    "rmse_arima = sqrt(mean_squared_error(test['uv_max'], forecast))\n",
    "print(f\"ARIMA RMSE: {rmse_arima:.2f}\")"
   ]
  },
  {
   "cell_type": "code",
   "execution_count": 22,
   "id": "16b519f3",
   "metadata": {},
   "outputs": [
    {
     "name": "stdout",
     "output_type": "stream",
     "text": [
      "Performing stepwise search to minimize aic\n",
      " ARIMA(0,0,0)(0,0,0)[0]             : AIC=19843.993, Time=0.05 sec\n",
      " ARIMA(1,0,0)(0,0,0)[0]             : AIC=12392.923, Time=0.14 sec\n",
      " ARIMA(0,0,1)(0,0,0)[0]             : AIC=16996.260, Time=0.45 sec\n",
      " ARIMA(2,0,0)(0,0,0)[0]             : AIC=11813.030, Time=0.24 sec\n",
      " ARIMA(3,0,0)(0,0,0)[0]             : AIC=11491.050, Time=0.32 sec\n",
      " ARIMA(4,0,0)(0,0,0)[0]             : AIC=inf, Time=0.47 sec\n",
      " ARIMA(3,0,1)(0,0,0)[0]             : AIC=10996.134, Time=1.09 sec\n",
      " ARIMA(2,0,1)(0,0,0)[0]             : AIC=11004.762, Time=0.90 sec\n",
      " ARIMA(4,0,1)(0,0,0)[0]             : AIC=10994.081, Time=1.19 sec\n",
      " ARIMA(5,0,1)(0,0,0)[0]             : AIC=10995.674, Time=1.67 sec\n",
      " ARIMA(4,0,2)(0,0,0)[0]             : AIC=10995.615, Time=1.37 sec\n",
      " ARIMA(3,0,2)(0,0,0)[0]             : AIC=11007.634, Time=1.19 sec\n",
      " ARIMA(5,0,0)(0,0,0)[0]             : AIC=inf, Time=0.41 sec\n",
      " ARIMA(5,0,2)(0,0,0)[0]             : AIC=10997.845, Time=1.24 sec\n",
      " ARIMA(4,0,1)(0,0,0)[0] intercept   : AIC=10980.403, Time=2.64 sec\n",
      " ARIMA(3,0,1)(0,0,0)[0] intercept   : AIC=10983.383, Time=3.93 sec\n",
      " ARIMA(4,0,0)(0,0,0)[0] intercept   : AIC=11199.801, Time=0.89 sec\n",
      " ARIMA(5,0,1)(0,0,0)[0] intercept   : AIC=10982.259, Time=3.77 sec\n",
      " ARIMA(4,0,2)(0,0,0)[0] intercept   : AIC=10982.192, Time=4.82 sec\n",
      " ARIMA(3,0,0)(0,0,0)[0] intercept   : AIC=11384.389, Time=0.74 sec\n",
      " ARIMA(3,0,2)(0,0,0)[0] intercept   : AIC=10996.420, Time=1.93 sec\n",
      " ARIMA(5,0,0)(0,0,0)[0] intercept   : AIC=11113.772, Time=1.02 sec\n",
      " ARIMA(5,0,2)(0,0,0)[0] intercept   : AIC=10984.403, Time=2.49 sec\n",
      "\n",
      "Best model:  ARIMA(4,0,1)(0,0,0)[0] intercept\n",
      "Total fit time: 32.994 seconds\n",
      "Auto ARIMA RMSE: 2.62\n"
     ]
    }
   ],
   "source": [
    "from pmdarima.arima import auto_arima\n",
    "\n",
    "auto_model = auto_arima(train['uv_max'],\n",
    "                        start_p=0, start_q=0,\n",
    "                        max_p=5, max_q=5,\n",
    "                        d=0, seasonal=False,\n",
    "                        stepwise=True, trace=True)\n",
    "\n",
    "auto_forecast = auto_model.predict(n_periods=len(test))\n",
    "rmse_auto = sqrt(mean_squared_error(test['uv_max'], auto_forecast))\n",
    "print(f\"Auto ARIMA RMSE: {rmse_auto:.2f}\")"
   ]
  },
  {
   "cell_type": "code",
   "execution_count": 25,
   "id": "7f2bd623",
   "metadata": {},
   "outputs": [
    {
     "data": {
      "image/png": "[encoded data removed]",
      "text/plain": [
       "<Figure size 1400x600 with 1 Axes>"
      ]
     },
     "metadata": {},
     "output_type": "display_data"
    }
   ],
   "source": [
    "#ARIMA(3,0,2) (4,0,1) test셋으로 비교\n",
    "\n",
    "import matplotlib.pyplot as plt\n",
    "\n",
    "# 예측 구간 인덱스\n",
    "forecast_index = test.index\n",
    "\n",
    "plt.figure(figsize=(14, 6))\n",
    "\n",
    "# 실제 값\n",
    "plt.plot(test.index, test['uv_max'], label='Actual (Test)', color='black')\n",
    "\n",
    "# 직접 설정한 ARIMA 예측값\n",
    "plt.plot(forecast_index, forecast, label='ARIMA (3,0,2)', color='green')\n",
    "\n",
    "# auto_arima 예측값\n",
    "plt.plot(forecast_index, auto_forecast, label='Auto ARIMA (4,0,1)', color='orange')\n",
    "\n",
    "plt.title(\"ARIMA vs Auto ARIMA Forecast Comparison\")\n",
    "plt.xlabel(\"Date\")\n",
    "plt.ylabel(\"UV Max\")\n",
    "plt.legend()\n",
    "plt.grid(True)\n",
    "plt.tight_layout()\n",
    "plt.show()"
   ]
  },
  {
   "cell_type": "code",
   "execution_count": 30,
   "id": "7cec26b2",
   "metadata": {},
   "outputs": [
    {
     "data": {
      "application/vnd.microsoft.datawrangler.viewer.v0+json": {
       "columns": [
        {
         "name": "index",
         "rawType": "datetime64[ns]",
         "type": "datetime"
        },
        {
         "name": "predicted_mean",
         "rawType": "float64",
         "type": "float"
        }
       ],
       "ref": "03ab6823-0207-4f5e-ae7d-7c0a65aa436e",
       "rows": [
        [
         "2015-01-01 00:00:00",
         "4.447590283149098"
        ],
        [
         "2015-01-02 00:00:00",
         "4.627989203090042"
        ],
        [
         "2015-01-03 00:00:00",
         "4.653161266290169"
        ],
        [
         "2015-01-04 00:00:00",
         "4.665224216353991"
        ],
        [
         "2015-01-05 00:00:00",
         "4.6716388868424765"
        ],
        [
         "2015-01-06 00:00:00",
         "4.6759879702328835"
        ],
        [
         "2015-01-07 00:00:00",
         "4.678739504550023"
        ],
        [
         "2015-01-08 00:00:00",
         "4.680872582859738"
        ],
        [
         "2015-01-09 00:00:00",
         "4.6823195839532605"
        ],
        [
         "2015-01-10 00:00:00",
         "4.683526188867689"
        ],
        [
         "2015-01-11 00:00:00",
         "4.684370707754247"
        ],
        [
         "2015-01-12 00:00:00",
         "4.685109331606952"
        ],
        [
         "2015-01-13 00:00:00",
         "4.685632645816311"
        ],
        [
         "2015-01-14 00:00:00",
         "4.686107017591636"
        ],
        [
         "2015-01-15 00:00:00",
         "4.68644337871158"
        ],
        [
         "2015-01-16 00:00:00",
         "4.686757586073938"
        ],
        [
         "2015-01-17 00:00:00",
         "4.686978820088499"
        ],
        [
         "2015-01-18 00:00:00",
         "4.6871912847038075"
        ],
        [
         "2015-01-19 00:00:00",
         "4.687338937601253"
        ],
        [
         "2015-01-20 00:00:00",
         "4.687484672717858"
        ],
        [
         "2015-01-21 00:00:00",
         "4.68758411879989"
        ],
        [
         "2015-01-22 00:00:00",
         "4.687685107536057"
        ],
        [
         "2015-01-23 00:00:00",
         "4.687752446019605"
        ],
        [
         "2015-01-24 00:00:00",
         "4.687822956695893"
        ],
        [
         "2015-01-25 00:00:00",
         "4.687868677526316"
        ],
        [
         "2015-01-26 00:00:00",
         "4.687918194342855"
        ],
        [
         "2015-01-27 00:00:00",
         "4.687949259743271"
        ],
        [
         "2015-01-28 00:00:00",
         "4.687984195921641"
        ],
        [
         "2015-01-29 00:00:00",
         "4.688005285294966"
        ],
        [
         "2015-01-30 00:00:00",
         "4.688030031703972"
        ],
        [
         "2015-01-31 00:00:00",
         "4.688044316666012"
        ],
        [
         "2015-02-01 00:00:00",
         "4.688061907079692"
        ],
        [
         "2015-02-02 00:00:00",
         "4.688071548881081"
        ],
        [
         "2015-02-03 00:00:00",
         "4.688084093732074"
        ],
        [
         "2015-02-04 00:00:00",
         "4.68809056979664"
        ],
        [
         "2015-02-05 00:00:00",
         "4.688099544877236"
        ],
        [
         "2015-02-06 00:00:00",
         "4.688103866702564"
        ],
        [
         "2015-02-07 00:00:00",
         "4.688110308295406"
        ],
        [
         "2015-02-08 00:00:00",
         "4.688113168559694"
        ],
        [
         "2015-02-09 00:00:00",
         "4.688117806834973"
        ],
        [
         "2015-02-10 00:00:00",
         "4.688119679513324"
        ],
        [
         "2015-02-11 00:00:00",
         "4.688123030496121"
        ],
        [
         "2015-02-12 00:00:00",
         "4.68812423936522"
        ],
        [
         "2015-02-13 00:00:00",
         "4.688126668741392"
        ],
        [
         "2015-02-14 00:00:00",
         "4.688127434415068"
        ],
        [
         "2015-02-15 00:00:00",
         "4.688129202011903"
        ],
        [
         "2015-02-16 00:00:00",
         "4.688129674299688"
        ],
        [
         "2015-02-17 00:00:00",
         "4.6881309652107985"
        ],
        [
         "2015-02-18 00:00:00",
         "4.6881312453986625"
        ],
        [
         "2015-02-19 00:00:00",
         "4.6881321918294825"
        ]
       ],
       "shape": {
        "columns": 1,
        "rows": 3288
       }
      },
      "text/plain": [
       "2015-01-01    4.447590\n",
       "2015-01-02    4.627989\n",
       "2015-01-03    4.653161\n",
       "2015-01-04    4.665224\n",
       "2015-01-05    4.671639\n",
       "                ...   \n",
       "2023-12-28    3.824767\n",
       "2023-12-29    3.820529\n",
       "2023-12-30    3.546362\n",
       "2023-12-31    2.907598\n",
       "2024-01-01    3.247996\n",
       "Freq: D, Name: predicted_mean, Length: 3288, dtype: float64"
      ]
     },
     "execution_count": 30,
     "metadata": {},
     "output_type": "execute_result"
    }
   ],
   "source": [
    "# train 기간에 대한 인샘플 예측\n",
    "train_pred = model_fit.predict(start=train.index[0], end=train.index[-1])\n",
    "train_pred"
   ]
  },
  {
   "cell_type": "code",
   "execution_count": 35,
   "id": "e4fa5238",
   "metadata": {},
   "outputs": [
    {
     "data": {
      "image/png": "[encoded data removed]",
      "text/plain": [
       "<Figure size 1400x600 with 1 Axes>"
      ]
     },
     "metadata": {},
     "output_type": "display_data"
    }
   ],
   "source": [
    "import matplotlib.pyplot as plt\n",
    "import pandas as pd\n",
    "\n",
    "# train+test 실제 값 concat (index datetime 형식 가정)\n",
    "actual_all = pd.concat([train['uv_max'], test['uv_max']])\n",
    "\n",
    "# 미래 예측 (예: 150일) — 변수는 직접 조정하세요\n",
    "future_steps = 150\n",
    "last_date = test.index[-1]\n",
    "future_index = pd.date_range(start=last_date + pd.Timedelta(days=1), periods=future_steps, freq='D')\n",
    "\n",
    "# ARIMA 모델로 미래 예측\n",
    "arima_forecast_future = model_fit.get_forecast(steps=future_steps)\n",
    "arima_pred_future = arima_forecast_future.predicted_mean\n",
    "arima_pred_future.index = future_index\n",
    "\n",
    "plt.figure(figsize=(14, 6))\n",
    "\n",
    "# train 실제값 (파란색)\n",
    "plt.plot(train.index, train['uv_max'], label='Train Actual', color='blue')\n",
    "\n",
    "# test 실제값 (빨간색)\n",
    "plt.plot(test.index, test['uv_max'], label='Test Actual', color='red')\n",
    "\n",
    "# test 기간 예측값 (녹색, 점선)\n",
    "plt.plot(test.index, forecast, label='Test Forecast', color='green', linestyle='--')\n",
    "\n",
    "# 미래 예측 (녹색, 점선 스타일 다르게)\n",
    "plt.plot(future_index, arima_pred_future, label=f'Future Forecast ({future_steps} days)', color='green', linestyle=':')\n",
    "\n",
    "plt.title(\"ARIMA Model: Train/Test Actual & Forecast with Future Prediction\")\n",
    "plt.xlabel(\"Date\")\n",
    "plt.ylabel(\"UV Max\")\n",
    "plt.legend()\n",
    "plt.grid(True)\n",
    "plt.tight_layout()\n",
    "plt.show()"
   ]
  },
  {
   "cell_type": "code",
   "execution_count": 36,
   "id": "ca6aa9e8",
   "metadata": {},
   "outputs": [
    {
     "name": "stdout",
     "output_type": "stream",
     "text": [
      "                               SARIMAX Results                                \n",
      "==============================================================================\n",
      "Dep. Variable:                 uv_max   No. Observations:                 3288\n",
      "Model:                 ARIMA(3, 0, 2)   Log Likelihood               -5491.173\n",
      "Date:                    수, 02 7 2025   AIC                          10996.347\n",
      "Time:                        03:41:50   BIC                          11039.033\n",
      "Sample:                    01-01-2015   HQIC                         11011.630\n",
      "                         - 01-01-2024                                         \n",
      "Covariance Type:                  opg                                         \n",
      "==============================================================================\n",
      "                 coef    std err          z      P>|z|      [0.025      0.975]\n",
      "------------------------------------------------------------------------------\n",
      "const          4.4476      0.574      7.748      0.000       3.323       5.573\n",
      "ar.L1          0.1902      0.188      1.014      0.310      -0.177       0.558\n",
      "ar.L2          0.8675      0.209      4.154      0.000       0.458       1.277\n",
      "ar.L3         -0.0724      0.028     -2.565      0.010      -0.128      -0.017\n",
      "ma.L1          0.0556      0.186      0.298      0.765      -0.310       0.421\n",
      "ma.L2         -0.7453      0.159     -4.695      0.000      -1.056      -0.434\n",
      "sigma2         1.6515      0.029     56.005      0.000       1.594       1.709\n",
      "===================================================================================\n",
      "Ljung-Box (L1) (Q):                   0.04   Jarque-Bera (JB):              1150.41\n",
      "Prob(Q):                              0.84   Prob(JB):                         0.00\n",
      "Heteroskedasticity (H):               1.20   Skew:                            -0.64\n",
      "Prob(H) (two-sided):                  0.00   Kurtosis:                         5.60\n",
      "===================================================================================\n",
      "\n",
      "Warnings:\n",
      "[1] Covariance matrix calculated using the outer product of gradients (complex-step).\n"
     ]
    }
   ],
   "source": [
    "print(model_fit.summary())"
   ]
  },
  {
   "cell_type": "code",
   "execution_count": null,
   "id": "655bddd3",
   "metadata": {},
   "outputs": [
    {
     "name": "stderr",
     "output_type": "stream",
     "text": [
      "C:\\Users\\user\\AppData\\Local\\Temp\\ipykernel_21880\\730993574.py:6: FutureWarning: Series.fillna with 'method' is deprecated and will raise in a future version. Use obj.ffill() or obj.bfill() instead.\n",
      "  data = seoul_uv['uv_max'].fillna(method='ffill').values.reshape(-1, 1)\n"
     ]
    }
   ],
   "source": [
    "#LSTM\n",
    "from sklearn.preprocessing import MinMaxScaler\n",
    "import numpy as np\n",
    "\n",
    "# 자외선 최대치만 사용\n",
    "data = seoul_uv['uv_max'].fillna(method='ffill').values.reshape(-1, 1)\n",
    "\n",
    "# Min-Max 정규화\n",
    "scaler = MinMaxScaler()\n",
    "data_scaled = scaler.fit_transform(data)\n",
    "\n",
    "# 슬라이딩 윈도우 설정\n",
    "INPUT_LEN = 40  # 과거 40일\n",
    "OUTPUT_LEN = 10  # 예측 10일"
   ]
  },
  {
   "cell_type": "code",
   "execution_count": null,
   "id": "a031dcbf",
   "metadata": {},
   "outputs": [],
   "source": [
    "X, y = [], []\n",
    "\n",
    "for i in range(len(data_scaled) - INPUT_LEN - OUTPUT_LEN + 1):\n",
    "    x_seq = data_scaled[i : i + INPUT_LEN]\n",
    "    y_seq = data_scaled[i + INPUT_LEN : i + INPUT_LEN + OUTPUT_LEN]\n",
    "    X.append(x_seq)\n",
    "    y.append(y_seq)\n",
    "\n",
    "X = np.array(X)\n",
    "y = np.array(y)"
   ]
  },
  {
   "cell_type": "code",
   "execution_count": null,
   "id": "f8d2dd65",
   "metadata": {},
   "outputs": [
    {
     "data": {
      "text/plain": [
       "(3593, 3544, 3544)"
      ]
     },
     "execution_count": 52,
     "metadata": {},
     "output_type": "execute_result"
    }
   ],
   "source": [
    "len(data_scaled), len(X), len(y)"
   ]
  },
  {
   "cell_type": "code",
   "execution_count": null,
   "id": "99cecf03",
   "metadata": {},
   "outputs": [
    {
     "name": "stdout",
     "output_type": "stream",
     "text": [
      "X_train.shape: (3543, 40, 1)\n",
      "y_train.shape: (3543, 10, 1)\n",
      "X_test.shape : (1, 40, 1)\n",
      "y_test.shape : (1, 10, 1)\n"
     ]
    }
   ],
   "source": [
    "# 맨 마지막 샘플 하나만 테스트로 사용\n",
    "X_train = X[:-1]\n",
    "y_train = y[:-1]\n",
    "X_test = X[-1:]\n",
    "y_test = y[-1:]\n",
    "\n",
    "print(\"X_train.shape:\", X_train.shape)\n",
    "print(\"y_train.shape:\", y_train.shape)\n",
    "print(\"X_test.shape :\", X_test.shape)\n",
    "print(\"y_test.shape :\", y_test.shape)"
   ]
  },
  {
   "cell_type": "code",
   "execution_count": null,
   "id": "241495c1",
   "metadata": {},
   "outputs": [
    {
     "name": "stdout",
     "output_type": "stream",
     "text": [
      "0 0\n",
      "0 0\n"
     ]
    }
   ],
   "source": [
    "print(np.isnan(X_train).sum(), np.isnan(y_train).sum())\n",
    "print(np.isinf(X_train).sum(), np.isinf(y_train).sum())"
   ]
  },
  {
   "cell_type": "code",
   "execution_count": null,
   "id": "1a2ebb0a",
   "metadata": {},
   "outputs": [],
   "source": [
    "import tensorflow as tf\n",
    "from tensorflow.keras.models import Sequential\n",
    "from tensorflow.keras.layers import LSTM, Dense\n",
    "from math import sqrt\n",
    "from sklearn.metrics import mean_squared_error\n",
    "\n",
    "# 하이퍼파라미터\n",
    "input_len = X_train.shape[1]\n",
    "output_len = y_train.shape[1]\n",
    "feature_dim = X_train.shape[2]\n",
    "\n",
    "# 모델 정의\n",
    "lstm_model = Sequential([\n",
    "    LSTM(64, activation='tanh', return_sequences=False, input_shape=(input_len, feature_dim)),\n",
    "    Dense(32, activation='relu'),\n",
    "    Dense(output_len)\n",
    "])\n",
    "\n",
    "# 학습\n",
    "lstm_model.compile(optimizer='adam', loss='mse')\n",
    "history = lstm_model.fit(X_train, y_train, epochs=100, batch_size=16, validation_split=0.1, verbose=1)"
   ]
  },
  {
   "cell_type": "code",
   "execution_count": null,
   "id": "c6f99e5a",
   "metadata": {},
   "outputs": [],
   "source": [
    "# 예측\n",
    "lstm_pred = lstm_model.predict(X_test)\n",
    "\n",
    "# RMSE\n",
    "lstm_rmse = sqrt(mean_squared_error(y_test.flatten(), lstm_pred.flatten()))\n",
    "print(f\"LSTM RMSE: {lstm_rmse:.2f}\")"
   ]
  },
  {
   "cell_type": "code",
   "execution_count": null,
   "id": "1fb56ef8",
   "metadata": {},
   "outputs": [],
   "source": [
    "import matplotlib.pyplot as plt\n",
    "import pandas as pd\n",
    "\n",
    "# === ARIMA 시각화 ===\n",
    "plt.figure(figsize=(14, 6))\n",
    "\n",
    "# ARIMA용 데이터\n",
    "plt.plot(train.index, train['uv_max'], label='Train')\n",
    "plt.plot(test.index, test['uv_max'], label='Test (Actual)', color='orange')\n",
    "plt.plot(pd.date_range(seoul_uv.index[-1]+pd.Timedelta(days=1), periods=n_periods), forecast, label='ARIMA Forecast', color='green')\n",
    "\n",
    "plt.title(f\"ARIMA Forecast vs Actual (RMSE = {rmse_311:.2f})\")\n",
    "plt.xlabel('Date')\n",
    "plt.ylabel('UV Max')\n",
    "plt.legend()\n",
    "plt.grid(True)\n",
    "plt.tight_layout()\n",
    "plt.show()\n",
    "\n",
    "\n",
    "# === LSTM 시각화 ===\n",
    "\n",
    "# 학습 데이터 시각화용 (정규화 전 데이터 사용)\n",
    "train_dates = seoul_uv.index[:len(X_train)]\n",
    "train_values = scaler.inverse_transform(X_train.reshape(X_train.shape[0], X_train.shape[1]))[:, -1]  # 마지막 step만\n",
    "\n",
    "# 예측 구간: 2025-01-01 ~ 약 10일치 예측\n",
    "lstm_forecast_dates = pd.date_range(start='2025-01-01', periods=10, freq='D')\n",
    "\n",
    "# 예측값: 정규화 해제\n",
    "y_actual_unscaled = scaler.inverse_transform(y_test.reshape(-1, 1)).flatten()\n",
    "y_pred_unscaled = scaler.inverse_transform(lstm_pred.reshape(-1, 1)).flatten()\n",
    "\n",
    "plt.figure(figsize=(14, 6))\n",
    "plt.plot(train_dates, train_values, label='Train')\n",
    "plt.plot(lstm_forecast_dates, y_actual_unscaled, label='Actual (Next 10)', color='orange')\n",
    "plt.plot(lstm_forecast_dates, y_pred_unscaled, label='LSTM Forecast', color='green')\n",
    "\n",
    "plt.title(f\"LSTM Forecast (Next 10 Days) - RMSE: {lstm_rmse:.2f}\")\n",
    "plt.xlabel('Date')\n",
    "plt.ylabel('UV Max')\n",
    "plt.legend()\n",
    "plt.grid(True)\n",
    "plt.tight_layout()\n",
    "plt.show()"
   ]
  }
 ],
 "metadata": {
  "kernelspec": {
   "display_name": "base",
   "language": "python",
   "name": "python3"
  },
  "language_info": {
   "codemirror_mode": {
    "name": "ipython",
    "version": 3
   },
   "file_extension": ".py",
   "mimetype": "text/x-python",
   "name": "python",
   "nbconvert_exporter": "python",
   "pygments_lexer": "ipython3",
   "version": "3.12.7"
  }
 },
 "nbformat": 4,
 "nbformat_minor": 5
}
