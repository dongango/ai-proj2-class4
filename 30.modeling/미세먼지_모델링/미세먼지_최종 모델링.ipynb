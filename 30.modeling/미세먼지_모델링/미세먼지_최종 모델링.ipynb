{
 "cells": [
  {
   "cell_type": "code",
   "execution_count": 25,
   "id": "60d459f9",
   "metadata": {},
   "outputs": [],
   "source": [
    "import pandas as pd\n",
    "import matplotlib.pyplot as plt\n",
    "import seaborn as sns"
   ]
  },
  {
   "cell_type": "code",
   "execution_count": 26,
   "id": "4683aa71",
   "metadata": {},
   "outputs": [],
   "source": [
    "import pandas as pd\n",
    "import numpy as np\n",
    "import matplotlib.pyplot as plt\n",
    "from sklearn.preprocessing import MinMaxScaler\n",
    "from sklearn.preprocessing import RobustScaler\n",
    "from tensorflow.keras.models import Sequential\n",
    "from tensorflow.keras.layers import LSTM, Dense, Input\n",
    "from tensorflow.keras.callbacks import EarlyStopping\n",
    "from datetime import datetime, timezone\n",
    "from sklearn.metrics import mean_squared_error\n",
    "import tensorflow as tf\n",
    "import io\n",
    "import h5py\n",
    "import tempfile\n",
    "from datetime import datetime\n",
    "\n",
    "from tensorflow.keras.models import Sequential, load_model\n",
    "from tensorflow.keras.layers import LSTM, Dense, Input\n",
    "from sqlalchemy import create_engine, MetaData, Table, Column, Float\n",
    "from sqlalchemy import Integer, String, Text, DateTime, LargeBinary\n",
    "import json\n",
    "from sqlalchemy import create_engine \n",
    "from sqlalchemy.exc import SQLAlchemyError\n",
    "import cryptography\n",
    "plt.rcParams['font.family'] = 'MALGUN GOTHIC'\n",
    "plt.rcParams['axes.unicode_minus'] = False"
   ]
  },
  {
   "cell_type": "code",
   "execution_count": 27,
   "id": "6f1178a4",
   "metadata": {},
   "outputs": [],
   "source": [
    "import pandas as pd\n",
    "import numpy as np\n",
    "from sqlalchemy import create_engine\n",
    "import json\n",
    "\n",
    "# 접속 정보 로딩 (옵션: db-config.json 파일이 있을 경우)\n",
    "path = './db-config.json'\n",
    "\n",
    "with open(path) as f:\n",
    "    config = json.load(f)\n",
    "\n",
    "user = config['user']\n",
    "password = config['password']\n",
    "host = config['host']\n",
    "port = config['port']\n",
    "database = config['database']\n",
    "\n",
    "# SQLAlchemy 엔진 생성\n",
    "engine = create_engine(f\"mysql+pymysql://{user}:{password}@{host}:{port}/{database}?charset=utf8mb4\")\n",
    "\n",
    "# air_pollution_dataset 테이블 데이터 읽어오기\n",
    "query = \"SELECT * FROM air_pollution_dataset\"\n",
    "df = pd.read_sql(query, con=engine)"
   ]
  },
  {
   "cell_type": "code",
   "execution_count": 29,
   "id": "8f15bc6f",
   "metadata": {},
   "outputs": [
    {
     "data": {
      "text/html": [
       "<div>\n",
       "<style scoped>\n",
       "    .dataframe tbody tr th:only-of-type {\n",
       "        vertical-align: middle;\n",
       "    }\n",
       "\n",
       "    .dataframe tbody tr th {\n",
       "        vertical-align: top;\n",
       "    }\n",
       "\n",
       "    .dataframe thead th {\n",
       "        text-align: right;\n",
       "    }\n",
       "</style>\n",
       "<table border=\"1\" class=\"dataframe\">\n",
       "  <thead>\n",
       "    <tr style=\"text-align: right;\">\n",
       "      <th></th>\n",
       "      <th>datetime</th>\n",
       "      <th>region</th>\n",
       "      <th>pm10</th>\n",
       "      <th>pm25</th>\n",
       "    </tr>\n",
       "  </thead>\n",
       "  <tbody>\n",
       "    <tr>\n",
       "      <th>0</th>\n",
       "      <td>2017-01-01 01:00:00</td>\n",
       "      <td>강남구</td>\n",
       "      <td>63.0</td>\n",
       "      <td>48.0</td>\n",
       "    </tr>\n",
       "    <tr>\n",
       "      <th>1</th>\n",
       "      <td>2017-01-01 01:00:00</td>\n",
       "      <td>강동구</td>\n",
       "      <td>68.0</td>\n",
       "      <td>53.0</td>\n",
       "    </tr>\n",
       "    <tr>\n",
       "      <th>2</th>\n",
       "      <td>2017-01-01 01:00:00</td>\n",
       "      <td>강북구</td>\n",
       "      <td>63.0</td>\n",
       "      <td>51.0</td>\n",
       "    </tr>\n",
       "    <tr>\n",
       "      <th>3</th>\n",
       "      <td>2017-01-01 01:00:00</td>\n",
       "      <td>강서구</td>\n",
       "      <td>107.0</td>\n",
       "      <td>65.0</td>\n",
       "    </tr>\n",
       "    <tr>\n",
       "      <th>4</th>\n",
       "      <td>2017-01-01 01:00:00</td>\n",
       "      <td>관악구</td>\n",
       "      <td>75.0</td>\n",
       "      <td>57.0</td>\n",
       "    </tr>\n",
       "    <tr>\n",
       "      <th>...</th>\n",
       "      <td>...</td>\n",
       "      <td>...</td>\n",
       "      <td>...</td>\n",
       "      <td>...</td>\n",
       "    </tr>\n",
       "    <tr>\n",
       "      <th>1401619</th>\n",
       "      <td>2023-12-31 00:00:00</td>\n",
       "      <td>영등포구</td>\n",
       "      <td>40.0</td>\n",
       "      <td>34.0</td>\n",
       "    </tr>\n",
       "    <tr>\n",
       "      <th>1401620</th>\n",
       "      <td>2023-12-31 00:00:00</td>\n",
       "      <td>용산구</td>\n",
       "      <td>31.0</td>\n",
       "      <td>18.0</td>\n",
       "    </tr>\n",
       "    <tr>\n",
       "      <th>1401621</th>\n",
       "      <td>2023-12-31 00:00:00</td>\n",
       "      <td>은평구</td>\n",
       "      <td>40.0</td>\n",
       "      <td>25.0</td>\n",
       "    </tr>\n",
       "    <tr>\n",
       "      <th>1401622</th>\n",
       "      <td>2023-12-31 00:00:00</td>\n",
       "      <td>중구</td>\n",
       "      <td>30.0</td>\n",
       "      <td>27.0</td>\n",
       "    </tr>\n",
       "    <tr>\n",
       "      <th>1401623</th>\n",
       "      <td>2023-12-31 00:00:00</td>\n",
       "      <td>중랑구</td>\n",
       "      <td>29.0</td>\n",
       "      <td>23.0</td>\n",
       "    </tr>\n",
       "  </tbody>\n",
       "</table>\n",
       "<p>1401624 rows × 4 columns</p>\n",
       "</div>"
      ],
      "text/plain": [
       "                    datetime region   pm10  pm25\n",
       "0        2017-01-01 01:00:00    강남구   63.0  48.0\n",
       "1        2017-01-01 01:00:00    강동구   68.0  53.0\n",
       "2        2017-01-01 01:00:00    강북구   63.0  51.0\n",
       "3        2017-01-01 01:00:00    강서구  107.0  65.0\n",
       "4        2017-01-01 01:00:00    관악구   75.0  57.0\n",
       "...                      ...    ...    ...   ...\n",
       "1401619  2023-12-31 00:00:00   영등포구   40.0  34.0\n",
       "1401620  2023-12-31 00:00:00    용산구   31.0  18.0\n",
       "1401621  2023-12-31 00:00:00    은평구   40.0  25.0\n",
       "1401622  2023-12-31 00:00:00     중구   30.0  27.0\n",
       "1401623  2023-12-31 00:00:00    중랑구   29.0  23.0\n",
       "\n",
       "[1401624 rows x 4 columns]"
      ]
     },
     "execution_count": 29,
     "metadata": {},
     "output_type": "execute_result"
    }
   ],
   "source": [
    "df = df[['datetime', 'region', 'pm10','pm25']]\n",
    "df"
   ]
  },
  {
   "cell_type": "code",
   "execution_count": 30,
   "id": "5a56fccb",
   "metadata": {},
   "outputs": [],
   "source": [
    "metadata = MetaData()\n",
    "models_table = Table(\n",
    "    \"models\", metadata,\n",
    "    Column(\"id\", Integer, primary_key=True),\n",
    "    Column(\"name\", String(100)),\n",
    "    Column(\"type\", String(100)),\n",
    "    Column(\"version\", String(50)),\n",
    "    Column(\"description\", Text),\n",
    "    Column(\"created_at\", DateTime, default=datetime.utcnow),\n",
    "    Column(\"data\", LargeBinary)\n",
    ")\n",
    "\n",
    "\n",
    "air_quality_day_pred_table = Table(\n",
    "    \"air_quality_day_pred\", metadata,\n",
    "    Column(\"id\", Integer, primary_key=True, autoincrement=True),\n",
    "    Column(\"datetime\", DateTime),\n",
    "    Column(\"region\", String(50)),\n",
    "    Column(\"pm10\", Float),\n",
    "    Column(\"pm25\", Float)\n",
    ")\n",
    "metadata.create_all(engine)"
   ]
  },
  {
   "cell_type": "code",
   "execution_count": 33,
   "id": "8b13112f",
   "metadata": {},
   "outputs": [],
   "source": [
    "def create_sequences(data, window_size=48):\n",
    "    X, y = [], []\n",
    "    for i in range(len(data) - window_size):\n",
    "        X.append(data[i:i + window_size])\n",
    "        y.append(data[i + window_size, 0])\n",
    "    return np.array(X), np.array(y)\n"
   ]
  },
  {
   "cell_type": "code",
   "execution_count": 34,
   "id": "853eabf6",
   "metadata": {},
   "outputs": [],
   "source": [
    "def prepare_series(df, region, pollutant):\n",
    "    df = df.copy()\n",
    "    df['datetime'] = pd.to_datetime(df['datetime'])\n",
    "    df = df[df['region'] == region]\n",
    "    df.set_index('datetime', inplace=True)\n",
    "    series = df[pollutant].resample('D').mean().interpolate(method='spline', order=3)\n",
    "    return series.dropna()\n"
   ]
  },
  {
   "cell_type": "code",
   "execution_count": 35,
   "id": "36b5ca40",
   "metadata": {},
   "outputs": [],
   "source": [
    "from tensorflow.keras.models import Sequential\n",
    "from tensorflow.keras.layers import LSTM, Dense, Input\n",
    "from tensorflow.keras.callbacks import EarlyStopping\n",
    "from sklearn.preprocessing import RobustScaler\n",
    "\n",
    "def train_lstm_model(series, window_size=48):\n",
    "    scaler = RobustScaler()\n",
    "    scaled = scaler.fit_transform(series.values.reshape(-1, 1))\n",
    "\n",
    "    X, y = create_sequences(scaled, window_size)\n",
    "    split = int(len(X) * 0.8)\n",
    "    X_train, y_train = X[:split], y[:split]\n",
    "\n",
    "    model = Sequential([\n",
    "        Input(shape=(window_size, 1)),\n",
    "        LSTM(64, return_sequences=True),\n",
    "        LSTM(32),\n",
    "        Dense(1, activation='tanh')\n",
    "    ])\n",
    "    model.compile(optimizer='adam', loss='mse')\n",
    "    early_stop = EarlyStopping(monitor='val_loss', patience=5, restore_best_weights=True)\n",
    "    model.fit(X_train, y_train, epochs=50, batch_size=32, validation_split=0.1, callbacks=[early_stop], verbose=0)\n",
    "\n",
    "    return model, scaler, scaled"
   ]
  },
  {
   "cell_type": "code",
   "execution_count": 36,
   "id": "03cbd65c",
   "metadata": {},
   "outputs": [],
   "source": [
    "import tempfile\n",
    "from datetime import datetime, timezone\n",
    "\n",
    "def save_model_to_db(model, region, pollutant, description=\"단변량 LSTM 예측\"):\n",
    "    with tempfile.NamedTemporaryFile(suffix=\".h5\", delete=False) as tmp:\n",
    "        model.save(tmp.name)\n",
    "        tmp.seek(0)\n",
    "        model_binary = tmp.read()\n",
    "\n",
    "    with engine.connect() as conn:\n",
    "        try:\n",
    "            insert_stmt = models_table.insert().values(\n",
    "                name=f\"{region}_{pollutant}_predict_model\",\n",
    "                type=\"LSTM\",\n",
    "                version=\"v2.0\",\n",
    "                description=f\"{region} - {pollutant}: {description}\",\n",
    "                created_at=datetime.now(timezone.utc),\n",
    "                data=model_binary\n",
    "            )\n",
    "            conn.execute(insert_stmt)\n",
    "            conn.commit()\n",
    "            print(f\"[{region} - {pollutant}] 모델 저장 완료 ✅\")\n",
    "        except Exception as e:\n",
    "            print(f\"[{region} - {pollutant}] 모델 저장 실패 ❌: {e}\")\n"
   ]
  },
  {
   "cell_type": "code",
   "execution_count": 37,
   "id": "f0666866",
   "metadata": {},
   "outputs": [],
   "source": [
    "def forecast_future(model, scaler, series, scaled, days=30, window_size=48):\n",
    "    last_seq = scaled[-window_size:].reshape(1, window_size, 1)\n",
    "    future_scaled = []\n",
    "\n",
    "    for _ in range(days):\n",
    "        next_pred = model.predict(last_seq, verbose=0)[0][0]\n",
    "        future_scaled.append([next_pred])\n",
    "        last_seq = np.append(last_seq[:, 1:, :], [[[next_pred]]], axis=1)\n",
    "\n",
    "    padded = np.hstack([np.array(future_scaled), np.zeros((days, 0))])\n",
    "    future_inv = scaler.inverse_transform(padded)[:, 0]\n",
    "    \n",
    "    today = pd.Timestamp('2025-07-03')\n",
    "    future_dates = pd.date_range(start=today + pd.Timedelta(days=1), periods=days)\n",
    "    return pd.DataFrame({'datetime': future_dates, 'predicted_value': future_inv})\n"
   ]
  },
  {
   "cell_type": "code",
   "execution_count": 38,
   "id": "cae45dce",
   "metadata": {},
   "outputs": [],
   "source": [
    "from sqlalchemy.dialects.mysql import insert\n",
    "\n",
    "def save_forecast_to_db(pm10_df, pm25_df, region):\n",
    "    if pm10_df is None or pm25_df is None:\n",
    "        print(f\"[{region}] 예측 결과 없음. 저장 생략.\")\n",
    "        return\n",
    "\n",
    "    df = pm10_df.merge(pm25_df, on='datetime', suffixes=('_pm10', '_pm25')).copy()\n",
    "    df = df.rename(columns={\n",
    "        'predicted_value_pm10': 'pm10',\n",
    "        'predicted_value_pm25': 'pm25'\n",
    "    })\n",
    "    df['region'] = region\n",
    "\n",
    "    records = df[['datetime', 'region', 'pm10', 'pm25']].to_dict(orient='records')\n",
    "\n",
    "    with engine.connect() as conn:\n",
    "        try:\n",
    "            for record in records:\n",
    "                stmt = insert(air_quality_day_pred_table).values(**record)\n",
    "                upsert = stmt.on_duplicate_key_update(\n",
    "                    pm10=stmt.inserted.pm10,\n",
    "                    pm25=stmt.inserted.pm25\n",
    "                )\n",
    "                conn.execute(upsert)\n",
    "            conn.commit()\n",
    "            print(f\"[{region}] 예측 {len(records)}건 저장 완료 ✅\")\n",
    "        except Exception as e:\n",
    "            print(f\"[{region}] 예측 저장 오류 ❌: {e}\")\n"
   ]
  },
  {
   "cell_type": "code",
   "execution_count": 39,
   "id": "c6ba5ef4",
   "metadata": {},
   "outputs": [
    {
     "name": "stdout",
     "output_type": "stream",
     "text": [
      "\n",
      "📍 강남구 처리 시작\n"
     ]
    },
    {
     "name": "stderr",
     "output_type": "stream",
     "text": [
      "E0000 00:00:1751545598.250543 25706283 meta_optimizer.cc:967] PluggableGraphOptimizer failed: INVALID_ARGUMENT: Failed to deserialize the `graph_buf`.\n",
      "E0000 00:00:1751545669.474099 25706283 meta_optimizer.cc:967] PluggableGraphOptimizer failed: INVALID_ARGUMENT: Failed to deserialize the `graph_buf`.\n",
      "WARNING:absl:You are saving your model as an HDF5 file via `model.save()` or `keras.saving.save_model(model)`. This file format is considered legacy. We recommend using instead the native Keras format, e.g. `model.save('my_model.keras')` or `keras.saving.save_model(model, 'my_model.keras')`. \n",
      "WARNING:absl:You are saving your model as an HDF5 file via `model.save()` or `keras.saving.save_model(model)`. This file format is considered legacy. We recommend using instead the native Keras format, e.g. `model.save('my_model.keras')` or `keras.saving.save_model(model, 'my_model.keras')`. \n"
     ]
    },
    {
     "name": "stdout",
     "output_type": "stream",
     "text": [
      "[강남구 - pm10] 모델 저장 완료 ✅\n",
      "[강남구 - pm25] 모델 저장 완료 ✅\n",
      "[강남구] 예측 30건 저장 완료 ✅\n",
      "\n",
      "📍 강동구 처리 시작\n"
     ]
    },
    {
     "name": "stderr",
     "output_type": "stream",
     "text": [
      "E0000 00:00:1751545732.660038 25706283 meta_optimizer.cc:967] PluggableGraphOptimizer failed: INVALID_ARGUMENT: Failed to deserialize the `graph_buf`.\n",
      "WARNING:absl:You are saving your model as an HDF5 file via `model.save()` or `keras.saving.save_model(model)`. This file format is considered legacy. We recommend using instead the native Keras format, e.g. `model.save('my_model.keras')` or `keras.saving.save_model(model, 'my_model.keras')`. \n",
      "WARNING:absl:You are saving your model as an HDF5 file via `model.save()` or `keras.saving.save_model(model)`. This file format is considered legacy. We recommend using instead the native Keras format, e.g. `model.save('my_model.keras')` or `keras.saving.save_model(model, 'my_model.keras')`. \n"
     ]
    },
    {
     "name": "stdout",
     "output_type": "stream",
     "text": [
      "[강동구 - pm10] 모델 저장 완료 ✅\n",
      "[강동구 - pm25] 모델 저장 완료 ✅\n",
      "[강동구] 예측 30건 저장 완료 ✅\n",
      "\n",
      "📍 강북구 처리 시작\n"
     ]
    },
    {
     "name": "stderr",
     "output_type": "stream",
     "text": [
      "E0000 00:00:1751545807.014897 25706283 meta_optimizer.cc:967] PluggableGraphOptimizer failed: INVALID_ARGUMENT: Failed to deserialize the `graph_buf`.\n",
      "WARNING:absl:You are saving your model as an HDF5 file via `model.save()` or `keras.saving.save_model(model)`. This file format is considered legacy. We recommend using instead the native Keras format, e.g. `model.save('my_model.keras')` or `keras.saving.save_model(model, 'my_model.keras')`. \n",
      "WARNING:absl:You are saving your model as an HDF5 file via `model.save()` or `keras.saving.save_model(model)`. This file format is considered legacy. We recommend using instead the native Keras format, e.g. `model.save('my_model.keras')` or `keras.saving.save_model(model, 'my_model.keras')`. \n"
     ]
    },
    {
     "name": "stdout",
     "output_type": "stream",
     "text": [
      "[강북구 - pm10] 모델 저장 완료 ✅\n",
      "[강북구 - pm25] 모델 저장 완료 ✅\n"
     ]
    },
    {
     "name": "stderr",
     "output_type": "stream",
     "text": [
      "E0000 00:00:1751545867.599590 25706283 meta_optimizer.cc:967] PluggableGraphOptimizer failed: INVALID_ARGUMENT: Failed to deserialize the `graph_buf`.\n"
     ]
    },
    {
     "name": "stdout",
     "output_type": "stream",
     "text": [
      "[강북구] 예측 30건 저장 완료 ✅\n",
      "\n",
      "📍 강서구 처리 시작\n"
     ]
    },
    {
     "name": "stderr",
     "output_type": "stream",
     "text": [
      "E0000 00:00:1751545945.808724 25706283 meta_optimizer.cc:967] PluggableGraphOptimizer failed: INVALID_ARGUMENT: Failed to deserialize the `graph_buf`.\n",
      "WARNING:absl:You are saving your model as an HDF5 file via `model.save()` or `keras.saving.save_model(model)`. This file format is considered legacy. We recommend using instead the native Keras format, e.g. `model.save('my_model.keras')` or `keras.saving.save_model(model, 'my_model.keras')`. \n",
      "WARNING:absl:You are saving your model as an HDF5 file via `model.save()` or `keras.saving.save_model(model)`. This file format is considered legacy. We recommend using instead the native Keras format, e.g. `model.save('my_model.keras')` or `keras.saving.save_model(model, 'my_model.keras')`. \n"
     ]
    },
    {
     "name": "stdout",
     "output_type": "stream",
     "text": [
      "[강서구 - pm10] 모델 저장 완료 ✅\n",
      "[강서구 - pm25] 모델 저장 완료 ✅\n",
      "[강서구] 예측 30건 저장 완료 ✅\n",
      "\n",
      "📍 관악구 처리 시작\n"
     ]
    },
    {
     "name": "stderr",
     "output_type": "stream",
     "text": [
      "E0000 00:00:1751546022.048361 25706283 meta_optimizer.cc:967] PluggableGraphOptimizer failed: INVALID_ARGUMENT: Failed to deserialize the `graph_buf`.\n",
      "WARNING:absl:You are saving your model as an HDF5 file via `model.save()` or `keras.saving.save_model(model)`. This file format is considered legacy. We recommend using instead the native Keras format, e.g. `model.save('my_model.keras')` or `keras.saving.save_model(model, 'my_model.keras')`. \n",
      "WARNING:absl:You are saving your model as an HDF5 file via `model.save()` or `keras.saving.save_model(model)`. This file format is considered legacy. We recommend using instead the native Keras format, e.g. `model.save('my_model.keras')` or `keras.saving.save_model(model, 'my_model.keras')`. \n"
     ]
    },
    {
     "name": "stdout",
     "output_type": "stream",
     "text": [
      "[관악구 - pm10] 모델 저장 완료 ✅\n",
      "[관악구 - pm25] 모델 저장 완료 ✅\n",
      "[관악구] 예측 30건 저장 완료 ✅\n",
      "\n",
      "📍 광진구 처리 시작\n"
     ]
    },
    {
     "name": "stderr",
     "output_type": "stream",
     "text": [
      "E0000 00:00:1751546101.687164 25706283 meta_optimizer.cc:967] PluggableGraphOptimizer failed: INVALID_ARGUMENT: Failed to deserialize the `graph_buf`.\n",
      "WARNING:absl:You are saving your model as an HDF5 file via `model.save()` or `keras.saving.save_model(model)`. This file format is considered legacy. We recommend using instead the native Keras format, e.g. `model.save('my_model.keras')` or `keras.saving.save_model(model, 'my_model.keras')`. \n",
      "WARNING:absl:You are saving your model as an HDF5 file via `model.save()` or `keras.saving.save_model(model)`. This file format is considered legacy. We recommend using instead the native Keras format, e.g. `model.save('my_model.keras')` or `keras.saving.save_model(model, 'my_model.keras')`. \n"
     ]
    },
    {
     "name": "stdout",
     "output_type": "stream",
     "text": [
      "[광진구 - pm10] 모델 저장 완료 ✅\n",
      "[광진구 - pm25] 모델 저장 완료 ✅\n"
     ]
    },
    {
     "name": "stderr",
     "output_type": "stream",
     "text": [
      "E0000 00:00:1751546168.136395 25706283 meta_optimizer.cc:967] PluggableGraphOptimizer failed: INVALID_ARGUMENT: Failed to deserialize the `graph_buf`.\n"
     ]
    },
    {
     "name": "stdout",
     "output_type": "stream",
     "text": [
      "[광진구] 예측 30건 저장 완료 ✅\n",
      "\n",
      "📍 구로구 처리 시작\n"
     ]
    },
    {
     "name": "stderr",
     "output_type": "stream",
     "text": [
      "E0000 00:00:1751546254.770662 25706283 meta_optimizer.cc:967] PluggableGraphOptimizer failed: INVALID_ARGUMENT: Failed to deserialize the `graph_buf`.\n",
      "WARNING:absl:You are saving your model as an HDF5 file via `model.save()` or `keras.saving.save_model(model)`. This file format is considered legacy. We recommend using instead the native Keras format, e.g. `model.save('my_model.keras')` or `keras.saving.save_model(model, 'my_model.keras')`. \n",
      "WARNING:absl:You are saving your model as an HDF5 file via `model.save()` or `keras.saving.save_model(model)`. This file format is considered legacy. We recommend using instead the native Keras format, e.g. `model.save('my_model.keras')` or `keras.saving.save_model(model, 'my_model.keras')`. \n"
     ]
    },
    {
     "name": "stdout",
     "output_type": "stream",
     "text": [
      "[구로구 - pm10] 모델 저장 완료 ✅\n",
      "[구로구 - pm25] 모델 저장 완료 ✅\n",
      "[구로구] 예측 30건 저장 완료 ✅\n",
      "\n",
      "📍 금천구 처리 시작\n"
     ]
    },
    {
     "name": "stderr",
     "output_type": "stream",
     "text": [
      "E0000 00:00:1751546339.266835 25706283 meta_optimizer.cc:967] PluggableGraphOptimizer failed: INVALID_ARGUMENT: Failed to deserialize the `graph_buf`.\n",
      "WARNING:absl:You are saving your model as an HDF5 file via `model.save()` or `keras.saving.save_model(model)`. This file format is considered legacy. We recommend using instead the native Keras format, e.g. `model.save('my_model.keras')` or `keras.saving.save_model(model, 'my_model.keras')`. \n",
      "WARNING:absl:You are saving your model as an HDF5 file via `model.save()` or `keras.saving.save_model(model)`. This file format is considered legacy. We recommend using instead the native Keras format, e.g. `model.save('my_model.keras')` or `keras.saving.save_model(model, 'my_model.keras')`. \n"
     ]
    },
    {
     "name": "stdout",
     "output_type": "stream",
     "text": [
      "[금천구 - pm10] 모델 저장 완료 ✅\n",
      "[금천구 - pm25] 모델 저장 완료 ✅\n"
     ]
    },
    {
     "name": "stderr",
     "output_type": "stream",
     "text": [
      "E0000 00:00:1751546417.356113 25706283 meta_optimizer.cc:967] PluggableGraphOptimizer failed: INVALID_ARGUMENT: Failed to deserialize the `graph_buf`.\n"
     ]
    },
    {
     "name": "stdout",
     "output_type": "stream",
     "text": [
      "[금천구] 예측 30건 저장 완료 ✅\n",
      "\n",
      "📍 노원구 처리 시작\n"
     ]
    },
    {
     "name": "stderr",
     "output_type": "stream",
     "text": [
      "E0000 00:00:1751546500.492598 25706283 meta_optimizer.cc:967] PluggableGraphOptimizer failed: INVALID_ARGUMENT: Failed to deserialize the `graph_buf`.\n",
      "WARNING:absl:You are saving your model as an HDF5 file via `model.save()` or `keras.saving.save_model(model)`. This file format is considered legacy. We recommend using instead the native Keras format, e.g. `model.save('my_model.keras')` or `keras.saving.save_model(model, 'my_model.keras')`. \n",
      "WARNING:absl:You are saving your model as an HDF5 file via `model.save()` or `keras.saving.save_model(model)`. This file format is considered legacy. We recommend using instead the native Keras format, e.g. `model.save('my_model.keras')` or `keras.saving.save_model(model, 'my_model.keras')`. \n"
     ]
    },
    {
     "name": "stdout",
     "output_type": "stream",
     "text": [
      "[노원구 - pm10] 모델 저장 완료 ✅\n",
      "[노원구 - pm25] 모델 저장 완료 ✅\n",
      "[노원구] 예측 30건 저장 완료 ✅\n",
      "\n",
      "📍 도봉구 처리 시작\n"
     ]
    },
    {
     "name": "stderr",
     "output_type": "stream",
     "text": [
      "E0000 00:00:1751546564.687706 25706283 meta_optimizer.cc:967] PluggableGraphOptimizer failed: INVALID_ARGUMENT: Failed to deserialize the `graph_buf`.\n",
      "WARNING:absl:You are saving your model as an HDF5 file via `model.save()` or `keras.saving.save_model(model)`. This file format is considered legacy. We recommend using instead the native Keras format, e.g. `model.save('my_model.keras')` or `keras.saving.save_model(model, 'my_model.keras')`. \n",
      "WARNING:absl:You are saving your model as an HDF5 file via `model.save()` or `keras.saving.save_model(model)`. This file format is considered legacy. We recommend using instead the native Keras format, e.g. `model.save('my_model.keras')` or `keras.saving.save_model(model, 'my_model.keras')`. \n"
     ]
    },
    {
     "name": "stdout",
     "output_type": "stream",
     "text": [
      "[도봉구 - pm10] 모델 저장 완료 ✅\n",
      "[도봉구 - pm25] 모델 저장 완료 ✅\n",
      "[도봉구] 예측 30건 저장 완료 ✅\n",
      "\n",
      "📍 동대문구 처리 시작\n"
     ]
    },
    {
     "name": "stderr",
     "output_type": "stream",
     "text": [
      "E0000 00:00:1751546646.500529 25706283 meta_optimizer.cc:967] PluggableGraphOptimizer failed: INVALID_ARGUMENT: Failed to deserialize the `graph_buf`.\n",
      "WARNING:absl:You are saving your model as an HDF5 file via `model.save()` or `keras.saving.save_model(model)`. This file format is considered legacy. We recommend using instead the native Keras format, e.g. `model.save('my_model.keras')` or `keras.saving.save_model(model, 'my_model.keras')`. \n",
      "WARNING:absl:You are saving your model as an HDF5 file via `model.save()` or `keras.saving.save_model(model)`. This file format is considered legacy. We recommend using instead the native Keras format, e.g. `model.save('my_model.keras')` or `keras.saving.save_model(model, 'my_model.keras')`. \n"
     ]
    },
    {
     "name": "stdout",
     "output_type": "stream",
     "text": [
      "[동대문구 - pm10] 모델 저장 완료 ✅\n",
      "[동대문구 - pm25] 모델 저장 완료 ✅\n"
     ]
    },
    {
     "name": "stderr",
     "output_type": "stream",
     "text": [
      "E0000 00:00:1751546709.404602 25706283 meta_optimizer.cc:967] PluggableGraphOptimizer failed: INVALID_ARGUMENT: Failed to deserialize the `graph_buf`.\n"
     ]
    },
    {
     "name": "stdout",
     "output_type": "stream",
     "text": [
      "[동대문구] 예측 30건 저장 완료 ✅\n",
      "\n",
      "📍 동작구 처리 시작\n"
     ]
    },
    {
     "name": "stderr",
     "output_type": "stream",
     "text": [
      "E0000 00:00:1751546791.406457 25706283 meta_optimizer.cc:967] PluggableGraphOptimizer failed: INVALID_ARGUMENT: Failed to deserialize the `graph_buf`.\n",
      "WARNING:absl:You are saving your model as an HDF5 file via `model.save()` or `keras.saving.save_model(model)`. This file format is considered legacy. We recommend using instead the native Keras format, e.g. `model.save('my_model.keras')` or `keras.saving.save_model(model, 'my_model.keras')`. \n",
      "WARNING:absl:You are saving your model as an HDF5 file via `model.save()` or `keras.saving.save_model(model)`. This file format is considered legacy. We recommend using instead the native Keras format, e.g. `model.save('my_model.keras')` or `keras.saving.save_model(model, 'my_model.keras')`. \n"
     ]
    },
    {
     "name": "stdout",
     "output_type": "stream",
     "text": [
      "[동작구 - pm10] 모델 저장 완료 ✅\n",
      "[동작구 - pm25] 모델 저장 완료 ✅\n",
      "[동작구] 예측 30건 저장 완료 ✅\n",
      "\n",
      "📍 마포구 처리 시작\n"
     ]
    },
    {
     "name": "stderr",
     "output_type": "stream",
     "text": [
      "E0000 00:00:1751546871.918393 25706283 meta_optimizer.cc:967] PluggableGraphOptimizer failed: INVALID_ARGUMENT: Failed to deserialize the `graph_buf`.\n",
      "WARNING:absl:You are saving your model as an HDF5 file via `model.save()` or `keras.saving.save_model(model)`. This file format is considered legacy. We recommend using instead the native Keras format, e.g. `model.save('my_model.keras')` or `keras.saving.save_model(model, 'my_model.keras')`. \n",
      "WARNING:absl:You are saving your model as an HDF5 file via `model.save()` or `keras.saving.save_model(model)`. This file format is considered legacy. We recommend using instead the native Keras format, e.g. `model.save('my_model.keras')` or `keras.saving.save_model(model, 'my_model.keras')`. \n"
     ]
    },
    {
     "name": "stdout",
     "output_type": "stream",
     "text": [
      "[마포구 - pm10] 모델 저장 완료 ✅\n",
      "[마포구 - pm25] 모델 저장 완료 ✅\n",
      "[마포구] 예측 30건 저장 완료 ✅\n",
      "\n",
      "📍 서대문구 처리 시작\n"
     ]
    },
    {
     "name": "stderr",
     "output_type": "stream",
     "text": [
      "E0000 00:00:1751546958.658175 25706283 meta_optimizer.cc:967] PluggableGraphOptimizer failed: INVALID_ARGUMENT: Failed to deserialize the `graph_buf`.\n",
      "WARNING:absl:You are saving your model as an HDF5 file via `model.save()` or `keras.saving.save_model(model)`. This file format is considered legacy. We recommend using instead the native Keras format, e.g. `model.save('my_model.keras')` or `keras.saving.save_model(model, 'my_model.keras')`. \n",
      "WARNING:absl:You are saving your model as an HDF5 file via `model.save()` or `keras.saving.save_model(model)`. This file format is considered legacy. We recommend using instead the native Keras format, e.g. `model.save('my_model.keras')` or `keras.saving.save_model(model, 'my_model.keras')`. \n"
     ]
    },
    {
     "name": "stdout",
     "output_type": "stream",
     "text": [
      "[서대문구 - pm10] 모델 저장 완료 ✅\n",
      "[서대문구 - pm25] 모델 저장 완료 ✅\n"
     ]
    },
    {
     "name": "stderr",
     "output_type": "stream",
     "text": [
      "E0000 00:00:1751547027.174823 25706283 meta_optimizer.cc:967] PluggableGraphOptimizer failed: INVALID_ARGUMENT: Failed to deserialize the `graph_buf`.\n"
     ]
    },
    {
     "name": "stdout",
     "output_type": "stream",
     "text": [
      "[서대문구] 예측 30건 저장 완료 ✅\n",
      "\n",
      "📍 서초구 처리 시작\n"
     ]
    },
    {
     "name": "stderr",
     "output_type": "stream",
     "text": [
      "E0000 00:00:1751547094.042528 25706283 meta_optimizer.cc:967] PluggableGraphOptimizer failed: INVALID_ARGUMENT: Failed to deserialize the `graph_buf`.\n",
      "WARNING:absl:You are saving your model as an HDF5 file via `model.save()` or `keras.saving.save_model(model)`. This file format is considered legacy. We recommend using instead the native Keras format, e.g. `model.save('my_model.keras')` or `keras.saving.save_model(model, 'my_model.keras')`. \n",
      "WARNING:absl:You are saving your model as an HDF5 file via `model.save()` or `keras.saving.save_model(model)`. This file format is considered legacy. We recommend using instead the native Keras format, e.g. `model.save('my_model.keras')` or `keras.saving.save_model(model, 'my_model.keras')`. \n"
     ]
    },
    {
     "name": "stdout",
     "output_type": "stream",
     "text": [
      "[서초구 - pm10] 모델 저장 완료 ✅\n",
      "[서초구 - pm25] 모델 저장 완료 ✅\n"
     ]
    },
    {
     "name": "stderr",
     "output_type": "stream",
     "text": [
      "E0000 00:00:1751547161.506826 25706283 meta_optimizer.cc:967] PluggableGraphOptimizer failed: INVALID_ARGUMENT: Failed to deserialize the `graph_buf`.\n"
     ]
    },
    {
     "name": "stdout",
     "output_type": "stream",
     "text": [
      "[서초구] 예측 30건 저장 완료 ✅\n",
      "\n",
      "📍 성동구 처리 시작\n"
     ]
    },
    {
     "name": "stderr",
     "output_type": "stream",
     "text": [
      "E0000 00:00:1751547238.129340 25706283 meta_optimizer.cc:967] PluggableGraphOptimizer failed: INVALID_ARGUMENT: Failed to deserialize the `graph_buf`.\n",
      "WARNING:absl:You are saving your model as an HDF5 file via `model.save()` or `keras.saving.save_model(model)`. This file format is considered legacy. We recommend using instead the native Keras format, e.g. `model.save('my_model.keras')` or `keras.saving.save_model(model, 'my_model.keras')`. \n",
      "WARNING:absl:You are saving your model as an HDF5 file via `model.save()` or `keras.saving.save_model(model)`. This file format is considered legacy. We recommend using instead the native Keras format, e.g. `model.save('my_model.keras')` or `keras.saving.save_model(model, 'my_model.keras')`. \n"
     ]
    },
    {
     "name": "stdout",
     "output_type": "stream",
     "text": [
      "[성동구 - pm10] 모델 저장 완료 ✅\n",
      "[성동구 - pm25] 모델 저장 완료 ✅\n"
     ]
    },
    {
     "name": "stderr",
     "output_type": "stream",
     "text": [
      "E0000 00:00:1751547300.944687 25706283 meta_optimizer.cc:967] PluggableGraphOptimizer failed: INVALID_ARGUMENT: Failed to deserialize the `graph_buf`.\n"
     ]
    },
    {
     "name": "stdout",
     "output_type": "stream",
     "text": [
      "[성동구] 예측 30건 저장 완료 ✅\n",
      "\n",
      "📍 성북구 처리 시작\n"
     ]
    },
    {
     "name": "stderr",
     "output_type": "stream",
     "text": [
      "E0000 00:00:1751547368.121025 25706283 meta_optimizer.cc:967] PluggableGraphOptimizer failed: INVALID_ARGUMENT: Failed to deserialize the `graph_buf`.\n",
      "WARNING:absl:You are saving your model as an HDF5 file via `model.save()` or `keras.saving.save_model(model)`. This file format is considered legacy. We recommend using instead the native Keras format, e.g. `model.save('my_model.keras')` or `keras.saving.save_model(model, 'my_model.keras')`. \n",
      "WARNING:absl:You are saving your model as an HDF5 file via `model.save()` or `keras.saving.save_model(model)`. This file format is considered legacy. We recommend using instead the native Keras format, e.g. `model.save('my_model.keras')` or `keras.saving.save_model(model, 'my_model.keras')`. \n"
     ]
    },
    {
     "name": "stdout",
     "output_type": "stream",
     "text": [
      "[성북구 - pm10] 모델 저장 완료 ✅\n",
      "[성북구 - pm25] 모델 저장 완료 ✅\n"
     ]
    },
    {
     "name": "stderr",
     "output_type": "stream",
     "text": [
      "E0000 00:00:1751547435.537767 25706283 meta_optimizer.cc:967] PluggableGraphOptimizer failed: INVALID_ARGUMENT: Failed to deserialize the `graph_buf`.\n"
     ]
    },
    {
     "name": "stdout",
     "output_type": "stream",
     "text": [
      "[성북구] 예측 30건 저장 완료 ✅\n",
      "\n",
      "📍 송파구 처리 시작\n"
     ]
    },
    {
     "name": "stderr",
     "output_type": "stream",
     "text": [
      "E0000 00:00:1751547498.573107 25706283 meta_optimizer.cc:967] PluggableGraphOptimizer failed: INVALID_ARGUMENT: Failed to deserialize the `graph_buf`.\n",
      "E0000 00:00:1751547580.398891 25706283 meta_optimizer.cc:967] PluggableGraphOptimizer failed: INVALID_ARGUMENT: Failed to deserialize the `graph_buf`.\n",
      "WARNING:absl:You are saving your model as an HDF5 file via `model.save()` or `keras.saving.save_model(model)`. This file format is considered legacy. We recommend using instead the native Keras format, e.g. `model.save('my_model.keras')` or `keras.saving.save_model(model, 'my_model.keras')`. \n",
      "WARNING:absl:You are saving your model as an HDF5 file via `model.save()` or `keras.saving.save_model(model)`. This file format is considered legacy. We recommend using instead the native Keras format, e.g. `model.save('my_model.keras')` or `keras.saving.save_model(model, 'my_model.keras')`. \n"
     ]
    },
    {
     "name": "stdout",
     "output_type": "stream",
     "text": [
      "[송파구 - pm10] 모델 저장 완료 ✅\n",
      "[송파구 - pm25] 모델 저장 완료 ✅\n",
      "[송파구] 예측 30건 저장 완료 ✅\n",
      "\n",
      "📍 양천구 처리 시작\n"
     ]
    },
    {
     "name": "stderr",
     "output_type": "stream",
     "text": [
      "E0000 00:00:1751547677.055273 25706283 meta_optimizer.cc:967] PluggableGraphOptimizer failed: INVALID_ARGUMENT: Failed to deserialize the `graph_buf`.\n",
      "E0000 00:00:1751547775.318761 25706283 meta_optimizer.cc:967] PluggableGraphOptimizer failed: INVALID_ARGUMENT: Failed to deserialize the `graph_buf`.\n",
      "WARNING:absl:You are saving your model as an HDF5 file via `model.save()` or `keras.saving.save_model(model)`. This file format is considered legacy. We recommend using instead the native Keras format, e.g. `model.save('my_model.keras')` or `keras.saving.save_model(model, 'my_model.keras')`. \n",
      "WARNING:absl:You are saving your model as an HDF5 file via `model.save()` or `keras.saving.save_model(model)`. This file format is considered legacy. We recommend using instead the native Keras format, e.g. `model.save('my_model.keras')` or `keras.saving.save_model(model, 'my_model.keras')`. \n"
     ]
    },
    {
     "name": "stdout",
     "output_type": "stream",
     "text": [
      "[양천구 - pm10] 모델 저장 완료 ✅\n",
      "[양천구 - pm25] 모델 저장 완료 ✅\n",
      "[양천구] 예측 30건 저장 완료 ✅\n",
      "\n",
      "📍 영등포구 처리 시작\n"
     ]
    },
    {
     "name": "stderr",
     "output_type": "stream",
     "text": [
      "E0000 00:00:1751547887.252354 25706283 meta_optimizer.cc:967] PluggableGraphOptimizer failed: INVALID_ARGUMENT: Failed to deserialize the `graph_buf`.\n",
      "E0000 00:00:1751547951.478719 25706283 meta_optimizer.cc:967] PluggableGraphOptimizer failed: INVALID_ARGUMENT: Failed to deserialize the `graph_buf`.\n",
      "WARNING:absl:You are saving your model as an HDF5 file via `model.save()` or `keras.saving.save_model(model)`. This file format is considered legacy. We recommend using instead the native Keras format, e.g. `model.save('my_model.keras')` or `keras.saving.save_model(model, 'my_model.keras')`. \n",
      "WARNING:absl:You are saving your model as an HDF5 file via `model.save()` or `keras.saving.save_model(model)`. This file format is considered legacy. We recommend using instead the native Keras format, e.g. `model.save('my_model.keras')` or `keras.saving.save_model(model, 'my_model.keras')`. \n"
     ]
    },
    {
     "name": "stdout",
     "output_type": "stream",
     "text": [
      "[영등포구 - pm10] 모델 저장 완료 ✅\n",
      "[영등포구 - pm25] 모델 저장 완료 ✅\n",
      "[영등포구] 예측 30건 저장 완료 ✅\n",
      "\n",
      "📍 용산구 처리 시작\n"
     ]
    },
    {
     "name": "stderr",
     "output_type": "stream",
     "text": [
      "E0000 00:00:1751548015.667163 25706283 meta_optimizer.cc:967] PluggableGraphOptimizer failed: INVALID_ARGUMENT: Failed to deserialize the `graph_buf`.\n",
      "E0000 00:00:1751548109.679926 25706283 meta_optimizer.cc:967] PluggableGraphOptimizer failed: INVALID_ARGUMENT: Failed to deserialize the `graph_buf`.\n",
      "WARNING:absl:You are saving your model as an HDF5 file via `model.save()` or `keras.saving.save_model(model)`. This file format is considered legacy. We recommend using instead the native Keras format, e.g. `model.save('my_model.keras')` or `keras.saving.save_model(model, 'my_model.keras')`. \n",
      "WARNING:absl:You are saving your model as an HDF5 file via `model.save()` or `keras.saving.save_model(model)`. This file format is considered legacy. We recommend using instead the native Keras format, e.g. `model.save('my_model.keras')` or `keras.saving.save_model(model, 'my_model.keras')`. \n"
     ]
    },
    {
     "name": "stdout",
     "output_type": "stream",
     "text": [
      "[용산구 - pm10] 모델 저장 완료 ✅\n",
      "[용산구 - pm25] 모델 저장 완료 ✅\n",
      "[용산구] 예측 30건 저장 완료 ✅\n",
      "\n",
      "📍 은평구 처리 시작\n"
     ]
    },
    {
     "name": "stderr",
     "output_type": "stream",
     "text": [
      "E0000 00:00:1751548176.028221 25706283 meta_optimizer.cc:967] PluggableGraphOptimizer failed: INVALID_ARGUMENT: Failed to deserialize the `graph_buf`.\n",
      "E0000 00:00:1751548252.274330 25706283 meta_optimizer.cc:967] PluggableGraphOptimizer failed: INVALID_ARGUMENT: Failed to deserialize the `graph_buf`.\n",
      "WARNING:absl:You are saving your model as an HDF5 file via `model.save()` or `keras.saving.save_model(model)`. This file format is considered legacy. We recommend using instead the native Keras format, e.g. `model.save('my_model.keras')` or `keras.saving.save_model(model, 'my_model.keras')`. \n",
      "WARNING:absl:You are saving your model as an HDF5 file via `model.save()` or `keras.saving.save_model(model)`. This file format is considered legacy. We recommend using instead the native Keras format, e.g. `model.save('my_model.keras')` or `keras.saving.save_model(model, 'my_model.keras')`. \n"
     ]
    },
    {
     "name": "stdout",
     "output_type": "stream",
     "text": [
      "[은평구 - pm10] 모델 저장 완료 ✅\n",
      "[은평구 - pm25] 모델 저장 완료 ✅\n",
      "[은평구] 예측 30건 저장 완료 ✅\n",
      "\n",
      "📍 종로구 처리 시작\n"
     ]
    },
    {
     "name": "stderr",
     "output_type": "stream",
     "text": [
      "E0000 00:00:1751548338.549985 25706283 meta_optimizer.cc:967] PluggableGraphOptimizer failed: INVALID_ARGUMENT: Failed to deserialize the `graph_buf`.\n",
      "WARNING:absl:You are saving your model as an HDF5 file via `model.save()` or `keras.saving.save_model(model)`. This file format is considered legacy. We recommend using instead the native Keras format, e.g. `model.save('my_model.keras')` or `keras.saving.save_model(model, 'my_model.keras')`. \n",
      "WARNING:absl:You are saving your model as an HDF5 file via `model.save()` or `keras.saving.save_model(model)`. This file format is considered legacy. We recommend using instead the native Keras format, e.g. `model.save('my_model.keras')` or `keras.saving.save_model(model, 'my_model.keras')`. \n"
     ]
    },
    {
     "name": "stdout",
     "output_type": "stream",
     "text": [
      "[종로구 - pm10] 모델 저장 완료 ✅\n",
      "[종로구 - pm25] 모델 저장 완료 ✅\n"
     ]
    },
    {
     "name": "stderr",
     "output_type": "stream",
     "text": [
      "E0000 00:00:1751548407.270317 25706283 meta_optimizer.cc:967] PluggableGraphOptimizer failed: INVALID_ARGUMENT: Failed to deserialize the `graph_buf`.\n"
     ]
    },
    {
     "name": "stdout",
     "output_type": "stream",
     "text": [
      "[종로구] 예측 30건 저장 완료 ✅\n",
      "\n",
      "📍 중구 처리 시작\n"
     ]
    },
    {
     "name": "stderr",
     "output_type": "stream",
     "text": [
      "E0000 00:00:1751548477.979665 25706283 meta_optimizer.cc:967] PluggableGraphOptimizer failed: INVALID_ARGUMENT: Failed to deserialize the `graph_buf`.\n",
      "WARNING:absl:You are saving your model as an HDF5 file via `model.save()` or `keras.saving.save_model(model)`. This file format is considered legacy. We recommend using instead the native Keras format, e.g. `model.save('my_model.keras')` or `keras.saving.save_model(model, 'my_model.keras')`. \n",
      "WARNING:absl:You are saving your model as an HDF5 file via `model.save()` or `keras.saving.save_model(model)`. This file format is considered legacy. We recommend using instead the native Keras format, e.g. `model.save('my_model.keras')` or `keras.saving.save_model(model, 'my_model.keras')`. \n"
     ]
    },
    {
     "name": "stdout",
     "output_type": "stream",
     "text": [
      "[중구 - pm10] 모델 저장 완료 ✅\n",
      "[중구 - pm25] 모델 저장 완료 ✅\n"
     ]
    },
    {
     "name": "stderr",
     "output_type": "stream",
     "text": [
      "E0000 00:00:1751548544.993431 25706283 meta_optimizer.cc:967] PluggableGraphOptimizer failed: INVALID_ARGUMENT: Failed to deserialize the `graph_buf`.\n"
     ]
    },
    {
     "name": "stdout",
     "output_type": "stream",
     "text": [
      "[중구] 예측 30건 저장 완료 ✅\n",
      "\n",
      "📍 중랑구 처리 시작\n"
     ]
    },
    {
     "name": "stderr",
     "output_type": "stream",
     "text": [
      "E0000 00:00:1751548627.464782 25706283 meta_optimizer.cc:967] PluggableGraphOptimizer failed: INVALID_ARGUMENT: Failed to deserialize the `graph_buf`.\n",
      "E0000 00:00:1751548696.406064 25706283 meta_optimizer.cc:967] PluggableGraphOptimizer failed: INVALID_ARGUMENT: Failed to deserialize the `graph_buf`.\n",
      "WARNING:absl:You are saving your model as an HDF5 file via `model.save()` or `keras.saving.save_model(model)`. This file format is considered legacy. We recommend using instead the native Keras format, e.g. `model.save('my_model.keras')` or `keras.saving.save_model(model, 'my_model.keras')`. \n",
      "WARNING:absl:You are saving your model as an HDF5 file via `model.save()` or `keras.saving.save_model(model)`. This file format is considered legacy. We recommend using instead the native Keras format, e.g. `model.save('my_model.keras')` or `keras.saving.save_model(model, 'my_model.keras')`. \n"
     ]
    },
    {
     "name": "stdout",
     "output_type": "stream",
     "text": [
      "[중랑구 - pm10] 모델 저장 완료 ✅\n",
      "[중랑구 - pm25] 모델 저장 완료 ✅\n",
      "[중랑구] 예측 30건 저장 완료 ✅\n"
     ]
    }
   ],
   "source": [
    "regions = df['region'].unique()\n",
    "\n",
    "for region in regions:\n",
    "    print(f\"\\n📍 {region} 처리 시작\")\n",
    "\n",
    "    pm10_series = prepare_series(df, region, 'pm10')\n",
    "    pm25_series = prepare_series(df, region, 'pm25')\n",
    "\n",
    "    # ① 학습\n",
    "    pm10_model, pm10_scaler, pm10_scaled = train_lstm_model(pm10_series)\n",
    "    pm25_model, pm25_scaler, pm25_scaled = train_lstm_model(pm25_series)\n",
    "\n",
    "    # ② 모델 저장\n",
    "    save_model_to_db(pm10_model, region, 'pm10')\n",
    "    save_model_to_db(pm25_model, region, 'pm25')\n",
    "\n",
    "    # ③ 예측\n",
    "    pm10_pred_df = forecast_future(pm10_model, pm10_scaler, pm10_series, pm10_scaled)\n",
    "    pm25_pred_df = forecast_future(pm25_model, pm25_scaler, pm25_series, pm25_scaled)\n",
    "\n",
    "    # ④ 예측 저장\n",
    "    save_forecast_to_db(pm10_pred_df, pm25_pred_df, region)"
   ]
  }
 ],
 "metadata": {
  "kernelspec": {
   "display_name": "base",
   "language": "python",
   "name": "python3"
  },
  "language_info": {
   "codemirror_mode": {
    "name": "ipython",
    "version": 3
   },
   "file_extension": ".py",
   "mimetype": "text/x-python",
   "name": "python",
   "nbconvert_exporter": "python",
   "pygments_lexer": "ipython3",
   "version": "3.12.2"
  }
 },
 "nbformat": 4,
 "nbformat_minor": 5
}
