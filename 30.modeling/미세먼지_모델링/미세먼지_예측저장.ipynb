{
 "cells": [
  {
   "cell_type": "code",
   "execution_count": 36,
   "id": "e7ffc539",
   "metadata": {},
   "outputs": [],
   "source": [
    "import pandas as pd\n",
    "from datetime import datetime\n",
    "from sqlalchemy import create_engine, Table, Column, Integer, String, LargeBinary, Text, MetaData, DateTime\n",
    "import json\n",
    "\n",
    "\n",
    "with open('db-config.json') as f:\n",
    "    config = json.load(f)\n",
    "\n",
    "user = config['user']\n",
    "password = config['password']\n",
    "host = config['host']\n",
    "port = config['port']\n",
    "database = config['database']\n",
    "\n",
    "engine = create_engine(f\"mysql+pymysql://{user}:{password}@{host}:{port}/{database}\",\n",
    "                       connect_args={\"connect_timeout\": 30, \"read_timeout\": 120, \"write_timeout\": 120},\n",
    "                        pool_pre_ping=True)"
   ]
  },
  {
   "cell_type": "code",
   "execution_count": 37,
   "id": "e6e9d6ae",
   "metadata": {},
   "outputs": [],
   "source": [
    "# air_quality_dataset 테이블 데이터 읽어오기\n",
    "query = \"SELECT * FROM air_quality_dataset\"\n",
    "df = pd.read_sql(query, con=engine)"
   ]
  },
  {
   "cell_type": "code",
   "execution_count": 38,
   "id": "a9a00329",
   "metadata": {},
   "outputs": [],
   "source": [
    "from sqlalchemy import Table, Column, Integer, String, LargeBinary, DateTime, MetaData\n",
    "\n",
    "metadata = MetaData()\n",
    "\n",
    "models_table = Table('models', metadata, autoload_with=engine)"
   ]
  },
  {
   "cell_type": "code",
   "execution_count": 39,
   "id": "57a494d1",
   "metadata": {},
   "outputs": [],
   "source": [
    "from sqlalchemy import select\n",
    "from keras.models import load_model\n",
    "from io import BytesIO\n",
    "import tempfile\n",
    "import os\n",
    "\n",
    "def load_latest_model(conn, target, region):\n",
    "    query = models_table.select().where(\n",
    "        models_table.c.name == f\"lstm_{target}_{region}\"\n",
    "    ).order_by(models_table.c.created_at.desc()).limit(1)\n",
    "\n",
    "    result = conn.execute(query).mappings().fetchone()\n",
    "    if result is None:\n",
    "        raise ValueError(f\"No model found for {target} - {region}\")\n",
    "\n",
    "    model_binary = result['data']\n",
    "\n",
    "    # 🔧 임시 파일에 저장\n",
    "    with tempfile.NamedTemporaryFile(suffix=\".h5\", delete=False) as tmp:\n",
    "        tmp.write(model_binary)\n",
    "        tmp.flush()\n",
    "        tmp_path = tmp.name  # 경로 저장\n",
    "\n",
    "    try:\n",
    "        model = load_model(tmp_path, compile=False)\n",
    "        model.compile(optimizer='adam', loss='mse')\n",
    "    finally:\n",
    "        os.remove(tmp_path)  # 사용 후 삭제\n",
    "\n",
    "    return model"
   ]
  },
  {
   "cell_type": "code",
   "execution_count": 40,
   "id": "b158de40",
   "metadata": {},
   "outputs": [],
   "source": [
    "def get_input_data_for_region(region, window_size=30):\n",
    "    df_region = df[df['region'] == region].sort_values('datetime', ascending=False).head(window_size)\n",
    "\n",
    "    if len(df_region) < window_size:\n",
    "        raise ValueError(f\"{region} 데이터 부족: {len(df_region)} rows\")\n",
    "\n",
    "    X = df_region[feature_cols].iloc[::-1].values  # 시간순 정렬 (과거 → 현재)\n",
    "    return X.reshape(1, window_size, len(feature_cols))"
   ]
  },
  {
   "cell_type": "code",
   "execution_count": 41,
   "id": "3e07f549",
   "metadata": {},
   "outputs": [],
   "source": [
    "def generate_prediction(model, input_data, output_len=31):\n",
    "    pred = model.predict(input_data)\n",
    "    pred = pred.reshape(-1)[:output_len]\n",
    "    return pred"
   ]
  },
  {
   "cell_type": "code",
   "execution_count": 42,
   "id": "3d7b31af",
   "metadata": {},
   "outputs": [],
   "source": [
    "def save_predictions(conn, region, start_datetime, pm10_preds, pm25_preds):\n",
    "    data = []\n",
    "    for i in range(len(pm10_preds)):\n",
    "        dt = start_datetime + timedelta(days=i)\n",
    "        row = {\n",
    "            'datetime': dt,\n",
    "            'region': region,\n",
    "            'pm10': float(pm10_preds[i]),\n",
    "            'pm25': float(pm25_preds[i])\n",
    "        }\n",
    "        data.append(row)\n",
    "\n",
    "    # ✅ 여러 행을 한 번에 insert (list of dicts)\n",
    "    conn.execute(pred_table.insert(), data)\n",
    "    conn.commit()"
   ]
  },
  {
   "cell_type": "code",
   "execution_count": 43,
   "id": "ae8dc847",
   "metadata": {},
   "outputs": [],
   "source": [
    "with engine.connect() as conn:\n",
    "    region_list = pd.read_sql(\"SELECT DISTINCT region FROM air_quality\", conn)['region'].tolist()"
   ]
  },
  {
   "cell_type": "code",
   "execution_count": 44,
   "id": "09b8fb88",
   "metadata": {},
   "outputs": [],
   "source": [
    "feature_cols = ['aod_avg', 'wind_speed', 'precipitation']\n",
    "target_cols = ['pm10', 'pm25']"
   ]
  },
  {
   "cell_type": "code",
   "execution_count": 45,
   "id": "7e15b315",
   "metadata": {},
   "outputs": [],
   "source": [
    "from sqlalchemy import MetaData, Table\n",
    "\n",
    "metadata = MetaData()\n",
    "\n",
    "pred_table = Table(\n",
    "    \"air_quality_day_pred\", metadata, autoload_with=engine\n",
    ")"
   ]
  },
  {
   "cell_type": "code",
   "execution_count": 46,
   "id": "77b072e5",
   "metadata": {},
   "outputs": [
    {
     "name": "stdout",
     "output_type": "stream",
     "text": [
      "\n",
      "🚀 강남구 예측 시작\n"
     ]
    },
    {
     "name": "stderr",
     "output_type": "stream",
     "text": [
      "E0000 00:00:1751474987.473135 23469208 meta_optimizer.cc:967] PluggableGraphOptimizer failed: INVALID_ARGUMENT: Failed to deserialize the `graph_buf`.\n"
     ]
    },
    {
     "name": "stdout",
     "output_type": "stream",
     "text": [
      "\u001b[1m1/1\u001b[0m \u001b[32m━━━━━━━━━━━━━━━━━━━━\u001b[0m\u001b[37m\u001b[0m \u001b[1m1s\u001b[0m 517ms/step\n",
      "\u001b[1m1/1\u001b[0m \u001b[32m━━━━━━━━━━━━━━━━━━━━\u001b[0m\u001b[37m\u001b[0m \u001b[1m0s\u001b[0m 380ms/step\n",
      "✅ 강남구 예측 완료 및 저장\n",
      "\n",
      "🚀 강동구 예측 시작\n",
      "\u001b[1m1/1\u001b[0m \u001b[32m━━━━━━━━━━━━━━━━━━━━\u001b[0m\u001b[37m\u001b[0m \u001b[1m0s\u001b[0m 446ms/step\n",
      "\u001b[1m1/1\u001b[0m \u001b[32m━━━━━━━━━━━━━━━━━━━━\u001b[0m\u001b[37m\u001b[0m \u001b[1m0s\u001b[0m 365ms/step\n",
      "✅ 강동구 예측 완료 및 저장\n",
      "\n",
      "🚀 강북구 예측 시작\n",
      "\u001b[1m1/1\u001b[0m \u001b[32m━━━━━━━━━━━━━━━━━━━━\u001b[0m\u001b[37m\u001b[0m \u001b[1m0s\u001b[0m 427ms/step\n",
      "\u001b[1m1/1\u001b[0m \u001b[32m━━━━━━━━━━━━━━━━━━━━\u001b[0m\u001b[37m\u001b[0m \u001b[1m0s\u001b[0m 439ms/step\n",
      "✅ 강북구 예측 완료 및 저장\n",
      "\n",
      "🚀 강서구 예측 시작\n"
     ]
    },
    {
     "name": "stderr",
     "output_type": "stream",
     "text": [
      "E0000 00:00:1751475059.065720 23469208 meta_optimizer.cc:967] PluggableGraphOptimizer failed: INVALID_ARGUMENT: Failed to deserialize the `graph_buf`.\n"
     ]
    },
    {
     "name": "stdout",
     "output_type": "stream",
     "text": [
      "\u001b[1m1/1\u001b[0m \u001b[32m━━━━━━━━━━━━━━━━━━━━\u001b[0m\u001b[37m\u001b[0m \u001b[1m0s\u001b[0m 369ms/step\n",
      "\u001b[1m1/1\u001b[0m \u001b[32m━━━━━━━━━━━━━━━━━━━━\u001b[0m\u001b[37m\u001b[0m \u001b[1m0s\u001b[0m 293ms/step\n",
      "✅ 강서구 예측 완료 및 저장\n",
      "\n",
      "🚀 관악구 예측 시작\n",
      "\u001b[1m1/1\u001b[0m \u001b[32m━━━━━━━━━━━━━━━━━━━━\u001b[0m\u001b[37m\u001b[0m \u001b[1m0s\u001b[0m 429ms/step\n",
      "\u001b[1m1/1\u001b[0m \u001b[32m━━━━━━━━━━━━━━━━━━━━\u001b[0m\u001b[37m\u001b[0m \u001b[1m0s\u001b[0m 368ms/step\n",
      "✅ 관악구 예측 완료 및 저장\n",
      "\n",
      "🚀 광진구 예측 시작\n",
      "\u001b[1m1/1\u001b[0m \u001b[32m━━━━━━━━━━━━━━━━━━━━\u001b[0m\u001b[37m\u001b[0m \u001b[1m0s\u001b[0m 319ms/step\n",
      "\u001b[1m1/1\u001b[0m \u001b[32m━━━━━━━━━━━━━━━━━━━━\u001b[0m\u001b[37m\u001b[0m \u001b[1m0s\u001b[0m 379ms/step\n",
      "✅ 광진구 예측 완료 및 저장\n",
      "\n",
      "🚀 구로구 예측 시작\n"
     ]
    },
    {
     "name": "stderr",
     "output_type": "stream",
     "text": [
      "E0000 00:00:1751475130.179370 23469208 meta_optimizer.cc:967] PluggableGraphOptimizer failed: INVALID_ARGUMENT: Failed to deserialize the `graph_buf`.\n"
     ]
    },
    {
     "name": "stdout",
     "output_type": "stream",
     "text": [
      "\u001b[1m1/1\u001b[0m \u001b[32m━━━━━━━━━━━━━━━━━━━━\u001b[0m\u001b[37m\u001b[0m \u001b[1m0s\u001b[0m 307ms/step\n",
      "\u001b[1m1/1\u001b[0m \u001b[32m━━━━━━━━━━━━━━━━━━━━\u001b[0m\u001b[37m\u001b[0m \u001b[1m0s\u001b[0m 280ms/step\n",
      "✅ 구로구 예측 완료 및 저장\n",
      "\n",
      "🚀 금천구 예측 시작\n",
      "\u001b[1m1/1\u001b[0m \u001b[32m━━━━━━━━━━━━━━━━━━━━\u001b[0m\u001b[37m\u001b[0m \u001b[1m0s\u001b[0m 301ms/step\n",
      "\u001b[1m1/1\u001b[0m \u001b[32m━━━━━━━━━━━━━━━━━━━━\u001b[0m\u001b[37m\u001b[0m \u001b[1m0s\u001b[0m 336ms/step\n",
      "✅ 금천구 예측 완료 및 저장\n",
      "\n",
      "🚀 노원구 예측 시작\n",
      "\u001b[1m1/1\u001b[0m \u001b[32m━━━━━━━━━━━━━━━━━━━━\u001b[0m\u001b[37m\u001b[0m \u001b[1m0s\u001b[0m 305ms/step\n",
      "\u001b[1m1/1\u001b[0m \u001b[32m━━━━━━━━━━━━━━━━━━━━\u001b[0m\u001b[37m\u001b[0m \u001b[1m0s\u001b[0m 410ms/step\n",
      "✅ 노원구 예측 완료 및 저장\n",
      "\n",
      "🚀 도봉구 예측 시작\n"
     ]
    },
    {
     "name": "stderr",
     "output_type": "stream",
     "text": [
      "E0000 00:00:1751475199.661796 23469208 meta_optimizer.cc:967] PluggableGraphOptimizer failed: INVALID_ARGUMENT: Failed to deserialize the `graph_buf`.\n"
     ]
    },
    {
     "name": "stdout",
     "output_type": "stream",
     "text": [
      "\u001b[1m1/1\u001b[0m \u001b[32m━━━━━━━━━━━━━━━━━━━━\u001b[0m\u001b[37m\u001b[0m \u001b[1m0s\u001b[0m 311ms/step\n",
      "\u001b[1m1/1\u001b[0m \u001b[32m━━━━━━━━━━━━━━━━━━━━\u001b[0m\u001b[37m\u001b[0m \u001b[1m0s\u001b[0m 338ms/step\n",
      "✅ 도봉구 예측 완료 및 저장\n",
      "\n",
      "🚀 동대문구 예측 시작\n",
      "\u001b[1m1/1\u001b[0m \u001b[32m━━━━━━━━━━━━━━━━━━━━\u001b[0m\u001b[37m\u001b[0m \u001b[1m0s\u001b[0m 339ms/step\n",
      "\u001b[1m1/1\u001b[0m \u001b[32m━━━━━━━━━━━━━━━━━━━━\u001b[0m\u001b[37m\u001b[0m \u001b[1m0s\u001b[0m 319ms/step\n",
      "✅ 동대문구 예측 완료 및 저장\n",
      "\n",
      "🚀 동작구 예측 시작\n",
      "\u001b[1m1/1\u001b[0m \u001b[32m━━━━━━━━━━━━━━━━━━━━\u001b[0m\u001b[37m\u001b[0m \u001b[1m0s\u001b[0m 381ms/step\n",
      "\u001b[1m1/1\u001b[0m \u001b[32m━━━━━━━━━━━━━━━━━━━━\u001b[0m\u001b[37m\u001b[0m \u001b[1m0s\u001b[0m 326ms/step\n",
      "✅ 동작구 예측 완료 및 저장\n",
      "\n",
      "🚀 마포구 예측 시작\n"
     ]
    },
    {
     "name": "stderr",
     "output_type": "stream",
     "text": [
      "E0000 00:00:1751475270.229969 23469208 meta_optimizer.cc:967] PluggableGraphOptimizer failed: INVALID_ARGUMENT: Failed to deserialize the `graph_buf`.\n"
     ]
    },
    {
     "name": "stdout",
     "output_type": "stream",
     "text": [
      "\u001b[1m1/1\u001b[0m \u001b[32m━━━━━━━━━━━━━━━━━━━━\u001b[0m\u001b[37m\u001b[0m \u001b[1m0s\u001b[0m 360ms/step\n",
      "\u001b[1m1/1\u001b[0m \u001b[32m━━━━━━━━━━━━━━━━━━━━\u001b[0m\u001b[37m\u001b[0m \u001b[1m0s\u001b[0m 291ms/step\n",
      "✅ 마포구 예측 완료 및 저장\n",
      "\n",
      "🚀 서대문구 예측 시작\n",
      "\u001b[1m1/1\u001b[0m \u001b[32m━━━━━━━━━━━━━━━━━━━━\u001b[0m\u001b[37m\u001b[0m \u001b[1m0s\u001b[0m 338ms/step\n",
      "\u001b[1m1/1\u001b[0m \u001b[32m━━━━━━━━━━━━━━━━━━━━\u001b[0m\u001b[37m\u001b[0m \u001b[1m0s\u001b[0m 335ms/step\n",
      "✅ 서대문구 예측 완료 및 저장\n",
      "\n",
      "🚀 서초구 예측 시작\n",
      "\u001b[1m1/1\u001b[0m \u001b[32m━━━━━━━━━━━━━━━━━━━━\u001b[0m\u001b[37m\u001b[0m \u001b[1m0s\u001b[0m 375ms/step\n",
      "\u001b[1m1/1\u001b[0m \u001b[32m━━━━━━━━━━━━━━━━━━━━\u001b[0m\u001b[37m\u001b[0m \u001b[1m0s\u001b[0m 346ms/step\n",
      "✅ 서초구 예측 완료 및 저장\n",
      "\n",
      "🚀 성동구 예측 시작\n"
     ]
    },
    {
     "name": "stderr",
     "output_type": "stream",
     "text": [
      "E0000 00:00:1751475339.058982 23469208 meta_optimizer.cc:967] PluggableGraphOptimizer failed: INVALID_ARGUMENT: Failed to deserialize the `graph_buf`.\n"
     ]
    },
    {
     "name": "stdout",
     "output_type": "stream",
     "text": [
      "\u001b[1m1/1\u001b[0m \u001b[32m━━━━━━━━━━━━━━━━━━━━\u001b[0m\u001b[37m\u001b[0m \u001b[1m0s\u001b[0m 370ms/step\n",
      "\u001b[1m1/1\u001b[0m \u001b[32m━━━━━━━━━━━━━━━━━━━━\u001b[0m\u001b[37m\u001b[0m \u001b[1m0s\u001b[0m 318ms/step\n",
      "✅ 성동구 예측 완료 및 저장\n",
      "\n",
      "🚀 성북구 예측 시작\n",
      "\u001b[1m1/1\u001b[0m \u001b[32m━━━━━━━━━━━━━━━━━━━━\u001b[0m\u001b[37m\u001b[0m \u001b[1m0s\u001b[0m 357ms/step\n",
      "\u001b[1m1/1\u001b[0m \u001b[32m━━━━━━━━━━━━━━━━━━━━\u001b[0m\u001b[37m\u001b[0m \u001b[1m0s\u001b[0m 334ms/step\n",
      "✅ 성북구 예측 완료 및 저장\n",
      "\n",
      "🚀 송파구 예측 시작\n",
      "\u001b[1m1/1\u001b[0m \u001b[32m━━━━━━━━━━━━━━━━━━━━\u001b[0m\u001b[37m\u001b[0m \u001b[1m0s\u001b[0m 332ms/step\n",
      "\u001b[1m1/1\u001b[0m \u001b[32m━━━━━━━━━━━━━━━━━━━━\u001b[0m\u001b[37m\u001b[0m \u001b[1m0s\u001b[0m 305ms/step\n",
      "✅ 송파구 예측 완료 및 저장\n",
      "\n",
      "🚀 양천구 예측 시작\n"
     ]
    },
    {
     "name": "stderr",
     "output_type": "stream",
     "text": [
      "E0000 00:00:1751475406.987012 23469208 meta_optimizer.cc:967] PluggableGraphOptimizer failed: INVALID_ARGUMENT: Failed to deserialize the `graph_buf`.\n"
     ]
    },
    {
     "name": "stdout",
     "output_type": "stream",
     "text": [
      "\u001b[1m1/1\u001b[0m \u001b[32m━━━━━━━━━━━━━━━━━━━━\u001b[0m\u001b[37m\u001b[0m \u001b[1m0s\u001b[0m 374ms/step\n",
      "\u001b[1m1/1\u001b[0m \u001b[32m━━━━━━━━━━━━━━━━━━━━\u001b[0m\u001b[37m\u001b[0m \u001b[1m0s\u001b[0m 347ms/step\n",
      "✅ 양천구 예측 완료 및 저장\n",
      "\n",
      "🚀 영등포구 예측 시작\n",
      "\u001b[1m1/1\u001b[0m \u001b[32m━━━━━━━━━━━━━━━━━━━━\u001b[0m\u001b[37m\u001b[0m \u001b[1m0s\u001b[0m 374ms/step\n",
      "\u001b[1m1/1\u001b[0m \u001b[32m━━━━━━━━━━━━━━━━━━━━\u001b[0m\u001b[37m\u001b[0m \u001b[1m0s\u001b[0m 367ms/step\n",
      "✅ 영등포구 예측 완료 및 저장\n",
      "\n",
      "🚀 용산구 예측 시작\n",
      "\u001b[1m1/1\u001b[0m \u001b[32m━━━━━━━━━━━━━━━━━━━━\u001b[0m\u001b[37m\u001b[0m \u001b[1m0s\u001b[0m 358ms/step\n",
      "\u001b[1m1/1\u001b[0m \u001b[32m━━━━━━━━━━━━━━━━━━━━\u001b[0m\u001b[37m\u001b[0m \u001b[1m0s\u001b[0m 365ms/step\n",
      "✅ 용산구 예측 완료 및 저장\n",
      "\n",
      "🚀 은평구 예측 시작\n"
     ]
    },
    {
     "name": "stderr",
     "output_type": "stream",
     "text": [
      "E0000 00:00:1751475479.075698 23469208 meta_optimizer.cc:967] PluggableGraphOptimizer failed: INVALID_ARGUMENT: Failed to deserialize the `graph_buf`.\n"
     ]
    },
    {
     "name": "stdout",
     "output_type": "stream",
     "text": [
      "\u001b[1m1/1\u001b[0m \u001b[32m━━━━━━━━━━━━━━━━━━━━\u001b[0m\u001b[37m\u001b[0m \u001b[1m0s\u001b[0m 375ms/step\n",
      "\u001b[1m1/1\u001b[0m \u001b[32m━━━━━━━━━━━━━━━━━━━━\u001b[0m\u001b[37m\u001b[0m \u001b[1m0s\u001b[0m 366ms/step\n",
      "✅ 은평구 예측 완료 및 저장\n",
      "\n",
      "🚀 종로구 예측 시작\n",
      "\u001b[1m1/1\u001b[0m \u001b[32m━━━━━━━━━━━━━━━━━━━━\u001b[0m\u001b[37m\u001b[0m \u001b[1m1s\u001b[0m 584ms/step\n",
      "\u001b[1m1/1\u001b[0m \u001b[32m━━━━━━━━━━━━━━━━━━━━\u001b[0m\u001b[37m\u001b[0m \u001b[1m0s\u001b[0m 340ms/step\n",
      "✅ 종로구 예측 완료 및 저장\n",
      "\n",
      "🚀 중구 예측 시작\n",
      "\u001b[1m1/1\u001b[0m \u001b[32m━━━━━━━━━━━━━━━━━━━━\u001b[0m\u001b[37m\u001b[0m \u001b[1m0s\u001b[0m 352ms/step\n",
      "\u001b[1m1/1\u001b[0m \u001b[32m━━━━━━━━━━━━━━━━━━━━\u001b[0m\u001b[37m\u001b[0m \u001b[1m0s\u001b[0m 338ms/step\n",
      "✅ 중구 예측 완료 및 저장\n",
      "\n",
      "🚀 중랑구 예측 시작\n"
     ]
    },
    {
     "name": "stderr",
     "output_type": "stream",
     "text": [
      "E0000 00:00:1751475549.256585 23469208 meta_optimizer.cc:967] PluggableGraphOptimizer failed: INVALID_ARGUMENT: Failed to deserialize the `graph_buf`.\n"
     ]
    },
    {
     "name": "stdout",
     "output_type": "stream",
     "text": [
      "\u001b[1m1/1\u001b[0m \u001b[32m━━━━━━━━━━━━━━━━━━━━\u001b[0m\u001b[37m\u001b[0m \u001b[1m0s\u001b[0m 412ms/step\n",
      "\u001b[1m1/1\u001b[0m \u001b[32m━━━━━━━━━━━━━━━━━━━━\u001b[0m\u001b[37m\u001b[0m \u001b[1m0s\u001b[0m 332ms/step\n",
      "✅ 중랑구 예측 완료 및 저장\n",
      "\n",
      "🚀 평균 예측 시작\n",
      "❌ 평균 실패: No model found for pm10 - 평균\n"
     ]
    }
   ],
   "source": [
    "from datetime import datetime, timezone, timedelta\n",
    "output_len = 31\n",
    "KST = timezone(timedelta(hours=9))\n",
    "start_date = datetime.now(KST).replace(hour=0, minute=0, second=0, microsecond=0)\n",
    "\n",
    "with engine.connect() as conn:\n",
    "    for region in region_list:  # 예: ['강남구', '서초구', ...]\n",
    "        try:\n",
    "            print(f\"\\n🚀 {region} 예측 시작\")\n",
    "\n",
    "            # 1. 모델 로드 (DB에서 최신 모델)\n",
    "            pm10_model = load_latest_model(conn, \"pm10\", region)\n",
    "            pm25_model = load_latest_model(conn, \"pm25\", region)\n",
    "\n",
    "            # 2. 입력 데이터\n",
    "            input_data = get_input_data_for_region(region)\n",
    "\n",
    "            # 3. 예측\n",
    "            pm10_preds = generate_prediction(pm10_model, input_data, output_len)\n",
    "            pm25_preds = generate_prediction(pm25_model, input_data, output_len)\n",
    "\n",
    "            # 4. 저장\n",
    "            save_predictions(conn, region, start_date + timedelta(days=1), pm10_preds, pm25_preds)\n",
    "\n",
    "            print(f\"✅ {region} 예측 완료 및 저장\")\n",
    "\n",
    "        except Exception as e:\n",
    "            print(f\"❌ {region} 실패: {e}\")\n"
   ]
  }
 ],
 "metadata": {
  "kernelspec": {
   "display_name": "base",
   "language": "python",
   "name": "python3"
  },
  "language_info": {
   "codemirror_mode": {
    "name": "ipython",
    "version": 3
   },
   "file_extension": ".py",
   "mimetype": "text/x-python",
   "name": "python",
   "nbconvert_exporter": "python",
   "pygments_lexer": "ipython3",
   "version": "3.12.2"
  }
 },
 "nbformat": 4,
 "nbformat_minor": 5
}
